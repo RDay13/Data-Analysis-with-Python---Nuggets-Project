{
 "cells": [
  {
   "cell_type": "code",
   "execution_count": 127,
   "metadata": {},
   "outputs": [],
   "source": [
    "import numpy as np\n",
    "import pandas as pd\n",
    "import requests\n",
    "import plotly.express as px\n",
    "\n",
    "import io\n",
    "\n",
    "from bs4 import BeautifulSoup\n",
    "\n",
    "import re\n",
    "\n",
    "import time "
   ]
  },
  {
   "cell_type": "code",
   "execution_count": 128,
   "metadata": {},
   "outputs": [],
   "source": [
    "year = 2018\n",
    "url = f\"https://www.basketball-reference.com/leagues/NBA_{year}_games.html\"\n",
    "\n",
    "# doing the web scraping\n",
    "url = url\n",
    "page = requests.get(url, headers={\n",
    "    \"User-Agent\": \"Mozilla/5.0 (Windows NT 10.0; Win64; x64) AppleWebKit/537.36 (KHTML, like Gecko) Chrome/116.0.0.0 Safari/537.36\"\n",
    "})\n",
    "soup = BeautifulSoup(page.content)\n",
    "results = soup.find_all(\"a\", href=re.compile(f\"/leagues/NBA_{year}_games-\"))"
   ]
  },
  {
   "cell_type": "code",
   "execution_count": 129,
   "metadata": {},
   "outputs": [
    {
     "data": {
      "text/plain": [
       "['/leagues/NBA_2018_games-october.html',\n",
       " '/leagues/NBA_2018_games-november.html',\n",
       " '/leagues/NBA_2018_games-december.html',\n",
       " '/leagues/NBA_2018_games-january.html',\n",
       " '/leagues/NBA_2018_games-february.html',\n",
       " '/leagues/NBA_2018_games-march.html',\n",
       " '/leagues/NBA_2018_games-april.html',\n",
       " '/leagues/NBA_2018_games-may.html',\n",
       " '/leagues/NBA_2018_games-june.html']"
      ]
     },
     "execution_count": 129,
     "metadata": {},
     "output_type": "execute_result"
    }
   ],
   "source": [
    "urls = []\n",
    "for result in results:\n",
    "    urls.append(result[\"href\"])\n",
    "urls"
   ]
  },
  {
   "cell_type": "code",
   "execution_count": 130,
   "metadata": {},
   "outputs": [],
   "source": [
    "tables = []\n",
    "\n",
    "for month in urls:\n",
    "    time.sleep(5)    # Pause 5 seconds\n",
    "\n",
    "    url = f\"https://www.basketball-reference.com/{month}\"\n",
    "\n",
    "    # doing the web scraping\n",
    "    url = url\n",
    "    page = requests.get(url, headers={\n",
    "        \"User-Agent\": \"Mozilla/5.0 (Windows NT 10.0; Win64; x64) AppleWebKit/537.36 (KHTML, like Gecko) Chrome/116.0.0.0 Safari/537.36\"\n",
    "    })\n",
    "    soup = BeautifulSoup(page.content)\n",
    "    results = soup.find_all(\"table\")\n",
    "    \n",
    "    # converting to pandas\n",
    "    df_list = pd.read_html(io.StringIO(str(results)))\n",
    "    regSeason = df_list[0]  # extract the first table\n",
    "\n",
    "    tables.append(regSeason)\n",
    "\n",
    "regSeason = pd.concat(tables)"
   ]
  },
  {
   "cell_type": "code",
   "execution_count": 131,
   "metadata": {},
   "outputs": [
    {
     "data": {
      "text/html": [
       "<div>\n",
       "<style scoped>\n",
       "    .dataframe tbody tr th:only-of-type {\n",
       "        vertical-align: middle;\n",
       "    }\n",
       "\n",
       "    .dataframe tbody tr th {\n",
       "        vertical-align: top;\n",
       "    }\n",
       "\n",
       "    .dataframe thead th {\n",
       "        text-align: right;\n",
       "    }\n",
       "</style>\n",
       "<table border=\"1\" class=\"dataframe\">\n",
       "  <thead>\n",
       "    <tr style=\"text-align: right;\">\n",
       "      <th></th>\n",
       "      <th>Date</th>\n",
       "      <th>Start (ET)</th>\n",
       "      <th>Visitor/Neutral</th>\n",
       "      <th>PTS</th>\n",
       "      <th>Home/Neutral</th>\n",
       "      <th>PTS.1</th>\n",
       "      <th>Unnamed: 6</th>\n",
       "      <th>Unnamed: 7</th>\n",
       "      <th>Attend.</th>\n",
       "      <th>Arena</th>\n",
       "      <th>Notes</th>\n",
       "    </tr>\n",
       "  </thead>\n",
       "  <tbody>\n",
       "    <tr>\n",
       "      <th>0</th>\n",
       "      <td>Tue, Oct 17, 2017</td>\n",
       "      <td>8:01p</td>\n",
       "      <td>Boston Celtics</td>\n",
       "      <td>99</td>\n",
       "      <td>Cleveland Cavaliers</td>\n",
       "      <td>102</td>\n",
       "      <td>Box Score</td>\n",
       "      <td>NaN</td>\n",
       "      <td>20562</td>\n",
       "      <td>Quicken Loans Arena</td>\n",
       "      <td>NaN</td>\n",
       "    </tr>\n",
       "    <tr>\n",
       "      <th>1</th>\n",
       "      <td>Tue, Oct 17, 2017</td>\n",
       "      <td>10:30p</td>\n",
       "      <td>Houston Rockets</td>\n",
       "      <td>122</td>\n",
       "      <td>Golden State Warriors</td>\n",
       "      <td>121</td>\n",
       "      <td>Box Score</td>\n",
       "      <td>NaN</td>\n",
       "      <td>19596</td>\n",
       "      <td>Oracle Arena</td>\n",
       "      <td>NaN</td>\n",
       "    </tr>\n",
       "    <tr>\n",
       "      <th>2</th>\n",
       "      <td>Wed, Oct 18, 2017</td>\n",
       "      <td>7:00p</td>\n",
       "      <td>Charlotte Hornets</td>\n",
       "      <td>90</td>\n",
       "      <td>Detroit Pistons</td>\n",
       "      <td>102</td>\n",
       "      <td>Box Score</td>\n",
       "      <td>NaN</td>\n",
       "      <td>20491</td>\n",
       "      <td>Little Caesars Arena</td>\n",
       "      <td>NaN</td>\n",
       "    </tr>\n",
       "    <tr>\n",
       "      <th>3</th>\n",
       "      <td>Wed, Oct 18, 2017</td>\n",
       "      <td>7:00p</td>\n",
       "      <td>Brooklyn Nets</td>\n",
       "      <td>131</td>\n",
       "      <td>Indiana Pacers</td>\n",
       "      <td>140</td>\n",
       "      <td>Box Score</td>\n",
       "      <td>NaN</td>\n",
       "      <td>15008</td>\n",
       "      <td>Bankers Life Fieldhouse</td>\n",
       "      <td>NaN</td>\n",
       "    </tr>\n",
       "    <tr>\n",
       "      <th>4</th>\n",
       "      <td>Wed, Oct 18, 2017</td>\n",
       "      <td>7:00p</td>\n",
       "      <td>Miami Heat</td>\n",
       "      <td>109</td>\n",
       "      <td>Orlando Magic</td>\n",
       "      <td>116</td>\n",
       "      <td>Box Score</td>\n",
       "      <td>NaN</td>\n",
       "      <td>18846</td>\n",
       "      <td>Amway Center</td>\n",
       "      <td>NaN</td>\n",
       "    </tr>\n",
       "    <tr>\n",
       "      <th>...</th>\n",
       "      <td>...</td>\n",
       "      <td>...</td>\n",
       "      <td>...</td>\n",
       "      <td>...</td>\n",
       "      <td>...</td>\n",
       "      <td>...</td>\n",
       "      <td>...</td>\n",
       "      <td>...</td>\n",
       "      <td>...</td>\n",
       "      <td>...</td>\n",
       "      <td>...</td>\n",
       "    </tr>\n",
       "    <tr>\n",
       "      <th>29</th>\n",
       "      <td>Mon, May 28, 2018</td>\n",
       "      <td>9:00p</td>\n",
       "      <td>Golden State Warriors</td>\n",
       "      <td>101</td>\n",
       "      <td>Houston Rockets</td>\n",
       "      <td>92</td>\n",
       "      <td>Box Score</td>\n",
       "      <td>NaN</td>\n",
       "      <td>18055</td>\n",
       "      <td>Toyota Center</td>\n",
       "      <td>NaN</td>\n",
       "    </tr>\n",
       "    <tr>\n",
       "      <th>30</th>\n",
       "      <td>Thu, May 31, 2018</td>\n",
       "      <td>9:00p</td>\n",
       "      <td>Cleveland Cavaliers</td>\n",
       "      <td>114</td>\n",
       "      <td>Golden State Warriors</td>\n",
       "      <td>124</td>\n",
       "      <td>Box Score</td>\n",
       "      <td>OT</td>\n",
       "      <td>19596</td>\n",
       "      <td>Oracle Arena</td>\n",
       "      <td>NaN</td>\n",
       "    </tr>\n",
       "    <tr>\n",
       "      <th>0</th>\n",
       "      <td>Sun, Jun 3, 2018</td>\n",
       "      <td>8:00p</td>\n",
       "      <td>Cleveland Cavaliers</td>\n",
       "      <td>103</td>\n",
       "      <td>Golden State Warriors</td>\n",
       "      <td>122</td>\n",
       "      <td>Box Score</td>\n",
       "      <td>NaN</td>\n",
       "      <td>19596</td>\n",
       "      <td>Oracle Arena</td>\n",
       "      <td>NaN</td>\n",
       "    </tr>\n",
       "    <tr>\n",
       "      <th>1</th>\n",
       "      <td>Wed, Jun 6, 2018</td>\n",
       "      <td>9:00p</td>\n",
       "      <td>Golden State Warriors</td>\n",
       "      <td>110</td>\n",
       "      <td>Cleveland Cavaliers</td>\n",
       "      <td>102</td>\n",
       "      <td>Box Score</td>\n",
       "      <td>NaN</td>\n",
       "      <td>20562</td>\n",
       "      <td>Quicken Loans Arena</td>\n",
       "      <td>NaN</td>\n",
       "    </tr>\n",
       "    <tr>\n",
       "      <th>2</th>\n",
       "      <td>Fri, Jun 8, 2018</td>\n",
       "      <td>9:00p</td>\n",
       "      <td>Golden State Warriors</td>\n",
       "      <td>108</td>\n",
       "      <td>Cleveland Cavaliers</td>\n",
       "      <td>85</td>\n",
       "      <td>Box Score</td>\n",
       "      <td>NaN</td>\n",
       "      <td>20562</td>\n",
       "      <td>Quicken Loans Arena</td>\n",
       "      <td>NaN</td>\n",
       "    </tr>\n",
       "  </tbody>\n",
       "</table>\n",
       "<p>1313 rows × 11 columns</p>\n",
       "</div>"
      ],
      "text/plain": [
       "                 Date Start (ET)        Visitor/Neutral  PTS  \\\n",
       "0   Tue, Oct 17, 2017      8:01p         Boston Celtics   99   \n",
       "1   Tue, Oct 17, 2017     10:30p        Houston Rockets  122   \n",
       "2   Wed, Oct 18, 2017      7:00p      Charlotte Hornets   90   \n",
       "3   Wed, Oct 18, 2017      7:00p          Brooklyn Nets  131   \n",
       "4   Wed, Oct 18, 2017      7:00p             Miami Heat  109   \n",
       "..                ...        ...                    ...  ...   \n",
       "29  Mon, May 28, 2018      9:00p  Golden State Warriors  101   \n",
       "30  Thu, May 31, 2018      9:00p    Cleveland Cavaliers  114   \n",
       "0    Sun, Jun 3, 2018      8:00p    Cleveland Cavaliers  103   \n",
       "1    Wed, Jun 6, 2018      9:00p  Golden State Warriors  110   \n",
       "2    Fri, Jun 8, 2018      9:00p  Golden State Warriors  108   \n",
       "\n",
       "             Home/Neutral PTS.1 Unnamed: 6 Unnamed: 7 Attend.  \\\n",
       "0     Cleveland Cavaliers   102  Box Score        NaN   20562   \n",
       "1   Golden State Warriors   121  Box Score        NaN   19596   \n",
       "2         Detroit Pistons   102  Box Score        NaN   20491   \n",
       "3          Indiana Pacers   140  Box Score        NaN   15008   \n",
       "4           Orlando Magic   116  Box Score        NaN   18846   \n",
       "..                    ...   ...        ...        ...     ...   \n",
       "29        Houston Rockets    92  Box Score        NaN   18055   \n",
       "30  Golden State Warriors   124  Box Score         OT   19596   \n",
       "0   Golden State Warriors   122  Box Score        NaN   19596   \n",
       "1     Cleveland Cavaliers   102  Box Score        NaN   20562   \n",
       "2     Cleveland Cavaliers    85  Box Score        NaN   20562   \n",
       "\n",
       "                      Arena Notes  \n",
       "0       Quicken Loans Arena   NaN  \n",
       "1              Oracle Arena   NaN  \n",
       "2      Little Caesars Arena   NaN  \n",
       "3   Bankers Life Fieldhouse   NaN  \n",
       "4              Amway Center   NaN  \n",
       "..                      ...   ...  \n",
       "29            Toyota Center   NaN  \n",
       "30             Oracle Arena   NaN  \n",
       "0              Oracle Arena   NaN  \n",
       "1       Quicken Loans Arena   NaN  \n",
       "2       Quicken Loans Arena   NaN  \n",
       "\n",
       "[1313 rows x 11 columns]"
      ]
     },
     "execution_count": 131,
     "metadata": {},
     "output_type": "execute_result"
    }
   ],
   "source": [
    "regSeason"
   ]
  },
  {
   "cell_type": "code",
   "execution_count": 132,
   "metadata": {},
   "outputs": [
    {
     "data": {
      "text/plain": [
       "0     20562\n",
       "1     19596\n",
       "2     20491\n",
       "3     15008\n",
       "4     18846\n",
       "      ...  \n",
       "29    18055\n",
       "30    19596\n",
       "0     19596\n",
       "1     20562\n",
       "2     20562\n",
       "Name: Attend., Length: 1312, dtype: int64"
      ]
     },
     "execution_count": 132,
     "metadata": {},
     "output_type": "execute_result"
    }
   ],
   "source": [
    "regSeason[regSeason[\"Attend.\"] != \"Playoffs\"][\"Attend.\"].astype(int)"
   ]
  },
  {
   "cell_type": "code",
   "execution_count": 133,
   "metadata": {},
   "outputs": [],
   "source": [
    "regSeason.reset_index(inplace=True)\n",
    "playoffsIDX = regSeason[regSeason[\"PTS\"] == \"Playoffs\"].index[0]"
   ]
  },
  {
   "cell_type": "code",
   "execution_count": 134,
   "metadata": {},
   "outputs": [],
   "source": [
    "regSeason = regSeason.iloc[:playoffsIDX, :] "
   ]
  },
  {
   "cell_type": "code",
   "execution_count": 135,
   "metadata": {},
   "outputs": [],
   "source": [
    "def getHomeAwayResultsBasketball(year):\n",
    "\n",
    "    url = f\"https://www.basketball-reference.com/leagues/NBA_{year}_games.html\"\n",
    "\n",
    "    # doing the web scraping\n",
    "    url = url\n",
    "    page = requests.get(url, headers={\n",
    "        \"User-Agent\": \"Mozilla/5.0 (Windows NT 10.0; Win64; x64) AppleWebKit/537.36 (KHTML, like Gecko) Chrome/116.0.0.0 Safari/537.36\"\n",
    "    })\n",
    "    soup = BeautifulSoup(page.content)\n",
    "    results = soup.find_all(\"a\", href=re.compile(f\"/leagues/NBA_{year}_games-\"))\n",
    "\n",
    "    urls = []\n",
    "    for result in results:\n",
    "        urls.append(result[\"href\"])\n",
    "\n",
    "    tables = []\n",
    "\n",
    "    for monthURL in urls:\n",
    "        # formatted string\n",
    "        url = f\"https://www.basketball-reference.com/{monthURL}\"\n",
    "        time.sleep(5)    # Pause 5 seconds\n",
    "\n",
    "        # doing the web scraping\n",
    "        url = url\n",
    "        page = requests.get(url, headers={\n",
    "            \"User-Agent\": \"Mozilla/5.0 (Windows NT 10.0; Win64; x64) AppleWebKit/537.36 (KHTML, like Gecko) Chrome/116.0.0.0 Safari/537.36\"\n",
    "        })\n",
    "        soup = BeautifulSoup(page.content)\n",
    "        results = soup.find_all(\"table\")\n",
    "        \n",
    "        # converting to pandas\n",
    "        df_list = pd.read_html(io.StringIO(str(results)))\n",
    "        regSeason = df_list[0]  # extract the first table\n",
    "\n",
    "        tables.append(regSeason)\n",
    "\n",
    "    regSeason = pd.concat(tables)\n",
    "    regSeason.reset_index(inplace=True)\n",
    "\n",
    "    # Find the index of the playoffs text and remove\n",
    "    # only needed before 2018-2019 season\n",
    "\n",
    "    if year <= 2018:\n",
    "        regSeason = regSeason[regSeason[\"PTS\"] != \"Playoffs\"]\n",
    "    \n",
    "    regSeason[\"PTS\"] = pd.to_numeric(regSeason[\"PTS\"])\n",
    "    regSeason[\"PTS.1\"] = pd.to_numeric(regSeason[\"PTS.1\"])\n",
    "    regSeason[\"Attend.\"] = pd.to_numeric(regSeason[\"Attend.\"])\n",
    "\n",
    "    \n",
    "    # new column creation\n",
    "    regSeason[\"HomeWin\"] = regSeason[\"PTS.1\"] > regSeason[\"PTS\"]\n",
    "    regSeason[\"AwayWin\"] = ~regSeason[\"HomeWin\"]\n",
    "\n",
    "    regSeason[\"PTS\"] = pd.to_numeric(regSeason[\"PTS\"])\n",
    "    regSeason[\"PTS.1\"] = pd.to_numeric(regSeason[\"PTS.1\"])\n",
    "    \n",
    "    # aggregation\n",
    "    homeWinStats = regSeason.groupby([\"Home/Neutral\"])[\"HomeWin\"].agg(['count', 'sum', 'mean'])\n",
    "    homeGoalStats = regSeason.groupby([\"Home/Neutral\"])[\"PTS.1\"].agg(['sum', 'mean'])\n",
    "    homeAttendanceStats = regSeason.groupby([\"Home/Neutral\"])[\"Attend.\"].agg(['sum', 'mean'])\n",
    "    awayWinStats = regSeason.groupby([\"Visitor/Neutral\"])[\"AwayWin\"].agg(['count', 'sum', 'mean'])\n",
    "    awayGoalStats = regSeason.groupby([\"Visitor/Neutral\"])[\"PTS\"].agg(['sum', 'mean'])\n",
    "    \n",
    "    # column renaming\n",
    "    homeWinStats.columns = [\"HomeCount\", \"HomeWins\", \"HomeWinPct\"]\n",
    "    homeGoalStats.columns = [\"HomePoints\", \"AverageHomePoints\"]\n",
    "    homeAttendanceStats.columns = [\"TotalAttendance\", \"AverageAttendance\"]\n",
    "    awayWinStats.columns = [\"AwayCount\", \"AwayWins\", \"AwayWinPct\"]\n",
    "    awayGoalStats.columns = [\"AwayPoints\", \"AverageAwayPoints\"]\n",
    "    \n",
    "    # join\n",
    "    mergedDF = homeWinStats.join(homeGoalStats).join(homeAttendanceStats).join(awayWinStats).join(awayGoalStats)\n",
    "    mergedDF.index.name = \"Team\"\n",
    "    mergedDF = mergedDF.round(decimals=3)\n",
    "    \n",
    "    # home advantage columns\n",
    "    mergedDF[\"HomeWinAdvantage\"] = mergedDF[\"HomeWins\"] - mergedDF[\"AwayWins\"]\n",
    "    mergedDF[\"HomePointsAdvantage\"] = mergedDF[\"HomePoints\"] - mergedDF[\"AwayPoints\"]\n",
    "    return mergedDF"
   ]
  },
  {
   "cell_type": "markdown",
   "metadata": {},
   "source": [
    "## We compared all 30 teams in the league and visualized their homefield advantage. "
   ]
  },
  {
   "cell_type": "code",
   "execution_count": 136,
   "metadata": {},
   "outputs": [
    {
     "data": {
      "text/html": [
       "<div>\n",
       "<style scoped>\n",
       "    .dataframe tbody tr th:only-of-type {\n",
       "        vertical-align: middle;\n",
       "    }\n",
       "\n",
       "    .dataframe tbody tr th {\n",
       "        vertical-align: top;\n",
       "    }\n",
       "\n",
       "    .dataframe thead th {\n",
       "        text-align: right;\n",
       "    }\n",
       "</style>\n",
       "<table border=\"1\" class=\"dataframe\">\n",
       "  <thead>\n",
       "    <tr style=\"text-align: right;\">\n",
       "      <th></th>\n",
       "      <th>HomeCount</th>\n",
       "      <th>HomeWins</th>\n",
       "      <th>HomeWinPct</th>\n",
       "      <th>HomePoints</th>\n",
       "      <th>AverageHomePoints</th>\n",
       "      <th>TotalAttendance</th>\n",
       "      <th>AverageAttendance</th>\n",
       "      <th>AwayCount</th>\n",
       "      <th>AwayWins</th>\n",
       "      <th>AwayWinPct</th>\n",
       "      <th>AwayPoints</th>\n",
       "      <th>AverageAwayPoints</th>\n",
       "      <th>HomeWinAdvantage</th>\n",
       "      <th>HomePointsAdvantage</th>\n",
       "    </tr>\n",
       "    <tr>\n",
       "      <th>Team</th>\n",
       "      <th></th>\n",
       "      <th></th>\n",
       "      <th></th>\n",
       "      <th></th>\n",
       "      <th></th>\n",
       "      <th></th>\n",
       "      <th></th>\n",
       "      <th></th>\n",
       "      <th></th>\n",
       "      <th></th>\n",
       "      <th></th>\n",
       "      <th></th>\n",
       "      <th></th>\n",
       "      <th></th>\n",
       "    </tr>\n",
       "  </thead>\n",
       "  <tbody>\n",
       "    <tr>\n",
       "      <th>Atlanta Hawks</th>\n",
       "      <td>44</td>\n",
       "      <td>25</td>\n",
       "      <td>0.568</td>\n",
       "      <td>5276</td>\n",
       "      <td>119.909</td>\n",
       "      <td>776643.0</td>\n",
       "      <td>17650.977</td>\n",
       "      <td>45</td>\n",
       "      <td>19</td>\n",
       "      <td>0.422</td>\n",
       "      <td>5246</td>\n",
       "      <td>116.578</td>\n",
       "      <td>6</td>\n",
       "      <td>30</td>\n",
       "    </tr>\n",
       "    <tr>\n",
       "      <th>Boston Celtics</th>\n",
       "      <td>52</td>\n",
       "      <td>37</td>\n",
       "      <td>0.712</td>\n",
       "      <td>6155</td>\n",
       "      <td>118.365</td>\n",
       "      <td>976956.0</td>\n",
       "      <td>19156.000</td>\n",
       "      <td>50</td>\n",
       "      <td>31</td>\n",
       "      <td>0.620</td>\n",
       "      <td>5755</td>\n",
       "      <td>115.100</td>\n",
       "      <td>6</td>\n",
       "      <td>400</td>\n",
       "    </tr>\n",
       "    <tr>\n",
       "      <th>Brooklyn Nets</th>\n",
       "      <td>43</td>\n",
       "      <td>23</td>\n",
       "      <td>0.535</td>\n",
       "      <td>4819</td>\n",
       "      <td>112.070</td>\n",
       "      <td>760386.0</td>\n",
       "      <td>17683.395</td>\n",
       "      <td>43</td>\n",
       "      <td>22</td>\n",
       "      <td>0.512</td>\n",
       "      <td>4846</td>\n",
       "      <td>112.698</td>\n",
       "      <td>1</td>\n",
       "      <td>-27</td>\n",
       "    </tr>\n",
       "    <tr>\n",
       "      <th>Charlotte Hornets</th>\n",
       "      <td>41</td>\n",
       "      <td>13</td>\n",
       "      <td>0.317</td>\n",
       "      <td>4479</td>\n",
       "      <td>109.244</td>\n",
       "      <td>702052.0</td>\n",
       "      <td>17123.220</td>\n",
       "      <td>41</td>\n",
       "      <td>14</td>\n",
       "      <td>0.341</td>\n",
       "      <td>4619</td>\n",
       "      <td>112.659</td>\n",
       "      <td>-1</td>\n",
       "      <td>-140</td>\n",
       "    </tr>\n",
       "    <tr>\n",
       "      <th>Chicago Bulls</th>\n",
       "      <td>41</td>\n",
       "      <td>22</td>\n",
       "      <td>0.537</td>\n",
       "      <td>4676</td>\n",
       "      <td>114.049</td>\n",
       "      <td>841632.0</td>\n",
       "      <td>20527.610</td>\n",
       "      <td>43</td>\n",
       "      <td>19</td>\n",
       "      <td>0.442</td>\n",
       "      <td>4800</td>\n",
       "      <td>111.628</td>\n",
       "      <td>3</td>\n",
       "      <td>-124</td>\n",
       "    </tr>\n",
       "  </tbody>\n",
       "</table>\n",
       "</div>"
      ],
      "text/plain": [
       "                   HomeCount  HomeWins  HomeWinPct  HomePoints  \\\n",
       "Team                                                             \n",
       "Atlanta Hawks             44        25       0.568        5276   \n",
       "Boston Celtics            52        37       0.712        6155   \n",
       "Brooklyn Nets             43        23       0.535        4819   \n",
       "Charlotte Hornets         41        13       0.317        4479   \n",
       "Chicago Bulls             41        22       0.537        4676   \n",
       "\n",
       "                   AverageHomePoints  TotalAttendance  AverageAttendance  \\\n",
       "Team                                                                       \n",
       "Atlanta Hawks                119.909         776643.0          17650.977   \n",
       "Boston Celtics               118.365         976956.0          19156.000   \n",
       "Brooklyn Nets                112.070         760386.0          17683.395   \n",
       "Charlotte Hornets            109.244         702052.0          17123.220   \n",
       "Chicago Bulls                114.049         841632.0          20527.610   \n",
       "\n",
       "                   AwayCount  AwayWins  AwayWinPct  AwayPoints  \\\n",
       "Team                                                             \n",
       "Atlanta Hawks             45        19       0.422        5246   \n",
       "Boston Celtics            50        31       0.620        5755   \n",
       "Brooklyn Nets             43        22       0.512        4846   \n",
       "Charlotte Hornets         41        14       0.341        4619   \n",
       "Chicago Bulls             43        19       0.442        4800   \n",
       "\n",
       "                   AverageAwayPoints  HomeWinAdvantage  HomePointsAdvantage  \n",
       "Team                                                                         \n",
       "Atlanta Hawks                116.578                 6                   30  \n",
       "Boston Celtics               115.100                 6                  400  \n",
       "Brooklyn Nets                112.698                 1                  -27  \n",
       "Charlotte Hornets            112.659                -1                 -140  \n",
       "Chicago Bulls                111.628                 3                 -124  "
      ]
     },
     "execution_count": 136,
     "metadata": {},
     "output_type": "execute_result"
    }
   ],
   "source": [
    "nba2023 = getHomeAwayResultsBasketball(2023)\n",
    "\n",
    "nba2023.head()"
   ]
  },
  {
   "cell_type": "code",
   "execution_count": 137,
   "metadata": {},
   "outputs": [
    {
     "name": "stderr",
     "output_type": "stream",
     "text": [
      "/var/folders/1s/6d2kk5ms6xb3fwsbt9n4bp_m0000gn/T/ipykernel_42265/3706515117.py:1: FutureWarning:\n",
      "\n",
      "Series.__getitem__ treating keys as positions is deprecated. In a future version, integer keys will always be treated as labels (consistent with DataFrame behavior). To access a value by position, use `ser.iloc[pos]`\n",
      "\n"
     ]
    },
    {
     "data": {
      "text/plain": [
       "0.846"
      ]
     },
     "execution_count": 137,
     "metadata": {},
     "output_type": "execute_result"
    }
   ],
   "source": [
    "nba2023.HomeWinPct[7]"
   ]
  },
  {
   "cell_type": "code",
   "execution_count": 138,
   "metadata": {},
   "outputs": [
    {
     "data": {
      "application/vnd.plotly.v1+json": {
       "config": {
        "plotlyServerURL": "https://plot.ly"
       },
       "data": [
        {
         "hovertemplate": "Team=Atlanta Hawks<br>HomeCount=%{x}<br>HomeWins=%{y}<br>HomeWinPct=%{marker.size}<extra></extra>",
         "legendgroup": "Atlanta Hawks",
         "marker": {
          "color": "#636efa",
          "size": [
           0.568
          ],
          "sizemode": "area",
          "sizeref": 0.002115,
          "symbol": "circle"
         },
         "mode": "markers",
         "name": "Atlanta Hawks",
         "orientation": "v",
         "showlegend": true,
         "type": "scatter",
         "x": [
          44
         ],
         "xaxis": "x",
         "y": [
          25
         ],
         "yaxis": "y"
        },
        {
         "hovertemplate": "Team=Boston Celtics<br>HomeCount=%{x}<br>HomeWins=%{y}<br>HomeWinPct=%{marker.size}<extra></extra>",
         "legendgroup": "Boston Celtics",
         "marker": {
          "color": "#EF553B",
          "size": [
           0.712
          ],
          "sizemode": "area",
          "sizeref": 0.002115,
          "symbol": "circle"
         },
         "mode": "markers",
         "name": "Boston Celtics",
         "orientation": "v",
         "showlegend": true,
         "type": "scatter",
         "x": [
          52
         ],
         "xaxis": "x",
         "y": [
          37
         ],
         "yaxis": "y"
        },
        {
         "hovertemplate": "Team=Brooklyn Nets<br>HomeCount=%{x}<br>HomeWins=%{y}<br>HomeWinPct=%{marker.size}<extra></extra>",
         "legendgroup": "Brooklyn Nets",
         "marker": {
          "color": "#00cc96",
          "size": [
           0.535
          ],
          "sizemode": "area",
          "sizeref": 0.002115,
          "symbol": "circle"
         },
         "mode": "markers",
         "name": "Brooklyn Nets",
         "orientation": "v",
         "showlegend": true,
         "type": "scatter",
         "x": [
          43
         ],
         "xaxis": "x",
         "y": [
          23
         ],
         "yaxis": "y"
        },
        {
         "hovertemplate": "Team=Charlotte Hornets<br>HomeCount=%{x}<br>HomeWins=%{y}<br>HomeWinPct=%{marker.size}<extra></extra>",
         "legendgroup": "Charlotte Hornets",
         "marker": {
          "color": "#ab63fa",
          "size": [
           0.317
          ],
          "sizemode": "area",
          "sizeref": 0.002115,
          "symbol": "circle"
         },
         "mode": "markers",
         "name": "Charlotte Hornets",
         "orientation": "v",
         "showlegend": true,
         "type": "scatter",
         "x": [
          41
         ],
         "xaxis": "x",
         "y": [
          13
         ],
         "yaxis": "y"
        },
        {
         "hovertemplate": "Team=Chicago Bulls<br>HomeCount=%{x}<br>HomeWins=%{y}<br>HomeWinPct=%{marker.size}<extra></extra>",
         "legendgroup": "Chicago Bulls",
         "marker": {
          "color": "#FFA15A",
          "size": [
           0.537
          ],
          "sizemode": "area",
          "sizeref": 0.002115,
          "symbol": "circle"
         },
         "mode": "markers",
         "name": "Chicago Bulls",
         "orientation": "v",
         "showlegend": true,
         "type": "scatter",
         "x": [
          41
         ],
         "xaxis": "x",
         "y": [
          22
         ],
         "yaxis": "y"
        },
        {
         "hovertemplate": "Team=Cleveland Cavaliers<br>HomeCount=%{x}<br>HomeWins=%{y}<br>HomeWinPct=%{marker.size}<extra></extra>",
         "legendgroup": "Cleveland Cavaliers",
         "marker": {
          "color": "#19d3f3",
          "size": [
           0.727
          ],
          "sizemode": "area",
          "sizeref": 0.002115,
          "symbol": "circle"
         },
         "mode": "markers",
         "name": "Cleveland Cavaliers",
         "orientation": "v",
         "showlegend": true,
         "type": "scatter",
         "x": [
          44
         ],
         "xaxis": "x",
         "y": [
          32
         ],
         "yaxis": "y"
        },
        {
         "hovertemplate": "Team=Dallas Mavericks<br>HomeCount=%{x}<br>HomeWins=%{y}<br>HomeWinPct=%{marker.size}<extra></extra>",
         "legendgroup": "Dallas Mavericks",
         "marker": {
          "color": "#FF6692",
          "size": [
           0.561
          ],
          "sizemode": "area",
          "sizeref": 0.002115,
          "symbol": "circle"
         },
         "mode": "markers",
         "name": "Dallas Mavericks",
         "orientation": "v",
         "showlegend": true,
         "type": "scatter",
         "x": [
          41
         ],
         "xaxis": "x",
         "y": [
          23
         ],
         "yaxis": "y"
        },
        {
         "hovertemplate": "Team=Denver Nuggets<br>HomeCount=%{x}<br>HomeWins=%{y}<br>HomeWinPct=%{marker.size}<extra></extra>",
         "legendgroup": "Denver Nuggets",
         "marker": {
          "color": "#B6E880",
          "size": [
           0.846
          ],
          "sizemode": "area",
          "sizeref": 0.002115,
          "symbol": "circle"
         },
         "mode": "markers",
         "name": "Denver Nuggets",
         "orientation": "v",
         "showlegend": true,
         "type": "scatter",
         "x": [
          52
         ],
         "xaxis": "x",
         "y": [
          44
         ],
         "yaxis": "y"
        },
        {
         "hovertemplate": "Team=Detroit Pistons<br>HomeCount=%{x}<br>HomeWins=%{y}<br>HomeWinPct=%{marker.size}<extra></extra>",
         "legendgroup": "Detroit Pistons",
         "marker": {
          "color": "#FF97FF",
          "size": [
           0.22
          ],
          "sizemode": "area",
          "sizeref": 0.002115,
          "symbol": "circle"
         },
         "mode": "markers",
         "name": "Detroit Pistons",
         "orientation": "v",
         "showlegend": true,
         "type": "scatter",
         "x": [
          41
         ],
         "xaxis": "x",
         "y": [
          9
         ],
         "yaxis": "y"
        },
        {
         "hovertemplate": "Team=Golden State Warriors<br>HomeCount=%{x}<br>HomeWins=%{y}<br>HomeWinPct=%{marker.size}<extra></extra>",
         "legendgroup": "Golden State Warriors",
         "marker": {
          "color": "#FECB52",
          "size": [
           0.787
          ],
          "sizemode": "area",
          "sizeref": 0.002115,
          "symbol": "circle"
         },
         "mode": "markers",
         "name": "Golden State Warriors",
         "orientation": "v",
         "showlegend": true,
         "type": "scatter",
         "x": [
          47
         ],
         "xaxis": "x",
         "y": [
          37
         ],
         "yaxis": "y"
        },
        {
         "hovertemplate": "Team=Houston Rockets<br>HomeCount=%{x}<br>HomeWins=%{y}<br>HomeWinPct=%{marker.size}<extra></extra>",
         "legendgroup": "Houston Rockets",
         "marker": {
          "color": "#636efa",
          "size": [
           0.341
          ],
          "sizemode": "area",
          "sizeref": 0.002115,
          "symbol": "circle"
         },
         "mode": "markers",
         "name": "Houston Rockets",
         "orientation": "v",
         "showlegend": true,
         "type": "scatter",
         "x": [
          41
         ],
         "xaxis": "x",
         "y": [
          14
         ],
         "yaxis": "y"
        },
        {
         "hovertemplate": "Team=Indiana Pacers<br>HomeCount=%{x}<br>HomeWins=%{y}<br>HomeWinPct=%{marker.size}<extra></extra>",
         "legendgroup": "Indiana Pacers",
         "marker": {
          "color": "#EF553B",
          "size": [
           0.488
          ],
          "sizemode": "area",
          "sizeref": 0.002115,
          "symbol": "circle"
         },
         "mode": "markers",
         "name": "Indiana Pacers",
         "orientation": "v",
         "showlegend": true,
         "type": "scatter",
         "x": [
          41
         ],
         "xaxis": "x",
         "y": [
          20
         ],
         "yaxis": "y"
        },
        {
         "hovertemplate": "Team=Los Angeles Clippers<br>HomeCount=%{x}<br>HomeWins=%{y}<br>HomeWinPct=%{marker.size}<extra></extra>",
         "legendgroup": "Los Angeles Clippers",
         "marker": {
          "color": "#00cc96",
          "size": [
           0.535
          ],
          "sizemode": "area",
          "sizeref": 0.002115,
          "symbol": "circle"
         },
         "mode": "markers",
         "name": "Los Angeles Clippers",
         "orientation": "v",
         "showlegend": true,
         "type": "scatter",
         "x": [
          43
         ],
         "xaxis": "x",
         "y": [
          23
         ],
         "yaxis": "y"
        },
        {
         "hovertemplate": "Team=Los Angeles Lakers<br>HomeCount=%{x}<br>HomeWins=%{y}<br>HomeWinPct=%{marker.size}<extra></extra>",
         "legendgroup": "Los Angeles Lakers",
         "marker": {
          "color": "#ab63fa",
          "size": [
           0.6
          ],
          "sizemode": "area",
          "sizeref": 0.002115,
          "symbol": "circle"
         },
         "mode": "markers",
         "name": "Los Angeles Lakers",
         "orientation": "v",
         "showlegend": true,
         "type": "scatter",
         "x": [
          50
         ],
         "xaxis": "x",
         "y": [
          30
         ],
         "yaxis": "y"
        },
        {
         "hovertemplate": "Team=Memphis Grizzlies<br>HomeCount=%{x}<br>HomeWins=%{y}<br>HomeWinPct=%{marker.size}<extra></extra>",
         "legendgroup": "Memphis Grizzlies",
         "marker": {
          "color": "#FFA15A",
          "size": [
           0.841
          ],
          "sizemode": "area",
          "sizeref": 0.002115,
          "symbol": "circle"
         },
         "mode": "markers",
         "name": "Memphis Grizzlies",
         "orientation": "v",
         "showlegend": true,
         "type": "scatter",
         "x": [
          44
         ],
         "xaxis": "x",
         "y": [
          37
         ],
         "yaxis": "y"
        },
        {
         "hovertemplate": "Team=Miami Heat<br>HomeCount=%{x}<br>HomeWins=%{y}<br>HomeWinPct=%{marker.size}<extra></extra>",
         "legendgroup": "Miami Heat",
         "marker": {
          "color": "#19d3f3",
          "size": [
           0.642
          ],
          "sizemode": "area",
          "sizeref": 0.002115,
          "symbol": "circle"
         },
         "mode": "markers",
         "name": "Miami Heat",
         "orientation": "v",
         "showlegend": true,
         "type": "scatter",
         "x": [
          53
         ],
         "xaxis": "x",
         "y": [
          34
         ],
         "yaxis": "y"
        },
        {
         "hovertemplate": "Team=Milwaukee Bucks<br>HomeCount=%{x}<br>HomeWins=%{y}<br>HomeWinPct=%{marker.size}<extra></extra>",
         "legendgroup": "Milwaukee Bucks",
         "marker": {
          "color": "#FF6692",
          "size": [
           0.75
          ],
          "sizemode": "area",
          "sizeref": 0.002115,
          "symbol": "circle"
         },
         "mode": "markers",
         "name": "Milwaukee Bucks",
         "orientation": "v",
         "showlegend": true,
         "type": "scatter",
         "x": [
          44
         ],
         "xaxis": "x",
         "y": [
          33
         ],
         "yaxis": "y"
        },
        {
         "hovertemplate": "Team=Minnesota Timberwolves<br>HomeCount=%{x}<br>HomeWins=%{y}<br>HomeWinPct=%{marker.size}<extra></extra>",
         "legendgroup": "Minnesota Timberwolves",
         "marker": {
          "color": "#B6E880",
          "size": [
           0.545
          ],
          "sizemode": "area",
          "sizeref": 0.002115,
          "symbol": "circle"
         },
         "mode": "markers",
         "name": "Minnesota Timberwolves",
         "orientation": "v",
         "showlegend": true,
         "type": "scatter",
         "x": [
          44
         ],
         "xaxis": "x",
         "y": [
          24
         ],
         "yaxis": "y"
        },
        {
         "hovertemplate": "Team=New Orleans Pelicans<br>HomeCount=%{x}<br>HomeWins=%{y}<br>HomeWinPct=%{marker.size}<extra></extra>",
         "legendgroup": "New Orleans Pelicans",
         "marker": {
          "color": "#FF97FF",
          "size": [
           0.643
          ],
          "sizemode": "area",
          "sizeref": 0.002115,
          "symbol": "circle"
         },
         "mode": "markers",
         "name": "New Orleans Pelicans",
         "orientation": "v",
         "showlegend": true,
         "type": "scatter",
         "x": [
          42
         ],
         "xaxis": "x",
         "y": [
          27
         ],
         "yaxis": "y"
        },
        {
         "hovertemplate": "Team=New York Knicks<br>HomeCount=%{x}<br>HomeWins=%{y}<br>HomeWinPct=%{marker.size}<extra></extra>",
         "legendgroup": "New York Knicks",
         "marker": {
          "color": "#FECB52",
          "size": [
           0.587
          ],
          "sizemode": "area",
          "sizeref": 0.002115,
          "symbol": "circle"
         },
         "mode": "markers",
         "name": "New York Knicks",
         "orientation": "v",
         "showlegend": true,
         "type": "scatter",
         "x": [
          46
         ],
         "xaxis": "x",
         "y": [
          27
         ],
         "yaxis": "y"
        },
        {
         "hovertemplate": "Team=Oklahoma City Thunder<br>HomeCount=%{x}<br>HomeWins=%{y}<br>HomeWinPct=%{marker.size}<extra></extra>",
         "legendgroup": "Oklahoma City Thunder",
         "marker": {
          "color": "#636efa",
          "size": [
           0.585
          ],
          "sizemode": "area",
          "sizeref": 0.002115,
          "symbol": "circle"
         },
         "mode": "markers",
         "name": "Oklahoma City Thunder",
         "orientation": "v",
         "showlegend": true,
         "type": "scatter",
         "x": [
          41
         ],
         "xaxis": "x",
         "y": [
          24
         ],
         "yaxis": "y"
        },
        {
         "hovertemplate": "Team=Orlando Magic<br>HomeCount=%{x}<br>HomeWins=%{y}<br>HomeWinPct=%{marker.size}<extra></extra>",
         "legendgroup": "Orlando Magic",
         "marker": {
          "color": "#EF553B",
          "size": [
           0.488
          ],
          "sizemode": "area",
          "sizeref": 0.002115,
          "symbol": "circle"
         },
         "mode": "markers",
         "name": "Orlando Magic",
         "orientation": "v",
         "showlegend": true,
         "type": "scatter",
         "x": [
          41
         ],
         "xaxis": "x",
         "y": [
          20
         ],
         "yaxis": "y"
        },
        {
         "hovertemplate": "Team=Philadelphia 76ers<br>HomeCount=%{x}<br>HomeWins=%{y}<br>HomeWinPct=%{marker.size}<extra></extra>",
         "legendgroup": "Philadelphia 76ers",
         "marker": {
          "color": "#00cc96",
          "size": [
           0.696
          ],
          "sizemode": "area",
          "sizeref": 0.002115,
          "symbol": "circle"
         },
         "mode": "markers",
         "name": "Philadelphia 76ers",
         "orientation": "v",
         "showlegend": true,
         "type": "scatter",
         "x": [
          46
         ],
         "xaxis": "x",
         "y": [
          32
         ],
         "yaxis": "y"
        },
        {
         "hovertemplate": "Team=Phoenix Suns<br>HomeCount=%{x}<br>HomeWins=%{y}<br>HomeWinPct=%{marker.size}<extra></extra>",
         "legendgroup": "Phoenix Suns",
         "marker": {
          "color": "#ab63fa",
          "size": [
           0.681
          ],
          "sizemode": "area",
          "sizeref": 0.002115,
          "symbol": "circle"
         },
         "mode": "markers",
         "name": "Phoenix Suns",
         "orientation": "v",
         "showlegend": true,
         "type": "scatter",
         "x": [
          47
         ],
         "xaxis": "x",
         "y": [
          32
         ],
         "yaxis": "y"
        },
        {
         "hovertemplate": "Team=Portland Trail Blazers<br>HomeCount=%{x}<br>HomeWins=%{y}<br>HomeWinPct=%{marker.size}<extra></extra>",
         "legendgroup": "Portland Trail Blazers",
         "marker": {
          "color": "#FFA15A",
          "size": [
           0.415
          ],
          "sizemode": "area",
          "sizeref": 0.002115,
          "symbol": "circle"
         },
         "mode": "markers",
         "name": "Portland Trail Blazers",
         "orientation": "v",
         "showlegend": true,
         "type": "scatter",
         "x": [
          41
         ],
         "xaxis": "x",
         "y": [
          17
         ],
         "yaxis": "y"
        },
        {
         "hovertemplate": "Team=Sacramento Kings<br>HomeCount=%{x}<br>HomeWins=%{y}<br>HomeWinPct=%{marker.size}<extra></extra>",
         "legendgroup": "Sacramento Kings",
         "marker": {
          "color": "#19d3f3",
          "size": [
           0.556
          ],
          "sizemode": "area",
          "sizeref": 0.002115,
          "symbol": "circle"
         },
         "mode": "markers",
         "name": "Sacramento Kings",
         "orientation": "v",
         "showlegend": true,
         "type": "scatter",
         "x": [
          45
         ],
         "xaxis": "x",
         "y": [
          25
         ],
         "yaxis": "y"
        },
        {
         "hovertemplate": "Team=San Antonio Spurs<br>HomeCount=%{x}<br>HomeWins=%{y}<br>HomeWinPct=%{marker.size}<extra></extra>",
         "legendgroup": "San Antonio Spurs",
         "marker": {
          "color": "#FF6692",
          "size": [
           0.341
          ],
          "sizemode": "area",
          "sizeref": 0.002115,
          "symbol": "circle"
         },
         "mode": "markers",
         "name": "San Antonio Spurs",
         "orientation": "v",
         "showlegend": true,
         "type": "scatter",
         "x": [
          41
         ],
         "xaxis": "x",
         "y": [
          14
         ],
         "yaxis": "y"
        },
        {
         "hovertemplate": "Team=Toronto Raptors<br>HomeCount=%{x}<br>HomeWins=%{y}<br>HomeWinPct=%{marker.size}<extra></extra>",
         "legendgroup": "Toronto Raptors",
         "marker": {
          "color": "#B6E880",
          "size": [
           0.643
          ],
          "sizemode": "area",
          "sizeref": 0.002115,
          "symbol": "circle"
         },
         "mode": "markers",
         "name": "Toronto Raptors",
         "orientation": "v",
         "showlegend": true,
         "type": "scatter",
         "x": [
          42
         ],
         "xaxis": "x",
         "y": [
          27
         ],
         "yaxis": "y"
        },
        {
         "hovertemplate": "Team=Utah Jazz<br>HomeCount=%{x}<br>HomeWins=%{y}<br>HomeWinPct=%{marker.size}<extra></extra>",
         "legendgroup": "Utah Jazz",
         "marker": {
          "color": "#FF97FF",
          "size": [
           0.561
          ],
          "sizemode": "area",
          "sizeref": 0.002115,
          "symbol": "circle"
         },
         "mode": "markers",
         "name": "Utah Jazz",
         "orientation": "v",
         "showlegend": true,
         "type": "scatter",
         "x": [
          41
         ],
         "xaxis": "x",
         "y": [
          23
         ],
         "yaxis": "y"
        },
        {
         "hovertemplate": "Team=Washington Wizards<br>HomeCount=%{x}<br>HomeWins=%{y}<br>HomeWinPct=%{marker.size}<extra></extra>",
         "legendgroup": "Washington Wizards",
         "marker": {
          "color": "#FECB52",
          "size": [
           0.463
          ],
          "sizemode": "area",
          "sizeref": 0.002115,
          "symbol": "circle"
         },
         "mode": "markers",
         "name": "Washington Wizards",
         "orientation": "v",
         "showlegend": true,
         "type": "scatter",
         "x": [
          41
         ],
         "xaxis": "x",
         "y": [
          19
         ],
         "yaxis": "y"
        }
       ],
       "layout": {
        "legend": {
         "itemsizing": "constant",
         "title": {
          "text": "Team"
         },
         "tracegroupgap": 0
        },
        "margin": {
         "t": 60
        },
        "template": {
         "data": {
          "bar": [
           {
            "error_x": {
             "color": "#2a3f5f"
            },
            "error_y": {
             "color": "#2a3f5f"
            },
            "marker": {
             "line": {
              "color": "#E5ECF6",
              "width": 0.5
             },
             "pattern": {
              "fillmode": "overlay",
              "size": 10,
              "solidity": 0.2
             }
            },
            "type": "bar"
           }
          ],
          "barpolar": [
           {
            "marker": {
             "line": {
              "color": "#E5ECF6",
              "width": 0.5
             },
             "pattern": {
              "fillmode": "overlay",
              "size": 10,
              "solidity": 0.2
             }
            },
            "type": "barpolar"
           }
          ],
          "carpet": [
           {
            "aaxis": {
             "endlinecolor": "#2a3f5f",
             "gridcolor": "white",
             "linecolor": "white",
             "minorgridcolor": "white",
             "startlinecolor": "#2a3f5f"
            },
            "baxis": {
             "endlinecolor": "#2a3f5f",
             "gridcolor": "white",
             "linecolor": "white",
             "minorgridcolor": "white",
             "startlinecolor": "#2a3f5f"
            },
            "type": "carpet"
           }
          ],
          "choropleth": [
           {
            "colorbar": {
             "outlinewidth": 0,
             "ticks": ""
            },
            "type": "choropleth"
           }
          ],
          "contour": [
           {
            "colorbar": {
             "outlinewidth": 0,
             "ticks": ""
            },
            "colorscale": [
             [
              0,
              "#0d0887"
             ],
             [
              0.1111111111111111,
              "#46039f"
             ],
             [
              0.2222222222222222,
              "#7201a8"
             ],
             [
              0.3333333333333333,
              "#9c179e"
             ],
             [
              0.4444444444444444,
              "#bd3786"
             ],
             [
              0.5555555555555556,
              "#d8576b"
             ],
             [
              0.6666666666666666,
              "#ed7953"
             ],
             [
              0.7777777777777778,
              "#fb9f3a"
             ],
             [
              0.8888888888888888,
              "#fdca26"
             ],
             [
              1,
              "#f0f921"
             ]
            ],
            "type": "contour"
           }
          ],
          "contourcarpet": [
           {
            "colorbar": {
             "outlinewidth": 0,
             "ticks": ""
            },
            "type": "contourcarpet"
           }
          ],
          "heatmap": [
           {
            "colorbar": {
             "outlinewidth": 0,
             "ticks": ""
            },
            "colorscale": [
             [
              0,
              "#0d0887"
             ],
             [
              0.1111111111111111,
              "#46039f"
             ],
             [
              0.2222222222222222,
              "#7201a8"
             ],
             [
              0.3333333333333333,
              "#9c179e"
             ],
             [
              0.4444444444444444,
              "#bd3786"
             ],
             [
              0.5555555555555556,
              "#d8576b"
             ],
             [
              0.6666666666666666,
              "#ed7953"
             ],
             [
              0.7777777777777778,
              "#fb9f3a"
             ],
             [
              0.8888888888888888,
              "#fdca26"
             ],
             [
              1,
              "#f0f921"
             ]
            ],
            "type": "heatmap"
           }
          ],
          "heatmapgl": [
           {
            "colorbar": {
             "outlinewidth": 0,
             "ticks": ""
            },
            "colorscale": [
             [
              0,
              "#0d0887"
             ],
             [
              0.1111111111111111,
              "#46039f"
             ],
             [
              0.2222222222222222,
              "#7201a8"
             ],
             [
              0.3333333333333333,
              "#9c179e"
             ],
             [
              0.4444444444444444,
              "#bd3786"
             ],
             [
              0.5555555555555556,
              "#d8576b"
             ],
             [
              0.6666666666666666,
              "#ed7953"
             ],
             [
              0.7777777777777778,
              "#fb9f3a"
             ],
             [
              0.8888888888888888,
              "#fdca26"
             ],
             [
              1,
              "#f0f921"
             ]
            ],
            "type": "heatmapgl"
           }
          ],
          "histogram": [
           {
            "marker": {
             "pattern": {
              "fillmode": "overlay",
              "size": 10,
              "solidity": 0.2
             }
            },
            "type": "histogram"
           }
          ],
          "histogram2d": [
           {
            "colorbar": {
             "outlinewidth": 0,
             "ticks": ""
            },
            "colorscale": [
             [
              0,
              "#0d0887"
             ],
             [
              0.1111111111111111,
              "#46039f"
             ],
             [
              0.2222222222222222,
              "#7201a8"
             ],
             [
              0.3333333333333333,
              "#9c179e"
             ],
             [
              0.4444444444444444,
              "#bd3786"
             ],
             [
              0.5555555555555556,
              "#d8576b"
             ],
             [
              0.6666666666666666,
              "#ed7953"
             ],
             [
              0.7777777777777778,
              "#fb9f3a"
             ],
             [
              0.8888888888888888,
              "#fdca26"
             ],
             [
              1,
              "#f0f921"
             ]
            ],
            "type": "histogram2d"
           }
          ],
          "histogram2dcontour": [
           {
            "colorbar": {
             "outlinewidth": 0,
             "ticks": ""
            },
            "colorscale": [
             [
              0,
              "#0d0887"
             ],
             [
              0.1111111111111111,
              "#46039f"
             ],
             [
              0.2222222222222222,
              "#7201a8"
             ],
             [
              0.3333333333333333,
              "#9c179e"
             ],
             [
              0.4444444444444444,
              "#bd3786"
             ],
             [
              0.5555555555555556,
              "#d8576b"
             ],
             [
              0.6666666666666666,
              "#ed7953"
             ],
             [
              0.7777777777777778,
              "#fb9f3a"
             ],
             [
              0.8888888888888888,
              "#fdca26"
             ],
             [
              1,
              "#f0f921"
             ]
            ],
            "type": "histogram2dcontour"
           }
          ],
          "mesh3d": [
           {
            "colorbar": {
             "outlinewidth": 0,
             "ticks": ""
            },
            "type": "mesh3d"
           }
          ],
          "parcoords": [
           {
            "line": {
             "colorbar": {
              "outlinewidth": 0,
              "ticks": ""
             }
            },
            "type": "parcoords"
           }
          ],
          "pie": [
           {
            "automargin": true,
            "type": "pie"
           }
          ],
          "scatter": [
           {
            "fillpattern": {
             "fillmode": "overlay",
             "size": 10,
             "solidity": 0.2
            },
            "type": "scatter"
           }
          ],
          "scatter3d": [
           {
            "line": {
             "colorbar": {
              "outlinewidth": 0,
              "ticks": ""
             }
            },
            "marker": {
             "colorbar": {
              "outlinewidth": 0,
              "ticks": ""
             }
            },
            "type": "scatter3d"
           }
          ],
          "scattercarpet": [
           {
            "marker": {
             "colorbar": {
              "outlinewidth": 0,
              "ticks": ""
             }
            },
            "type": "scattercarpet"
           }
          ],
          "scattergeo": [
           {
            "marker": {
             "colorbar": {
              "outlinewidth": 0,
              "ticks": ""
             }
            },
            "type": "scattergeo"
           }
          ],
          "scattergl": [
           {
            "marker": {
             "colorbar": {
              "outlinewidth": 0,
              "ticks": ""
             }
            },
            "type": "scattergl"
           }
          ],
          "scattermapbox": [
           {
            "marker": {
             "colorbar": {
              "outlinewidth": 0,
              "ticks": ""
             }
            },
            "type": "scattermapbox"
           }
          ],
          "scatterpolar": [
           {
            "marker": {
             "colorbar": {
              "outlinewidth": 0,
              "ticks": ""
             }
            },
            "type": "scatterpolar"
           }
          ],
          "scatterpolargl": [
           {
            "marker": {
             "colorbar": {
              "outlinewidth": 0,
              "ticks": ""
             }
            },
            "type": "scatterpolargl"
           }
          ],
          "scatterternary": [
           {
            "marker": {
             "colorbar": {
              "outlinewidth": 0,
              "ticks": ""
             }
            },
            "type": "scatterternary"
           }
          ],
          "surface": [
           {
            "colorbar": {
             "outlinewidth": 0,
             "ticks": ""
            },
            "colorscale": [
             [
              0,
              "#0d0887"
             ],
             [
              0.1111111111111111,
              "#46039f"
             ],
             [
              0.2222222222222222,
              "#7201a8"
             ],
             [
              0.3333333333333333,
              "#9c179e"
             ],
             [
              0.4444444444444444,
              "#bd3786"
             ],
             [
              0.5555555555555556,
              "#d8576b"
             ],
             [
              0.6666666666666666,
              "#ed7953"
             ],
             [
              0.7777777777777778,
              "#fb9f3a"
             ],
             [
              0.8888888888888888,
              "#fdca26"
             ],
             [
              1,
              "#f0f921"
             ]
            ],
            "type": "surface"
           }
          ],
          "table": [
           {
            "cells": {
             "fill": {
              "color": "#EBF0F8"
             },
             "line": {
              "color": "white"
             }
            },
            "header": {
             "fill": {
              "color": "#C8D4E3"
             },
             "line": {
              "color": "white"
             }
            },
            "type": "table"
           }
          ]
         },
         "layout": {
          "annotationdefaults": {
           "arrowcolor": "#2a3f5f",
           "arrowhead": 0,
           "arrowwidth": 1
          },
          "autotypenumbers": "strict",
          "coloraxis": {
           "colorbar": {
            "outlinewidth": 0,
            "ticks": ""
           }
          },
          "colorscale": {
           "diverging": [
            [
             0,
             "#8e0152"
            ],
            [
             0.1,
             "#c51b7d"
            ],
            [
             0.2,
             "#de77ae"
            ],
            [
             0.3,
             "#f1b6da"
            ],
            [
             0.4,
             "#fde0ef"
            ],
            [
             0.5,
             "#f7f7f7"
            ],
            [
             0.6,
             "#e6f5d0"
            ],
            [
             0.7,
             "#b8e186"
            ],
            [
             0.8,
             "#7fbc41"
            ],
            [
             0.9,
             "#4d9221"
            ],
            [
             1,
             "#276419"
            ]
           ],
           "sequential": [
            [
             0,
             "#0d0887"
            ],
            [
             0.1111111111111111,
             "#46039f"
            ],
            [
             0.2222222222222222,
             "#7201a8"
            ],
            [
             0.3333333333333333,
             "#9c179e"
            ],
            [
             0.4444444444444444,
             "#bd3786"
            ],
            [
             0.5555555555555556,
             "#d8576b"
            ],
            [
             0.6666666666666666,
             "#ed7953"
            ],
            [
             0.7777777777777778,
             "#fb9f3a"
            ],
            [
             0.8888888888888888,
             "#fdca26"
            ],
            [
             1,
             "#f0f921"
            ]
           ],
           "sequentialminus": [
            [
             0,
             "#0d0887"
            ],
            [
             0.1111111111111111,
             "#46039f"
            ],
            [
             0.2222222222222222,
             "#7201a8"
            ],
            [
             0.3333333333333333,
             "#9c179e"
            ],
            [
             0.4444444444444444,
             "#bd3786"
            ],
            [
             0.5555555555555556,
             "#d8576b"
            ],
            [
             0.6666666666666666,
             "#ed7953"
            ],
            [
             0.7777777777777778,
             "#fb9f3a"
            ],
            [
             0.8888888888888888,
             "#fdca26"
            ],
            [
             1,
             "#f0f921"
            ]
           ]
          },
          "colorway": [
           "#636efa",
           "#EF553B",
           "#00cc96",
           "#ab63fa",
           "#FFA15A",
           "#19d3f3",
           "#FF6692",
           "#B6E880",
           "#FF97FF",
           "#FECB52"
          ],
          "font": {
           "color": "#2a3f5f"
          },
          "geo": {
           "bgcolor": "white",
           "lakecolor": "white",
           "landcolor": "#E5ECF6",
           "showlakes": true,
           "showland": true,
           "subunitcolor": "white"
          },
          "hoverlabel": {
           "align": "left"
          },
          "hovermode": "closest",
          "mapbox": {
           "style": "light"
          },
          "paper_bgcolor": "white",
          "plot_bgcolor": "#E5ECF6",
          "polar": {
           "angularaxis": {
            "gridcolor": "white",
            "linecolor": "white",
            "ticks": ""
           },
           "bgcolor": "#E5ECF6",
           "radialaxis": {
            "gridcolor": "white",
            "linecolor": "white",
            "ticks": ""
           }
          },
          "scene": {
           "xaxis": {
            "backgroundcolor": "#E5ECF6",
            "gridcolor": "white",
            "gridwidth": 2,
            "linecolor": "white",
            "showbackground": true,
            "ticks": "",
            "zerolinecolor": "white"
           },
           "yaxis": {
            "backgroundcolor": "#E5ECF6",
            "gridcolor": "white",
            "gridwidth": 2,
            "linecolor": "white",
            "showbackground": true,
            "ticks": "",
            "zerolinecolor": "white"
           },
           "zaxis": {
            "backgroundcolor": "#E5ECF6",
            "gridcolor": "white",
            "gridwidth": 2,
            "linecolor": "white",
            "showbackground": true,
            "ticks": "",
            "zerolinecolor": "white"
           }
          },
          "shapedefaults": {
           "line": {
            "color": "#2a3f5f"
           }
          },
          "ternary": {
           "aaxis": {
            "gridcolor": "white",
            "linecolor": "white",
            "ticks": ""
           },
           "baxis": {
            "gridcolor": "white",
            "linecolor": "white",
            "ticks": ""
           },
           "bgcolor": "#E5ECF6",
           "caxis": {
            "gridcolor": "white",
            "linecolor": "white",
            "ticks": ""
           }
          },
          "title": {
           "x": 0.05
          },
          "xaxis": {
           "automargin": true,
           "gridcolor": "white",
           "linecolor": "white",
           "ticks": "",
           "title": {
            "standoff": 15
           },
           "zerolinecolor": "white",
           "zerolinewidth": 2
          },
          "yaxis": {
           "automargin": true,
           "gridcolor": "white",
           "linecolor": "white",
           "ticks": "",
           "title": {
            "standoff": 15
           },
           "zerolinecolor": "white",
           "zerolinewidth": 2
          }
         }
        },
        "xaxis": {
         "anchor": "y",
         "domain": [
          0,
          1
         ],
         "title": {
          "text": "HomeCount"
         }
        },
        "yaxis": {
         "anchor": "x",
         "domain": [
          0,
          1
         ],
         "title": {
          "text": "HomeWins"
         }
        }
       }
      }
     },
     "metadata": {},
     "output_type": "display_data"
    }
   ],
   "source": [
    "fig = px.scatter(\n",
    "    nba2023,\n",
    "    x=\"HomeCount\",\n",
    "    y=\"HomeWins\",\n",
    "    color=nba2023.index,\n",
    "    size=nba2023[\"HomeWinPct\"] \n",
    ")\n",
    "\n",
    "fig.show()"
   ]
  },
  {
   "cell_type": "code",
   "execution_count": 139,
   "metadata": {},
   "outputs": [
    {
     "data": {
      "application/vnd.plotly.v1+json": {
       "config": {
        "plotlyServerURL": "https://plot.ly"
       },
       "data": [
        {
         "hovertemplate": "Team=Atlanta Hawks<br>AwayCount=%{x}<br>AwayWins=%{y}<br>AwayWinPct=%{marker.size}<extra></extra>",
         "legendgroup": "Atlanta Hawks",
         "marker": {
          "color": "#636efa",
          "size": [
           0.422
          ],
          "sizemode": "area",
          "sizeref": 0.00155,
          "symbol": "circle"
         },
         "mode": "markers",
         "name": "Atlanta Hawks",
         "orientation": "v",
         "showlegend": true,
         "type": "scatter",
         "x": [
          45
         ],
         "xaxis": "x",
         "y": [
          19
         ],
         "yaxis": "y"
        },
        {
         "hovertemplate": "Team=Boston Celtics<br>AwayCount=%{x}<br>AwayWins=%{y}<br>AwayWinPct=%{marker.size}<extra></extra>",
         "legendgroup": "Boston Celtics",
         "marker": {
          "color": "#EF553B",
          "size": [
           0.62
          ],
          "sizemode": "area",
          "sizeref": 0.00155,
          "symbol": "circle"
         },
         "mode": "markers",
         "name": "Boston Celtics",
         "orientation": "v",
         "showlegend": true,
         "type": "scatter",
         "x": [
          50
         ],
         "xaxis": "x",
         "y": [
          31
         ],
         "yaxis": "y"
        },
        {
         "hovertemplate": "Team=Brooklyn Nets<br>AwayCount=%{x}<br>AwayWins=%{y}<br>AwayWinPct=%{marker.size}<extra></extra>",
         "legendgroup": "Brooklyn Nets",
         "marker": {
          "color": "#00cc96",
          "size": [
           0.512
          ],
          "sizemode": "area",
          "sizeref": 0.00155,
          "symbol": "circle"
         },
         "mode": "markers",
         "name": "Brooklyn Nets",
         "orientation": "v",
         "showlegend": true,
         "type": "scatter",
         "x": [
          43
         ],
         "xaxis": "x",
         "y": [
          22
         ],
         "yaxis": "y"
        },
        {
         "hovertemplate": "Team=Charlotte Hornets<br>AwayCount=%{x}<br>AwayWins=%{y}<br>AwayWinPct=%{marker.size}<extra></extra>",
         "legendgroup": "Charlotte Hornets",
         "marker": {
          "color": "#ab63fa",
          "size": [
           0.341
          ],
          "sizemode": "area",
          "sizeref": 0.00155,
          "symbol": "circle"
         },
         "mode": "markers",
         "name": "Charlotte Hornets",
         "orientation": "v",
         "showlegend": true,
         "type": "scatter",
         "x": [
          41
         ],
         "xaxis": "x",
         "y": [
          14
         ],
         "yaxis": "y"
        },
        {
         "hovertemplate": "Team=Chicago Bulls<br>AwayCount=%{x}<br>AwayWins=%{y}<br>AwayWinPct=%{marker.size}<extra></extra>",
         "legendgroup": "Chicago Bulls",
         "marker": {
          "color": "#FFA15A",
          "size": [
           0.442
          ],
          "sizemode": "area",
          "sizeref": 0.00155,
          "symbol": "circle"
         },
         "mode": "markers",
         "name": "Chicago Bulls",
         "orientation": "v",
         "showlegend": true,
         "type": "scatter",
         "x": [
          43
         ],
         "xaxis": "x",
         "y": [
          19
         ],
         "yaxis": "y"
        },
        {
         "hovertemplate": "Team=Cleveland Cavaliers<br>AwayCount=%{x}<br>AwayWins=%{y}<br>AwayWinPct=%{marker.size}<extra></extra>",
         "legendgroup": "Cleveland Cavaliers",
         "marker": {
          "color": "#19d3f3",
          "size": [
           0.465
          ],
          "sizemode": "area",
          "sizeref": 0.00155,
          "symbol": "circle"
         },
         "mode": "markers",
         "name": "Cleveland Cavaliers",
         "orientation": "v",
         "showlegend": true,
         "type": "scatter",
         "x": [
          43
         ],
         "xaxis": "x",
         "y": [
          20
         ],
         "yaxis": "y"
        },
        {
         "hovertemplate": "Team=Dallas Mavericks<br>AwayCount=%{x}<br>AwayWins=%{y}<br>AwayWinPct=%{marker.size}<extra></extra>",
         "legendgroup": "Dallas Mavericks",
         "marker": {
          "color": "#FF6692",
          "size": [
           0.366
          ],
          "sizemode": "area",
          "sizeref": 0.00155,
          "symbol": "circle"
         },
         "mode": "markers",
         "name": "Dallas Mavericks",
         "orientation": "v",
         "showlegend": true,
         "type": "scatter",
         "x": [
          41
         ],
         "xaxis": "x",
         "y": [
          15
         ],
         "yaxis": "y"
        },
        {
         "hovertemplate": "Team=Denver Nuggets<br>AwayCount=%{x}<br>AwayWins=%{y}<br>AwayWinPct=%{marker.size}<extra></extra>",
         "legendgroup": "Denver Nuggets",
         "marker": {
          "color": "#B6E880",
          "size": [
           0.5
          ],
          "sizemode": "area",
          "sizeref": 0.00155,
          "symbol": "circle"
         },
         "mode": "markers",
         "name": "Denver Nuggets",
         "orientation": "v",
         "showlegend": true,
         "type": "scatter",
         "x": [
          50
         ],
         "xaxis": "x",
         "y": [
          25
         ],
         "yaxis": "y"
        },
        {
         "hovertemplate": "Team=Detroit Pistons<br>AwayCount=%{x}<br>AwayWins=%{y}<br>AwayWinPct=%{marker.size}<extra></extra>",
         "legendgroup": "Detroit Pistons",
         "marker": {
          "color": "#FF97FF",
          "size": [
           0.195
          ],
          "sizemode": "area",
          "sizeref": 0.00155,
          "symbol": "circle"
         },
         "mode": "markers",
         "name": "Detroit Pistons",
         "orientation": "v",
         "showlegend": true,
         "type": "scatter",
         "x": [
          41
         ],
         "xaxis": "x",
         "y": [
          8
         ],
         "yaxis": "y"
        },
        {
         "hovertemplate": "Team=Golden State Warriors<br>AwayCount=%{x}<br>AwayWins=%{y}<br>AwayWinPct=%{marker.size}<extra></extra>",
         "legendgroup": "Golden State Warriors",
         "marker": {
          "color": "#FECB52",
          "size": [
           0.271
          ],
          "sizemode": "area",
          "sizeref": 0.00155,
          "symbol": "circle"
         },
         "mode": "markers",
         "name": "Golden State Warriors",
         "orientation": "v",
         "showlegend": true,
         "type": "scatter",
         "x": [
          48
         ],
         "xaxis": "x",
         "y": [
          13
         ],
         "yaxis": "y"
        },
        {
         "hovertemplate": "Team=Houston Rockets<br>AwayCount=%{x}<br>AwayWins=%{y}<br>AwayWinPct=%{marker.size}<extra></extra>",
         "legendgroup": "Houston Rockets",
         "marker": {
          "color": "#636efa",
          "size": [
           0.195
          ],
          "sizemode": "area",
          "sizeref": 0.00155,
          "symbol": "circle"
         },
         "mode": "markers",
         "name": "Houston Rockets",
         "orientation": "v",
         "showlegend": true,
         "type": "scatter",
         "x": [
          41
         ],
         "xaxis": "x",
         "y": [
          8
         ],
         "yaxis": "y"
        },
        {
         "hovertemplate": "Team=Indiana Pacers<br>AwayCount=%{x}<br>AwayWins=%{y}<br>AwayWinPct=%{marker.size}<extra></extra>",
         "legendgroup": "Indiana Pacers",
         "marker": {
          "color": "#EF553B",
          "size": [
           0.366
          ],
          "sizemode": "area",
          "sizeref": 0.00155,
          "symbol": "circle"
         },
         "mode": "markers",
         "name": "Indiana Pacers",
         "orientation": "v",
         "showlegend": true,
         "type": "scatter",
         "x": [
          41
         ],
         "xaxis": "x",
         "y": [
          15
         ],
         "yaxis": "y"
        },
        {
         "hovertemplate": "Team=Los Angeles Clippers<br>AwayCount=%{x}<br>AwayWins=%{y}<br>AwayWinPct=%{marker.size}<extra></extra>",
         "legendgroup": "Los Angeles Clippers",
         "marker": {
          "color": "#00cc96",
          "size": [
           0.5
          ],
          "sizemode": "area",
          "sizeref": 0.00155,
          "symbol": "circle"
         },
         "mode": "markers",
         "name": "Los Angeles Clippers",
         "orientation": "v",
         "showlegend": true,
         "type": "scatter",
         "x": [
          44
         ],
         "xaxis": "x",
         "y": [
          22
         ],
         "yaxis": "y"
        },
        {
         "hovertemplate": "Team=Los Angeles Lakers<br>AwayCount=%{x}<br>AwayWins=%{y}<br>AwayWinPct=%{marker.size}<extra></extra>",
         "legendgroup": "Los Angeles Lakers",
         "marker": {
          "color": "#ab63fa",
          "size": [
           0.449
          ],
          "sizemode": "area",
          "sizeref": 0.00155,
          "symbol": "circle"
         },
         "mode": "markers",
         "name": "Los Angeles Lakers",
         "orientation": "v",
         "showlegend": true,
         "type": "scatter",
         "x": [
          49
         ],
         "xaxis": "x",
         "y": [
          22
         ],
         "yaxis": "y"
        },
        {
         "hovertemplate": "Team=Memphis Grizzlies<br>AwayCount=%{x}<br>AwayWins=%{y}<br>AwayWinPct=%{marker.size}<extra></extra>",
         "legendgroup": "Memphis Grizzlies",
         "marker": {
          "color": "#FFA15A",
          "size": [
           0.364
          ],
          "sizemode": "area",
          "sizeref": 0.00155,
          "symbol": "circle"
         },
         "mode": "markers",
         "name": "Memphis Grizzlies",
         "orientation": "v",
         "showlegend": true,
         "type": "scatter",
         "x": [
          44
         ],
         "xaxis": "x",
         "y": [
          16
         ],
         "yaxis": "y"
        },
        {
         "hovertemplate": "Team=Miami Heat<br>AwayCount=%{x}<br>AwayWins=%{y}<br>AwayWinPct=%{marker.size}<extra></extra>",
         "legendgroup": "Miami Heat",
         "marker": {
          "color": "#19d3f3",
          "size": [
           0.444
          ],
          "sizemode": "area",
          "sizeref": 0.00155,
          "symbol": "circle"
         },
         "mode": "markers",
         "name": "Miami Heat",
         "orientation": "v",
         "showlegend": true,
         "type": "scatter",
         "x": [
          54
         ],
         "xaxis": "x",
         "y": [
          24
         ],
         "yaxis": "y"
        },
        {
         "hovertemplate": "Team=Milwaukee Bucks<br>AwayCount=%{x}<br>AwayWins=%{y}<br>AwayWinPct=%{marker.size}<extra></extra>",
         "legendgroup": "Milwaukee Bucks",
         "marker": {
          "color": "#FF6692",
          "size": [
           0.605
          ],
          "sizemode": "area",
          "sizeref": 0.00155,
          "symbol": "circle"
         },
         "mode": "markers",
         "name": "Milwaukee Bucks",
         "orientation": "v",
         "showlegend": true,
         "type": "scatter",
         "x": [
          43
         ],
         "xaxis": "x",
         "y": [
          26
         ],
         "yaxis": "y"
        },
        {
         "hovertemplate": "Team=Minnesota Timberwolves<br>AwayCount=%{x}<br>AwayWins=%{y}<br>AwayWinPct=%{marker.size}<extra></extra>",
         "legendgroup": "Minnesota Timberwolves",
         "marker": {
          "color": "#B6E880",
          "size": [
           0.444
          ],
          "sizemode": "area",
          "sizeref": 0.00155,
          "symbol": "circle"
         },
         "mode": "markers",
         "name": "Minnesota Timberwolves",
         "orientation": "v",
         "showlegend": true,
         "type": "scatter",
         "x": [
          45
         ],
         "xaxis": "x",
         "y": [
          20
         ],
         "yaxis": "y"
        },
        {
         "hovertemplate": "Team=New Orleans Pelicans<br>AwayCount=%{x}<br>AwayWins=%{y}<br>AwayWinPct=%{marker.size}<extra></extra>",
         "legendgroup": "New Orleans Pelicans",
         "marker": {
          "color": "#FF97FF",
          "size": [
           0.366
          ],
          "sizemode": "area",
          "sizeref": 0.00155,
          "symbol": "circle"
         },
         "mode": "markers",
         "name": "New Orleans Pelicans",
         "orientation": "v",
         "showlegend": true,
         "type": "scatter",
         "x": [
          41
         ],
         "xaxis": "x",
         "y": [
          15
         ],
         "yaxis": "y"
        },
        {
         "hovertemplate": "Team=New York Knicks<br>AwayCount=%{x}<br>AwayWins=%{y}<br>AwayWinPct=%{marker.size}<extra></extra>",
         "legendgroup": "New York Knicks",
         "marker": {
          "color": "#FECB52",
          "size": [
           0.553
          ],
          "sizemode": "area",
          "sizeref": 0.00155,
          "symbol": "circle"
         },
         "mode": "markers",
         "name": "New York Knicks",
         "orientation": "v",
         "showlegend": true,
         "type": "scatter",
         "x": [
          47
         ],
         "xaxis": "x",
         "y": [
          26
         ],
         "yaxis": "y"
        },
        {
         "hovertemplate": "Team=Oklahoma City Thunder<br>AwayCount=%{x}<br>AwayWins=%{y}<br>AwayWinPct=%{marker.size}<extra></extra>",
         "legendgroup": "Oklahoma City Thunder",
         "marker": {
          "color": "#636efa",
          "size": [
           0.395
          ],
          "sizemode": "area",
          "sizeref": 0.00155,
          "symbol": "circle"
         },
         "mode": "markers",
         "name": "Oklahoma City Thunder",
         "orientation": "v",
         "showlegend": true,
         "type": "scatter",
         "x": [
          43
         ],
         "xaxis": "x",
         "y": [
          17
         ],
         "yaxis": "y"
        },
        {
         "hovertemplate": "Team=Orlando Magic<br>AwayCount=%{x}<br>AwayWins=%{y}<br>AwayWinPct=%{marker.size}<extra></extra>",
         "legendgroup": "Orlando Magic",
         "marker": {
          "color": "#EF553B",
          "size": [
           0.341
          ],
          "sizemode": "area",
          "sizeref": 0.00155,
          "symbol": "circle"
         },
         "mode": "markers",
         "name": "Orlando Magic",
         "orientation": "v",
         "showlegend": true,
         "type": "scatter",
         "x": [
          41
         ],
         "xaxis": "x",
         "y": [
          14
         ],
         "yaxis": "y"
        },
        {
         "hovertemplate": "Team=Philadelphia 76ers<br>AwayCount=%{x}<br>AwayWins=%{y}<br>AwayWinPct=%{marker.size}<extra></extra>",
         "legendgroup": "Philadelphia 76ers",
         "marker": {
          "color": "#00cc96",
          "size": [
           0.617
          ],
          "sizemode": "area",
          "sizeref": 0.00155,
          "symbol": "circle"
         },
         "mode": "markers",
         "name": "Philadelphia 76ers",
         "orientation": "v",
         "showlegend": true,
         "type": "scatter",
         "x": [
          47
         ],
         "xaxis": "x",
         "y": [
          29
         ],
         "yaxis": "y"
        },
        {
         "hovertemplate": "Team=Phoenix Suns<br>AwayCount=%{x}<br>AwayWins=%{y}<br>AwayWinPct=%{marker.size}<extra></extra>",
         "legendgroup": "Phoenix Suns",
         "marker": {
          "color": "#ab63fa",
          "size": [
           0.413
          ],
          "sizemode": "area",
          "sizeref": 0.00155,
          "symbol": "circle"
         },
         "mode": "markers",
         "name": "Phoenix Suns",
         "orientation": "v",
         "showlegend": true,
         "type": "scatter",
         "x": [
          46
         ],
         "xaxis": "x",
         "y": [
          19
         ],
         "yaxis": "y"
        },
        {
         "hovertemplate": "Team=Portland Trail Blazers<br>AwayCount=%{x}<br>AwayWins=%{y}<br>AwayWinPct=%{marker.size}<extra></extra>",
         "legendgroup": "Portland Trail Blazers",
         "marker": {
          "color": "#FFA15A",
          "size": [
           0.39
          ],
          "sizemode": "area",
          "sizeref": 0.00155,
          "symbol": "circle"
         },
         "mode": "markers",
         "name": "Portland Trail Blazers",
         "orientation": "v",
         "showlegend": true,
         "type": "scatter",
         "x": [
          41
         ],
         "xaxis": "x",
         "y": [
          16
         ],
         "yaxis": "y"
        },
        {
         "hovertemplate": "Team=Sacramento Kings<br>AwayCount=%{x}<br>AwayWins=%{y}<br>AwayWinPct=%{marker.size}<extra></extra>",
         "legendgroup": "Sacramento Kings",
         "marker": {
          "color": "#19d3f3",
          "size": [
           0.591
          ],
          "sizemode": "area",
          "sizeref": 0.00155,
          "symbol": "circle"
         },
         "mode": "markers",
         "name": "Sacramento Kings",
         "orientation": "v",
         "showlegend": true,
         "type": "scatter",
         "x": [
          44
         ],
         "xaxis": "x",
         "y": [
          26
         ],
         "yaxis": "y"
        },
        {
         "hovertemplate": "Team=San Antonio Spurs<br>AwayCount=%{x}<br>AwayWins=%{y}<br>AwayWinPct=%{marker.size}<extra></extra>",
         "legendgroup": "San Antonio Spurs",
         "marker": {
          "color": "#FF6692",
          "size": [
           0.195
          ],
          "sizemode": "area",
          "sizeref": 0.00155,
          "symbol": "circle"
         },
         "mode": "markers",
         "name": "San Antonio Spurs",
         "orientation": "v",
         "showlegend": true,
         "type": "scatter",
         "x": [
          41
         ],
         "xaxis": "x",
         "y": [
          8
         ],
         "yaxis": "y"
        },
        {
         "hovertemplate": "Team=Toronto Raptors<br>AwayCount=%{x}<br>AwayWins=%{y}<br>AwayWinPct=%{marker.size}<extra></extra>",
         "legendgroup": "Toronto Raptors",
         "marker": {
          "color": "#B6E880",
          "size": [
           0.341
          ],
          "sizemode": "area",
          "sizeref": 0.00155,
          "symbol": "circle"
         },
         "mode": "markers",
         "name": "Toronto Raptors",
         "orientation": "v",
         "showlegend": true,
         "type": "scatter",
         "x": [
          41
         ],
         "xaxis": "x",
         "y": [
          14
         ],
         "yaxis": "y"
        },
        {
         "hovertemplate": "Team=Utah Jazz<br>AwayCount=%{x}<br>AwayWins=%{y}<br>AwayWinPct=%{marker.size}<extra></extra>",
         "legendgroup": "Utah Jazz",
         "marker": {
          "color": "#FF97FF",
          "size": [
           0.341
          ],
          "sizemode": "area",
          "sizeref": 0.00155,
          "symbol": "circle"
         },
         "mode": "markers",
         "name": "Utah Jazz",
         "orientation": "v",
         "showlegend": true,
         "type": "scatter",
         "x": [
          41
         ],
         "xaxis": "x",
         "y": [
          14
         ],
         "yaxis": "y"
        },
        {
         "hovertemplate": "Team=Washington Wizards<br>AwayCount=%{x}<br>AwayWins=%{y}<br>AwayWinPct=%{marker.size}<extra></extra>",
         "legendgroup": "Washington Wizards",
         "marker": {
          "color": "#FECB52",
          "size": [
           0.39
          ],
          "sizemode": "area",
          "sizeref": 0.00155,
          "symbol": "circle"
         },
         "mode": "markers",
         "name": "Washington Wizards",
         "orientation": "v",
         "showlegend": true,
         "type": "scatter",
         "x": [
          41
         ],
         "xaxis": "x",
         "y": [
          16
         ],
         "yaxis": "y"
        }
       ],
       "layout": {
        "legend": {
         "itemsizing": "constant",
         "title": {
          "text": "Team"
         },
         "tracegroupgap": 0
        },
        "margin": {
         "t": 60
        },
        "template": {
         "data": {
          "bar": [
           {
            "error_x": {
             "color": "#2a3f5f"
            },
            "error_y": {
             "color": "#2a3f5f"
            },
            "marker": {
             "line": {
              "color": "#E5ECF6",
              "width": 0.5
             },
             "pattern": {
              "fillmode": "overlay",
              "size": 10,
              "solidity": 0.2
             }
            },
            "type": "bar"
           }
          ],
          "barpolar": [
           {
            "marker": {
             "line": {
              "color": "#E5ECF6",
              "width": 0.5
             },
             "pattern": {
              "fillmode": "overlay",
              "size": 10,
              "solidity": 0.2
             }
            },
            "type": "barpolar"
           }
          ],
          "carpet": [
           {
            "aaxis": {
             "endlinecolor": "#2a3f5f",
             "gridcolor": "white",
             "linecolor": "white",
             "minorgridcolor": "white",
             "startlinecolor": "#2a3f5f"
            },
            "baxis": {
             "endlinecolor": "#2a3f5f",
             "gridcolor": "white",
             "linecolor": "white",
             "minorgridcolor": "white",
             "startlinecolor": "#2a3f5f"
            },
            "type": "carpet"
           }
          ],
          "choropleth": [
           {
            "colorbar": {
             "outlinewidth": 0,
             "ticks": ""
            },
            "type": "choropleth"
           }
          ],
          "contour": [
           {
            "colorbar": {
             "outlinewidth": 0,
             "ticks": ""
            },
            "colorscale": [
             [
              0,
              "#0d0887"
             ],
             [
              0.1111111111111111,
              "#46039f"
             ],
             [
              0.2222222222222222,
              "#7201a8"
             ],
             [
              0.3333333333333333,
              "#9c179e"
             ],
             [
              0.4444444444444444,
              "#bd3786"
             ],
             [
              0.5555555555555556,
              "#d8576b"
             ],
             [
              0.6666666666666666,
              "#ed7953"
             ],
             [
              0.7777777777777778,
              "#fb9f3a"
             ],
             [
              0.8888888888888888,
              "#fdca26"
             ],
             [
              1,
              "#f0f921"
             ]
            ],
            "type": "contour"
           }
          ],
          "contourcarpet": [
           {
            "colorbar": {
             "outlinewidth": 0,
             "ticks": ""
            },
            "type": "contourcarpet"
           }
          ],
          "heatmap": [
           {
            "colorbar": {
             "outlinewidth": 0,
             "ticks": ""
            },
            "colorscale": [
             [
              0,
              "#0d0887"
             ],
             [
              0.1111111111111111,
              "#46039f"
             ],
             [
              0.2222222222222222,
              "#7201a8"
             ],
             [
              0.3333333333333333,
              "#9c179e"
             ],
             [
              0.4444444444444444,
              "#bd3786"
             ],
             [
              0.5555555555555556,
              "#d8576b"
             ],
             [
              0.6666666666666666,
              "#ed7953"
             ],
             [
              0.7777777777777778,
              "#fb9f3a"
             ],
             [
              0.8888888888888888,
              "#fdca26"
             ],
             [
              1,
              "#f0f921"
             ]
            ],
            "type": "heatmap"
           }
          ],
          "heatmapgl": [
           {
            "colorbar": {
             "outlinewidth": 0,
             "ticks": ""
            },
            "colorscale": [
             [
              0,
              "#0d0887"
             ],
             [
              0.1111111111111111,
              "#46039f"
             ],
             [
              0.2222222222222222,
              "#7201a8"
             ],
             [
              0.3333333333333333,
              "#9c179e"
             ],
             [
              0.4444444444444444,
              "#bd3786"
             ],
             [
              0.5555555555555556,
              "#d8576b"
             ],
             [
              0.6666666666666666,
              "#ed7953"
             ],
             [
              0.7777777777777778,
              "#fb9f3a"
             ],
             [
              0.8888888888888888,
              "#fdca26"
             ],
             [
              1,
              "#f0f921"
             ]
            ],
            "type": "heatmapgl"
           }
          ],
          "histogram": [
           {
            "marker": {
             "pattern": {
              "fillmode": "overlay",
              "size": 10,
              "solidity": 0.2
             }
            },
            "type": "histogram"
           }
          ],
          "histogram2d": [
           {
            "colorbar": {
             "outlinewidth": 0,
             "ticks": ""
            },
            "colorscale": [
             [
              0,
              "#0d0887"
             ],
             [
              0.1111111111111111,
              "#46039f"
             ],
             [
              0.2222222222222222,
              "#7201a8"
             ],
             [
              0.3333333333333333,
              "#9c179e"
             ],
             [
              0.4444444444444444,
              "#bd3786"
             ],
             [
              0.5555555555555556,
              "#d8576b"
             ],
             [
              0.6666666666666666,
              "#ed7953"
             ],
             [
              0.7777777777777778,
              "#fb9f3a"
             ],
             [
              0.8888888888888888,
              "#fdca26"
             ],
             [
              1,
              "#f0f921"
             ]
            ],
            "type": "histogram2d"
           }
          ],
          "histogram2dcontour": [
           {
            "colorbar": {
             "outlinewidth": 0,
             "ticks": ""
            },
            "colorscale": [
             [
              0,
              "#0d0887"
             ],
             [
              0.1111111111111111,
              "#46039f"
             ],
             [
              0.2222222222222222,
              "#7201a8"
             ],
             [
              0.3333333333333333,
              "#9c179e"
             ],
             [
              0.4444444444444444,
              "#bd3786"
             ],
             [
              0.5555555555555556,
              "#d8576b"
             ],
             [
              0.6666666666666666,
              "#ed7953"
             ],
             [
              0.7777777777777778,
              "#fb9f3a"
             ],
             [
              0.8888888888888888,
              "#fdca26"
             ],
             [
              1,
              "#f0f921"
             ]
            ],
            "type": "histogram2dcontour"
           }
          ],
          "mesh3d": [
           {
            "colorbar": {
             "outlinewidth": 0,
             "ticks": ""
            },
            "type": "mesh3d"
           }
          ],
          "parcoords": [
           {
            "line": {
             "colorbar": {
              "outlinewidth": 0,
              "ticks": ""
             }
            },
            "type": "parcoords"
           }
          ],
          "pie": [
           {
            "automargin": true,
            "type": "pie"
           }
          ],
          "scatter": [
           {
            "fillpattern": {
             "fillmode": "overlay",
             "size": 10,
             "solidity": 0.2
            },
            "type": "scatter"
           }
          ],
          "scatter3d": [
           {
            "line": {
             "colorbar": {
              "outlinewidth": 0,
              "ticks": ""
             }
            },
            "marker": {
             "colorbar": {
              "outlinewidth": 0,
              "ticks": ""
             }
            },
            "type": "scatter3d"
           }
          ],
          "scattercarpet": [
           {
            "marker": {
             "colorbar": {
              "outlinewidth": 0,
              "ticks": ""
             }
            },
            "type": "scattercarpet"
           }
          ],
          "scattergeo": [
           {
            "marker": {
             "colorbar": {
              "outlinewidth": 0,
              "ticks": ""
             }
            },
            "type": "scattergeo"
           }
          ],
          "scattergl": [
           {
            "marker": {
             "colorbar": {
              "outlinewidth": 0,
              "ticks": ""
             }
            },
            "type": "scattergl"
           }
          ],
          "scattermapbox": [
           {
            "marker": {
             "colorbar": {
              "outlinewidth": 0,
              "ticks": ""
             }
            },
            "type": "scattermapbox"
           }
          ],
          "scatterpolar": [
           {
            "marker": {
             "colorbar": {
              "outlinewidth": 0,
              "ticks": ""
             }
            },
            "type": "scatterpolar"
           }
          ],
          "scatterpolargl": [
           {
            "marker": {
             "colorbar": {
              "outlinewidth": 0,
              "ticks": ""
             }
            },
            "type": "scatterpolargl"
           }
          ],
          "scatterternary": [
           {
            "marker": {
             "colorbar": {
              "outlinewidth": 0,
              "ticks": ""
             }
            },
            "type": "scatterternary"
           }
          ],
          "surface": [
           {
            "colorbar": {
             "outlinewidth": 0,
             "ticks": ""
            },
            "colorscale": [
             [
              0,
              "#0d0887"
             ],
             [
              0.1111111111111111,
              "#46039f"
             ],
             [
              0.2222222222222222,
              "#7201a8"
             ],
             [
              0.3333333333333333,
              "#9c179e"
             ],
             [
              0.4444444444444444,
              "#bd3786"
             ],
             [
              0.5555555555555556,
              "#d8576b"
             ],
             [
              0.6666666666666666,
              "#ed7953"
             ],
             [
              0.7777777777777778,
              "#fb9f3a"
             ],
             [
              0.8888888888888888,
              "#fdca26"
             ],
             [
              1,
              "#f0f921"
             ]
            ],
            "type": "surface"
           }
          ],
          "table": [
           {
            "cells": {
             "fill": {
              "color": "#EBF0F8"
             },
             "line": {
              "color": "white"
             }
            },
            "header": {
             "fill": {
              "color": "#C8D4E3"
             },
             "line": {
              "color": "white"
             }
            },
            "type": "table"
           }
          ]
         },
         "layout": {
          "annotationdefaults": {
           "arrowcolor": "#2a3f5f",
           "arrowhead": 0,
           "arrowwidth": 1
          },
          "autotypenumbers": "strict",
          "coloraxis": {
           "colorbar": {
            "outlinewidth": 0,
            "ticks": ""
           }
          },
          "colorscale": {
           "diverging": [
            [
             0,
             "#8e0152"
            ],
            [
             0.1,
             "#c51b7d"
            ],
            [
             0.2,
             "#de77ae"
            ],
            [
             0.3,
             "#f1b6da"
            ],
            [
             0.4,
             "#fde0ef"
            ],
            [
             0.5,
             "#f7f7f7"
            ],
            [
             0.6,
             "#e6f5d0"
            ],
            [
             0.7,
             "#b8e186"
            ],
            [
             0.8,
             "#7fbc41"
            ],
            [
             0.9,
             "#4d9221"
            ],
            [
             1,
             "#276419"
            ]
           ],
           "sequential": [
            [
             0,
             "#0d0887"
            ],
            [
             0.1111111111111111,
             "#46039f"
            ],
            [
             0.2222222222222222,
             "#7201a8"
            ],
            [
             0.3333333333333333,
             "#9c179e"
            ],
            [
             0.4444444444444444,
             "#bd3786"
            ],
            [
             0.5555555555555556,
             "#d8576b"
            ],
            [
             0.6666666666666666,
             "#ed7953"
            ],
            [
             0.7777777777777778,
             "#fb9f3a"
            ],
            [
             0.8888888888888888,
             "#fdca26"
            ],
            [
             1,
             "#f0f921"
            ]
           ],
           "sequentialminus": [
            [
             0,
             "#0d0887"
            ],
            [
             0.1111111111111111,
             "#46039f"
            ],
            [
             0.2222222222222222,
             "#7201a8"
            ],
            [
             0.3333333333333333,
             "#9c179e"
            ],
            [
             0.4444444444444444,
             "#bd3786"
            ],
            [
             0.5555555555555556,
             "#d8576b"
            ],
            [
             0.6666666666666666,
             "#ed7953"
            ],
            [
             0.7777777777777778,
             "#fb9f3a"
            ],
            [
             0.8888888888888888,
             "#fdca26"
            ],
            [
             1,
             "#f0f921"
            ]
           ]
          },
          "colorway": [
           "#636efa",
           "#EF553B",
           "#00cc96",
           "#ab63fa",
           "#FFA15A",
           "#19d3f3",
           "#FF6692",
           "#B6E880",
           "#FF97FF",
           "#FECB52"
          ],
          "font": {
           "color": "#2a3f5f"
          },
          "geo": {
           "bgcolor": "white",
           "lakecolor": "white",
           "landcolor": "#E5ECF6",
           "showlakes": true,
           "showland": true,
           "subunitcolor": "white"
          },
          "hoverlabel": {
           "align": "left"
          },
          "hovermode": "closest",
          "mapbox": {
           "style": "light"
          },
          "paper_bgcolor": "white",
          "plot_bgcolor": "#E5ECF6",
          "polar": {
           "angularaxis": {
            "gridcolor": "white",
            "linecolor": "white",
            "ticks": ""
           },
           "bgcolor": "#E5ECF6",
           "radialaxis": {
            "gridcolor": "white",
            "linecolor": "white",
            "ticks": ""
           }
          },
          "scene": {
           "xaxis": {
            "backgroundcolor": "#E5ECF6",
            "gridcolor": "white",
            "gridwidth": 2,
            "linecolor": "white",
            "showbackground": true,
            "ticks": "",
            "zerolinecolor": "white"
           },
           "yaxis": {
            "backgroundcolor": "#E5ECF6",
            "gridcolor": "white",
            "gridwidth": 2,
            "linecolor": "white",
            "showbackground": true,
            "ticks": "",
            "zerolinecolor": "white"
           },
           "zaxis": {
            "backgroundcolor": "#E5ECF6",
            "gridcolor": "white",
            "gridwidth": 2,
            "linecolor": "white",
            "showbackground": true,
            "ticks": "",
            "zerolinecolor": "white"
           }
          },
          "shapedefaults": {
           "line": {
            "color": "#2a3f5f"
           }
          },
          "ternary": {
           "aaxis": {
            "gridcolor": "white",
            "linecolor": "white",
            "ticks": ""
           },
           "baxis": {
            "gridcolor": "white",
            "linecolor": "white",
            "ticks": ""
           },
           "bgcolor": "#E5ECF6",
           "caxis": {
            "gridcolor": "white",
            "linecolor": "white",
            "ticks": ""
           }
          },
          "title": {
           "x": 0.05
          },
          "xaxis": {
           "automargin": true,
           "gridcolor": "white",
           "linecolor": "white",
           "ticks": "",
           "title": {
            "standoff": 15
           },
           "zerolinecolor": "white",
           "zerolinewidth": 2
          },
          "yaxis": {
           "automargin": true,
           "gridcolor": "white",
           "linecolor": "white",
           "ticks": "",
           "title": {
            "standoff": 15
           },
           "zerolinecolor": "white",
           "zerolinewidth": 2
          }
         }
        },
        "xaxis": {
         "anchor": "y",
         "domain": [
          0,
          1
         ],
         "title": {
          "text": "AwayCount"
         }
        },
        "yaxis": {
         "anchor": "x",
         "domain": [
          0,
          1
         ],
         "title": {
          "text": "AwayWins"
         }
        }
       }
      }
     },
     "metadata": {},
     "output_type": "display_data"
    }
   ],
   "source": [
    "fig = px.scatter(\n",
    "    nba2023,\n",
    "    x=\"AwayCount\",\n",
    "    y=\"AwayWins\",\n",
    "    color=nba2023.index,\n",
    "    size=nba2023[\"AwayWinPct\"] \n",
    ")\n",
    "\n",
    "fig.show()"
   ]
  },
  {
   "cell_type": "code",
   "execution_count": 140,
   "metadata": {},
   "outputs": [
    {
     "data": {
      "application/vnd.plotly.v1+json": {
       "config": {
        "plotlyServerURL": "https://plot.ly"
       },
       "data": [
        {
         "hovertemplate": "Team=Atlanta Hawks<br>HomeWins=%{x}<br>AwayWins=%{y}<br>AverageHomePoints=%{marker.size}<extra></extra>",
         "legendgroup": "Atlanta Hawks",
         "marker": {
          "color": "#636efa",
          "size": [
           119.909
          ],
          "sizemode": "area",
          "sizeref": 0.3063325,
          "symbol": "circle"
         },
         "mode": "markers",
         "name": "Atlanta Hawks",
         "orientation": "v",
         "showlegend": true,
         "type": "scatter",
         "x": [
          25
         ],
         "xaxis": "x",
         "y": [
          19
         ],
         "yaxis": "y"
        },
        {
         "hovertemplate": "Team=Boston Celtics<br>HomeWins=%{x}<br>AwayWins=%{y}<br>AverageHomePoints=%{marker.size}<extra></extra>",
         "legendgroup": "Boston Celtics",
         "marker": {
          "color": "#EF553B",
          "size": [
           118.365
          ],
          "sizemode": "area",
          "sizeref": 0.3063325,
          "symbol": "circle"
         },
         "mode": "markers",
         "name": "Boston Celtics",
         "orientation": "v",
         "showlegend": true,
         "type": "scatter",
         "x": [
          37
         ],
         "xaxis": "x",
         "y": [
          31
         ],
         "yaxis": "y"
        },
        {
         "hovertemplate": "Team=Brooklyn Nets<br>HomeWins=%{x}<br>AwayWins=%{y}<br>AverageHomePoints=%{marker.size}<extra></extra>",
         "legendgroup": "Brooklyn Nets",
         "marker": {
          "color": "#00cc96",
          "size": [
           112.07
          ],
          "sizemode": "area",
          "sizeref": 0.3063325,
          "symbol": "circle"
         },
         "mode": "markers",
         "name": "Brooklyn Nets",
         "orientation": "v",
         "showlegend": true,
         "type": "scatter",
         "x": [
          23
         ],
         "xaxis": "x",
         "y": [
          22
         ],
         "yaxis": "y"
        },
        {
         "hovertemplate": "Team=Charlotte Hornets<br>HomeWins=%{x}<br>AwayWins=%{y}<br>AverageHomePoints=%{marker.size}<extra></extra>",
         "legendgroup": "Charlotte Hornets",
         "marker": {
          "color": "#ab63fa",
          "size": [
           109.244
          ],
          "sizemode": "area",
          "sizeref": 0.3063325,
          "symbol": "circle"
         },
         "mode": "markers",
         "name": "Charlotte Hornets",
         "orientation": "v",
         "showlegend": true,
         "type": "scatter",
         "x": [
          13
         ],
         "xaxis": "x",
         "y": [
          14
         ],
         "yaxis": "y"
        },
        {
         "hovertemplate": "Team=Chicago Bulls<br>HomeWins=%{x}<br>AwayWins=%{y}<br>AverageHomePoints=%{marker.size}<extra></extra>",
         "legendgroup": "Chicago Bulls",
         "marker": {
          "color": "#FFA15A",
          "size": [
           114.049
          ],
          "sizemode": "area",
          "sizeref": 0.3063325,
          "symbol": "circle"
         },
         "mode": "markers",
         "name": "Chicago Bulls",
         "orientation": "v",
         "showlegend": true,
         "type": "scatter",
         "x": [
          22
         ],
         "xaxis": "x",
         "y": [
          19
         ],
         "yaxis": "y"
        },
        {
         "hovertemplate": "Team=Cleveland Cavaliers<br>HomeWins=%{x}<br>AwayWins=%{y}<br>AverageHomePoints=%{marker.size}<extra></extra>",
         "legendgroup": "Cleveland Cavaliers",
         "marker": {
          "color": "#19d3f3",
          "size": [
           112.25
          ],
          "sizemode": "area",
          "sizeref": 0.3063325,
          "symbol": "circle"
         },
         "mode": "markers",
         "name": "Cleveland Cavaliers",
         "orientation": "v",
         "showlegend": true,
         "type": "scatter",
         "x": [
          32
         ],
         "xaxis": "x",
         "y": [
          20
         ],
         "yaxis": "y"
        },
        {
         "hovertemplate": "Team=Dallas Mavericks<br>HomeWins=%{x}<br>AwayWins=%{y}<br>AverageHomePoints=%{marker.size}<extra></extra>",
         "legendgroup": "Dallas Mavericks",
         "marker": {
          "color": "#FF6692",
          "size": [
           115.366
          ],
          "sizemode": "area",
          "sizeref": 0.3063325,
          "symbol": "circle"
         },
         "mode": "markers",
         "name": "Dallas Mavericks",
         "orientation": "v",
         "showlegend": true,
         "type": "scatter",
         "x": [
          23
         ],
         "xaxis": "x",
         "y": [
          15
         ],
         "yaxis": "y"
        },
        {
         "hovertemplate": "Team=Denver Nuggets<br>HomeWins=%{x}<br>AwayWins=%{y}<br>AverageHomePoints=%{marker.size}<extra></extra>",
         "legendgroup": "Denver Nuggets",
         "marker": {
          "color": "#B6E880",
          "size": [
           117.769
          ],
          "sizemode": "area",
          "sizeref": 0.3063325,
          "symbol": "circle"
         },
         "mode": "markers",
         "name": "Denver Nuggets",
         "orientation": "v",
         "showlegend": true,
         "type": "scatter",
         "x": [
          44
         ],
         "xaxis": "x",
         "y": [
          25
         ],
         "yaxis": "y"
        },
        {
         "hovertemplate": "Team=Detroit Pistons<br>HomeWins=%{x}<br>AwayWins=%{y}<br>AverageHomePoints=%{marker.size}<extra></extra>",
         "legendgroup": "Detroit Pistons",
         "marker": {
          "color": "#FF97FF",
          "size": [
           112.317
          ],
          "sizemode": "area",
          "sizeref": 0.3063325,
          "symbol": "circle"
         },
         "mode": "markers",
         "name": "Detroit Pistons",
         "orientation": "v",
         "showlegend": true,
         "type": "scatter",
         "x": [
          9
         ],
         "xaxis": "x",
         "y": [
          8
         ],
         "yaxis": "y"
        },
        {
         "hovertemplate": "Team=Golden State Warriors<br>HomeWins=%{x}<br>AwayWins=%{y}<br>AverageHomePoints=%{marker.size}<extra></extra>",
         "legendgroup": "Golden State Warriors",
         "marker": {
          "color": "#FECB52",
          "size": [
           119.298
          ],
          "sizemode": "area",
          "sizeref": 0.3063325,
          "symbol": "circle"
         },
         "mode": "markers",
         "name": "Golden State Warriors",
         "orientation": "v",
         "showlegend": true,
         "type": "scatter",
         "x": [
          37
         ],
         "xaxis": "x",
         "y": [
          13
         ],
         "yaxis": "y"
        },
        {
         "hovertemplate": "Team=Houston Rockets<br>HomeWins=%{x}<br>AwayWins=%{y}<br>AverageHomePoints=%{marker.size}<extra></extra>",
         "legendgroup": "Houston Rockets",
         "marker": {
          "color": "#636efa",
          "size": [
           110.756
          ],
          "sizemode": "area",
          "sizeref": 0.3063325,
          "symbol": "circle"
         },
         "mode": "markers",
         "name": "Houston Rockets",
         "orientation": "v",
         "showlegend": true,
         "type": "scatter",
         "x": [
          14
         ],
         "xaxis": "x",
         "y": [
          8
         ],
         "yaxis": "y"
        },
        {
         "hovertemplate": "Team=Indiana Pacers<br>HomeWins=%{x}<br>AwayWins=%{y}<br>AverageHomePoints=%{marker.size}<extra></extra>",
         "legendgroup": "Indiana Pacers",
         "marker": {
          "color": "#EF553B",
          "size": [
           118.927
          ],
          "sizemode": "area",
          "sizeref": 0.3063325,
          "symbol": "circle"
         },
         "mode": "markers",
         "name": "Indiana Pacers",
         "orientation": "v",
         "showlegend": true,
         "type": "scatter",
         "x": [
          20
         ],
         "xaxis": "x",
         "y": [
          15
         ],
         "yaxis": "y"
        },
        {
         "hovertemplate": "Team=Los Angeles Clippers<br>HomeWins=%{x}<br>AwayWins=%{y}<br>AverageHomePoints=%{marker.size}<extra></extra>",
         "legendgroup": "Los Angeles Clippers",
         "marker": {
          "color": "#00cc96",
          "size": [
           112.698
          ],
          "sizemode": "area",
          "sizeref": 0.3063325,
          "symbol": "circle"
         },
         "mode": "markers",
         "name": "Los Angeles Clippers",
         "orientation": "v",
         "showlegend": true,
         "type": "scatter",
         "x": [
          23
         ],
         "xaxis": "x",
         "y": [
          22
         ],
         "yaxis": "y"
        },
        {
         "hovertemplate": "Team=Los Angeles Lakers<br>HomeWins=%{x}<br>AwayWins=%{y}<br>AverageHomePoints=%{marker.size}<extra></extra>",
         "legendgroup": "Los Angeles Lakers",
         "marker": {
          "color": "#ab63fa",
          "size": [
           116.62
          ],
          "sizemode": "area",
          "sizeref": 0.3063325,
          "symbol": "circle"
         },
         "mode": "markers",
         "name": "Los Angeles Lakers",
         "orientation": "v",
         "showlegend": true,
         "type": "scatter",
         "x": [
          30
         ],
         "xaxis": "x",
         "y": [
          22
         ],
         "yaxis": "y"
        },
        {
         "hovertemplate": "Team=Memphis Grizzlies<br>HomeWins=%{x}<br>AwayWins=%{y}<br>AverageHomePoints=%{marker.size}<extra></extra>",
         "legendgroup": "Memphis Grizzlies",
         "marker": {
          "color": "#FFA15A",
          "size": [
           119.136
          ],
          "sizemode": "area",
          "sizeref": 0.3063325,
          "symbol": "circle"
         },
         "mode": "markers",
         "name": "Memphis Grizzlies",
         "orientation": "v",
         "showlegend": true,
         "type": "scatter",
         "x": [
          37
         ],
         "xaxis": "x",
         "y": [
          16
         ],
         "yaxis": "y"
        },
        {
         "hovertemplate": "Team=Miami Heat<br>HomeWins=%{x}<br>AwayWins=%{y}<br>AverageHomePoints=%{marker.size}<extra></extra>",
         "legendgroup": "Miami Heat",
         "marker": {
          "color": "#19d3f3",
          "size": [
           110.283
          ],
          "sizemode": "area",
          "sizeref": 0.3063325,
          "symbol": "circle"
         },
         "mode": "markers",
         "name": "Miami Heat",
         "orientation": "v",
         "showlegend": true,
         "type": "scatter",
         "x": [
          34
         ],
         "xaxis": "x",
         "y": [
          24
         ],
         "yaxis": "y"
        },
        {
         "hovertemplate": "Team=Milwaukee Bucks<br>HomeWins=%{x}<br>AwayWins=%{y}<br>AverageHomePoints=%{marker.size}<extra></extra>",
         "legendgroup": "Milwaukee Bucks",
         "marker": {
          "color": "#FF6692",
          "size": [
           119.386
          ],
          "sizemode": "area",
          "sizeref": 0.3063325,
          "symbol": "circle"
         },
         "mode": "markers",
         "name": "Milwaukee Bucks",
         "orientation": "v",
         "showlegend": true,
         "type": "scatter",
         "x": [
          33
         ],
         "xaxis": "x",
         "y": [
          26
         ],
         "yaxis": "y"
        },
        {
         "hovertemplate": "Team=Minnesota Timberwolves<br>HomeWins=%{x}<br>AwayWins=%{y}<br>AverageHomePoints=%{marker.size}<extra></extra>",
         "legendgroup": "Minnesota Timberwolves",
         "marker": {
          "color": "#B6E880",
          "size": [
           115.864
          ],
          "sizemode": "area",
          "sizeref": 0.3063325,
          "symbol": "circle"
         },
         "mode": "markers",
         "name": "Minnesota Timberwolves",
         "orientation": "v",
         "showlegend": true,
         "type": "scatter",
         "x": [
          24
         ],
         "xaxis": "x",
         "y": [
          20
         ],
         "yaxis": "y"
        },
        {
         "hovertemplate": "Team=New Orleans Pelicans<br>HomeWins=%{x}<br>AwayWins=%{y}<br>AverageHomePoints=%{marker.size}<extra></extra>",
         "legendgroup": "New Orleans Pelicans",
         "marker": {
          "color": "#FF97FF",
          "size": [
           115
          ],
          "sizemode": "area",
          "sizeref": 0.3063325,
          "symbol": "circle"
         },
         "mode": "markers",
         "name": "New Orleans Pelicans",
         "orientation": "v",
         "showlegend": true,
         "type": "scatter",
         "x": [
          27
         ],
         "xaxis": "x",
         "y": [
          15
         ],
         "yaxis": "y"
        },
        {
         "hovertemplate": "Team=New York Knicks<br>HomeWins=%{x}<br>AwayWins=%{y}<br>AverageHomePoints=%{marker.size}<extra></extra>",
         "legendgroup": "New York Knicks",
         "marker": {
          "color": "#FECB52",
          "size": [
           115.935
          ],
          "sizemode": "area",
          "sizeref": 0.3063325,
          "symbol": "circle"
         },
         "mode": "markers",
         "name": "New York Knicks",
         "orientation": "v",
         "showlegend": true,
         "type": "scatter",
         "x": [
          27
         ],
         "xaxis": "x",
         "y": [
          26
         ],
         "yaxis": "y"
        },
        {
         "hovertemplate": "Team=Oklahoma City Thunder<br>HomeWins=%{x}<br>AwayWins=%{y}<br>AverageHomePoints=%{marker.size}<extra></extra>",
         "legendgroup": "Oklahoma City Thunder",
         "marker": {
          "color": "#636efa",
          "size": [
           120.829
          ],
          "sizemode": "area",
          "sizeref": 0.3063325,
          "symbol": "circle"
         },
         "mode": "markers",
         "name": "Oklahoma City Thunder",
         "orientation": "v",
         "showlegend": true,
         "type": "scatter",
         "x": [
          24
         ],
         "xaxis": "x",
         "y": [
          17
         ],
         "yaxis": "y"
        },
        {
         "hovertemplate": "Team=Orlando Magic<br>HomeWins=%{x}<br>AwayWins=%{y}<br>AverageHomePoints=%{marker.size}<extra></extra>",
         "legendgroup": "Orlando Magic",
         "marker": {
          "color": "#EF553B",
          "size": [
           114.317
          ],
          "sizemode": "area",
          "sizeref": 0.3063325,
          "symbol": "circle"
         },
         "mode": "markers",
         "name": "Orlando Magic",
         "orientation": "v",
         "showlegend": true,
         "type": "scatter",
         "x": [
          20
         ],
         "xaxis": "x",
         "y": [
          14
         ],
         "yaxis": "y"
        },
        {
         "hovertemplate": "Team=Philadelphia 76ers<br>HomeWins=%{x}<br>AwayWins=%{y}<br>AverageHomePoints=%{marker.size}<extra></extra>",
         "legendgroup": "Philadelphia 76ers",
         "marker": {
          "color": "#00cc96",
          "size": [
           113.109
          ],
          "sizemode": "area",
          "sizeref": 0.3063325,
          "symbol": "circle"
         },
         "mode": "markers",
         "name": "Philadelphia 76ers",
         "orientation": "v",
         "showlegend": true,
         "type": "scatter",
         "x": [
          32
         ],
         "xaxis": "x",
         "y": [
          29
         ],
         "yaxis": "y"
        },
        {
         "hovertemplate": "Team=Phoenix Suns<br>HomeWins=%{x}<br>AwayWins=%{y}<br>AverageHomePoints=%{marker.size}<extra></extra>",
         "legendgroup": "Phoenix Suns",
         "marker": {
          "color": "#ab63fa",
          "size": [
           114.83
          ],
          "sizemode": "area",
          "sizeref": 0.3063325,
          "symbol": "circle"
         },
         "mode": "markers",
         "name": "Phoenix Suns",
         "orientation": "v",
         "showlegend": true,
         "type": "scatter",
         "x": [
          32
         ],
         "xaxis": "x",
         "y": [
          19
         ],
         "yaxis": "y"
        },
        {
         "hovertemplate": "Team=Portland Trail Blazers<br>HomeWins=%{x}<br>AwayWins=%{y}<br>AverageHomePoints=%{marker.size}<extra></extra>",
         "legendgroup": "Portland Trail Blazers",
         "marker": {
          "color": "#FFA15A",
          "size": [
           115.61
          ],
          "sizemode": "area",
          "sizeref": 0.3063325,
          "symbol": "circle"
         },
         "mode": "markers",
         "name": "Portland Trail Blazers",
         "orientation": "v",
         "showlegend": true,
         "type": "scatter",
         "x": [
          17
         ],
         "xaxis": "x",
         "y": [
          16
         ],
         "yaxis": "y"
        },
        {
         "hovertemplate": "Team=Sacramento Kings<br>HomeWins=%{x}<br>AwayWins=%{y}<br>AverageHomePoints=%{marker.size}<extra></extra>",
         "legendgroup": "Sacramento Kings",
         "marker": {
          "color": "#19d3f3",
          "size": [
           122.533
          ],
          "sizemode": "area",
          "sizeref": 0.3063325,
          "symbol": "circle"
         },
         "mode": "markers",
         "name": "Sacramento Kings",
         "orientation": "v",
         "showlegend": true,
         "type": "scatter",
         "x": [
          25
         ],
         "xaxis": "x",
         "y": [
          26
         ],
         "yaxis": "y"
        },
        {
         "hovertemplate": "Team=San Antonio Spurs<br>HomeWins=%{x}<br>AwayWins=%{y}<br>AverageHomePoints=%{marker.size}<extra></extra>",
         "legendgroup": "San Antonio Spurs",
         "marker": {
          "color": "#FF6692",
          "size": [
           115.073
          ],
          "sizemode": "area",
          "sizeref": 0.3063325,
          "symbol": "circle"
         },
         "mode": "markers",
         "name": "San Antonio Spurs",
         "orientation": "v",
         "showlegend": true,
         "type": "scatter",
         "x": [
          14
         ],
         "xaxis": "x",
         "y": [
          8
         ],
         "yaxis": "y"
        },
        {
         "hovertemplate": "Team=Toronto Raptors<br>HomeWins=%{x}<br>AwayWins=%{y}<br>AverageHomePoints=%{marker.size}<extra></extra>",
         "legendgroup": "Toronto Raptors",
         "marker": {
          "color": "#B6E880",
          "size": [
           114.143
          ],
          "sizemode": "area",
          "sizeref": 0.3063325,
          "symbol": "circle"
         },
         "mode": "markers",
         "name": "Toronto Raptors",
         "orientation": "v",
         "showlegend": true,
         "type": "scatter",
         "x": [
          27
         ],
         "xaxis": "x",
         "y": [
          14
         ],
         "yaxis": "y"
        },
        {
         "hovertemplate": "Team=Utah Jazz<br>HomeWins=%{x}<br>AwayWins=%{y}<br>AverageHomePoints=%{marker.size}<extra></extra>",
         "legendgroup": "Utah Jazz",
         "marker": {
          "color": "#FF97FF",
          "size": [
           117.951
          ],
          "sizemode": "area",
          "sizeref": 0.3063325,
          "symbol": "circle"
         },
         "mode": "markers",
         "name": "Utah Jazz",
         "orientation": "v",
         "showlegend": true,
         "type": "scatter",
         "x": [
          23
         ],
         "xaxis": "x",
         "y": [
          14
         ],
         "yaxis": "y"
        },
        {
         "hovertemplate": "Team=Washington Wizards<br>HomeWins=%{x}<br>AwayWins=%{y}<br>AverageHomePoints=%{marker.size}<extra></extra>",
         "legendgroup": "Washington Wizards",
         "marker": {
          "color": "#FECB52",
          "size": [
           114.244
          ],
          "sizemode": "area",
          "sizeref": 0.3063325,
          "symbol": "circle"
         },
         "mode": "markers",
         "name": "Washington Wizards",
         "orientation": "v",
         "showlegend": true,
         "type": "scatter",
         "x": [
          19
         ],
         "xaxis": "x",
         "y": [
          16
         ],
         "yaxis": "y"
        }
       ],
       "layout": {
        "legend": {
         "itemsizing": "constant",
         "title": {
          "text": "Team"
         },
         "tracegroupgap": 0
        },
        "margin": {
         "t": 60
        },
        "template": {
         "data": {
          "bar": [
           {
            "error_x": {
             "color": "#2a3f5f"
            },
            "error_y": {
             "color": "#2a3f5f"
            },
            "marker": {
             "line": {
              "color": "#E5ECF6",
              "width": 0.5
             },
             "pattern": {
              "fillmode": "overlay",
              "size": 10,
              "solidity": 0.2
             }
            },
            "type": "bar"
           }
          ],
          "barpolar": [
           {
            "marker": {
             "line": {
              "color": "#E5ECF6",
              "width": 0.5
             },
             "pattern": {
              "fillmode": "overlay",
              "size": 10,
              "solidity": 0.2
             }
            },
            "type": "barpolar"
           }
          ],
          "carpet": [
           {
            "aaxis": {
             "endlinecolor": "#2a3f5f",
             "gridcolor": "white",
             "linecolor": "white",
             "minorgridcolor": "white",
             "startlinecolor": "#2a3f5f"
            },
            "baxis": {
             "endlinecolor": "#2a3f5f",
             "gridcolor": "white",
             "linecolor": "white",
             "minorgridcolor": "white",
             "startlinecolor": "#2a3f5f"
            },
            "type": "carpet"
           }
          ],
          "choropleth": [
           {
            "colorbar": {
             "outlinewidth": 0,
             "ticks": ""
            },
            "type": "choropleth"
           }
          ],
          "contour": [
           {
            "colorbar": {
             "outlinewidth": 0,
             "ticks": ""
            },
            "colorscale": [
             [
              0,
              "#0d0887"
             ],
             [
              0.1111111111111111,
              "#46039f"
             ],
             [
              0.2222222222222222,
              "#7201a8"
             ],
             [
              0.3333333333333333,
              "#9c179e"
             ],
             [
              0.4444444444444444,
              "#bd3786"
             ],
             [
              0.5555555555555556,
              "#d8576b"
             ],
             [
              0.6666666666666666,
              "#ed7953"
             ],
             [
              0.7777777777777778,
              "#fb9f3a"
             ],
             [
              0.8888888888888888,
              "#fdca26"
             ],
             [
              1,
              "#f0f921"
             ]
            ],
            "type": "contour"
           }
          ],
          "contourcarpet": [
           {
            "colorbar": {
             "outlinewidth": 0,
             "ticks": ""
            },
            "type": "contourcarpet"
           }
          ],
          "heatmap": [
           {
            "colorbar": {
             "outlinewidth": 0,
             "ticks": ""
            },
            "colorscale": [
             [
              0,
              "#0d0887"
             ],
             [
              0.1111111111111111,
              "#46039f"
             ],
             [
              0.2222222222222222,
              "#7201a8"
             ],
             [
              0.3333333333333333,
              "#9c179e"
             ],
             [
              0.4444444444444444,
              "#bd3786"
             ],
             [
              0.5555555555555556,
              "#d8576b"
             ],
             [
              0.6666666666666666,
              "#ed7953"
             ],
             [
              0.7777777777777778,
              "#fb9f3a"
             ],
             [
              0.8888888888888888,
              "#fdca26"
             ],
             [
              1,
              "#f0f921"
             ]
            ],
            "type": "heatmap"
           }
          ],
          "heatmapgl": [
           {
            "colorbar": {
             "outlinewidth": 0,
             "ticks": ""
            },
            "colorscale": [
             [
              0,
              "#0d0887"
             ],
             [
              0.1111111111111111,
              "#46039f"
             ],
             [
              0.2222222222222222,
              "#7201a8"
             ],
             [
              0.3333333333333333,
              "#9c179e"
             ],
             [
              0.4444444444444444,
              "#bd3786"
             ],
             [
              0.5555555555555556,
              "#d8576b"
             ],
             [
              0.6666666666666666,
              "#ed7953"
             ],
             [
              0.7777777777777778,
              "#fb9f3a"
             ],
             [
              0.8888888888888888,
              "#fdca26"
             ],
             [
              1,
              "#f0f921"
             ]
            ],
            "type": "heatmapgl"
           }
          ],
          "histogram": [
           {
            "marker": {
             "pattern": {
              "fillmode": "overlay",
              "size": 10,
              "solidity": 0.2
             }
            },
            "type": "histogram"
           }
          ],
          "histogram2d": [
           {
            "colorbar": {
             "outlinewidth": 0,
             "ticks": ""
            },
            "colorscale": [
             [
              0,
              "#0d0887"
             ],
             [
              0.1111111111111111,
              "#46039f"
             ],
             [
              0.2222222222222222,
              "#7201a8"
             ],
             [
              0.3333333333333333,
              "#9c179e"
             ],
             [
              0.4444444444444444,
              "#bd3786"
             ],
             [
              0.5555555555555556,
              "#d8576b"
             ],
             [
              0.6666666666666666,
              "#ed7953"
             ],
             [
              0.7777777777777778,
              "#fb9f3a"
             ],
             [
              0.8888888888888888,
              "#fdca26"
             ],
             [
              1,
              "#f0f921"
             ]
            ],
            "type": "histogram2d"
           }
          ],
          "histogram2dcontour": [
           {
            "colorbar": {
             "outlinewidth": 0,
             "ticks": ""
            },
            "colorscale": [
             [
              0,
              "#0d0887"
             ],
             [
              0.1111111111111111,
              "#46039f"
             ],
             [
              0.2222222222222222,
              "#7201a8"
             ],
             [
              0.3333333333333333,
              "#9c179e"
             ],
             [
              0.4444444444444444,
              "#bd3786"
             ],
             [
              0.5555555555555556,
              "#d8576b"
             ],
             [
              0.6666666666666666,
              "#ed7953"
             ],
             [
              0.7777777777777778,
              "#fb9f3a"
             ],
             [
              0.8888888888888888,
              "#fdca26"
             ],
             [
              1,
              "#f0f921"
             ]
            ],
            "type": "histogram2dcontour"
           }
          ],
          "mesh3d": [
           {
            "colorbar": {
             "outlinewidth": 0,
             "ticks": ""
            },
            "type": "mesh3d"
           }
          ],
          "parcoords": [
           {
            "line": {
             "colorbar": {
              "outlinewidth": 0,
              "ticks": ""
             }
            },
            "type": "parcoords"
           }
          ],
          "pie": [
           {
            "automargin": true,
            "type": "pie"
           }
          ],
          "scatter": [
           {
            "fillpattern": {
             "fillmode": "overlay",
             "size": 10,
             "solidity": 0.2
            },
            "type": "scatter"
           }
          ],
          "scatter3d": [
           {
            "line": {
             "colorbar": {
              "outlinewidth": 0,
              "ticks": ""
             }
            },
            "marker": {
             "colorbar": {
              "outlinewidth": 0,
              "ticks": ""
             }
            },
            "type": "scatter3d"
           }
          ],
          "scattercarpet": [
           {
            "marker": {
             "colorbar": {
              "outlinewidth": 0,
              "ticks": ""
             }
            },
            "type": "scattercarpet"
           }
          ],
          "scattergeo": [
           {
            "marker": {
             "colorbar": {
              "outlinewidth": 0,
              "ticks": ""
             }
            },
            "type": "scattergeo"
           }
          ],
          "scattergl": [
           {
            "marker": {
             "colorbar": {
              "outlinewidth": 0,
              "ticks": ""
             }
            },
            "type": "scattergl"
           }
          ],
          "scattermapbox": [
           {
            "marker": {
             "colorbar": {
              "outlinewidth": 0,
              "ticks": ""
             }
            },
            "type": "scattermapbox"
           }
          ],
          "scatterpolar": [
           {
            "marker": {
             "colorbar": {
              "outlinewidth": 0,
              "ticks": ""
             }
            },
            "type": "scatterpolar"
           }
          ],
          "scatterpolargl": [
           {
            "marker": {
             "colorbar": {
              "outlinewidth": 0,
              "ticks": ""
             }
            },
            "type": "scatterpolargl"
           }
          ],
          "scatterternary": [
           {
            "marker": {
             "colorbar": {
              "outlinewidth": 0,
              "ticks": ""
             }
            },
            "type": "scatterternary"
           }
          ],
          "surface": [
           {
            "colorbar": {
             "outlinewidth": 0,
             "ticks": ""
            },
            "colorscale": [
             [
              0,
              "#0d0887"
             ],
             [
              0.1111111111111111,
              "#46039f"
             ],
             [
              0.2222222222222222,
              "#7201a8"
             ],
             [
              0.3333333333333333,
              "#9c179e"
             ],
             [
              0.4444444444444444,
              "#bd3786"
             ],
             [
              0.5555555555555556,
              "#d8576b"
             ],
             [
              0.6666666666666666,
              "#ed7953"
             ],
             [
              0.7777777777777778,
              "#fb9f3a"
             ],
             [
              0.8888888888888888,
              "#fdca26"
             ],
             [
              1,
              "#f0f921"
             ]
            ],
            "type": "surface"
           }
          ],
          "table": [
           {
            "cells": {
             "fill": {
              "color": "#EBF0F8"
             },
             "line": {
              "color": "white"
             }
            },
            "header": {
             "fill": {
              "color": "#C8D4E3"
             },
             "line": {
              "color": "white"
             }
            },
            "type": "table"
           }
          ]
         },
         "layout": {
          "annotationdefaults": {
           "arrowcolor": "#2a3f5f",
           "arrowhead": 0,
           "arrowwidth": 1
          },
          "autotypenumbers": "strict",
          "coloraxis": {
           "colorbar": {
            "outlinewidth": 0,
            "ticks": ""
           }
          },
          "colorscale": {
           "diverging": [
            [
             0,
             "#8e0152"
            ],
            [
             0.1,
             "#c51b7d"
            ],
            [
             0.2,
             "#de77ae"
            ],
            [
             0.3,
             "#f1b6da"
            ],
            [
             0.4,
             "#fde0ef"
            ],
            [
             0.5,
             "#f7f7f7"
            ],
            [
             0.6,
             "#e6f5d0"
            ],
            [
             0.7,
             "#b8e186"
            ],
            [
             0.8,
             "#7fbc41"
            ],
            [
             0.9,
             "#4d9221"
            ],
            [
             1,
             "#276419"
            ]
           ],
           "sequential": [
            [
             0,
             "#0d0887"
            ],
            [
             0.1111111111111111,
             "#46039f"
            ],
            [
             0.2222222222222222,
             "#7201a8"
            ],
            [
             0.3333333333333333,
             "#9c179e"
            ],
            [
             0.4444444444444444,
             "#bd3786"
            ],
            [
             0.5555555555555556,
             "#d8576b"
            ],
            [
             0.6666666666666666,
             "#ed7953"
            ],
            [
             0.7777777777777778,
             "#fb9f3a"
            ],
            [
             0.8888888888888888,
             "#fdca26"
            ],
            [
             1,
             "#f0f921"
            ]
           ],
           "sequentialminus": [
            [
             0,
             "#0d0887"
            ],
            [
             0.1111111111111111,
             "#46039f"
            ],
            [
             0.2222222222222222,
             "#7201a8"
            ],
            [
             0.3333333333333333,
             "#9c179e"
            ],
            [
             0.4444444444444444,
             "#bd3786"
            ],
            [
             0.5555555555555556,
             "#d8576b"
            ],
            [
             0.6666666666666666,
             "#ed7953"
            ],
            [
             0.7777777777777778,
             "#fb9f3a"
            ],
            [
             0.8888888888888888,
             "#fdca26"
            ],
            [
             1,
             "#f0f921"
            ]
           ]
          },
          "colorway": [
           "#636efa",
           "#EF553B",
           "#00cc96",
           "#ab63fa",
           "#FFA15A",
           "#19d3f3",
           "#FF6692",
           "#B6E880",
           "#FF97FF",
           "#FECB52"
          ],
          "font": {
           "color": "#2a3f5f"
          },
          "geo": {
           "bgcolor": "white",
           "lakecolor": "white",
           "landcolor": "#E5ECF6",
           "showlakes": true,
           "showland": true,
           "subunitcolor": "white"
          },
          "hoverlabel": {
           "align": "left"
          },
          "hovermode": "closest",
          "mapbox": {
           "style": "light"
          },
          "paper_bgcolor": "white",
          "plot_bgcolor": "#E5ECF6",
          "polar": {
           "angularaxis": {
            "gridcolor": "white",
            "linecolor": "white",
            "ticks": ""
           },
           "bgcolor": "#E5ECF6",
           "radialaxis": {
            "gridcolor": "white",
            "linecolor": "white",
            "ticks": ""
           }
          },
          "scene": {
           "xaxis": {
            "backgroundcolor": "#E5ECF6",
            "gridcolor": "white",
            "gridwidth": 2,
            "linecolor": "white",
            "showbackground": true,
            "ticks": "",
            "zerolinecolor": "white"
           },
           "yaxis": {
            "backgroundcolor": "#E5ECF6",
            "gridcolor": "white",
            "gridwidth": 2,
            "linecolor": "white",
            "showbackground": true,
            "ticks": "",
            "zerolinecolor": "white"
           },
           "zaxis": {
            "backgroundcolor": "#E5ECF6",
            "gridcolor": "white",
            "gridwidth": 2,
            "linecolor": "white",
            "showbackground": true,
            "ticks": "",
            "zerolinecolor": "white"
           }
          },
          "shapedefaults": {
           "line": {
            "color": "#2a3f5f"
           }
          },
          "ternary": {
           "aaxis": {
            "gridcolor": "white",
            "linecolor": "white",
            "ticks": ""
           },
           "baxis": {
            "gridcolor": "white",
            "linecolor": "white",
            "ticks": ""
           },
           "bgcolor": "#E5ECF6",
           "caxis": {
            "gridcolor": "white",
            "linecolor": "white",
            "ticks": ""
           }
          },
          "title": {
           "x": 0.05
          },
          "xaxis": {
           "automargin": true,
           "gridcolor": "white",
           "linecolor": "white",
           "ticks": "",
           "title": {
            "standoff": 15
           },
           "zerolinecolor": "white",
           "zerolinewidth": 2
          },
          "yaxis": {
           "automargin": true,
           "gridcolor": "white",
           "linecolor": "white",
           "ticks": "",
           "title": {
            "standoff": 15
           },
           "zerolinecolor": "white",
           "zerolinewidth": 2
          }
         }
        },
        "xaxis": {
         "anchor": "y",
         "domain": [
          0,
          1
         ],
         "title": {
          "text": "HomeWins"
         }
        },
        "yaxis": {
         "anchor": "x",
         "domain": [
          0,
          1
         ],
         "title": {
          "text": "AwayWins"
         }
        }
       }
      }
     },
     "metadata": {},
     "output_type": "display_data"
    }
   ],
   "source": [
    "fig = px.scatter(\n",
    "    nba2023,\n",
    "    x=\"HomeWins\",\n",
    "    y=\"AwayWins\",\n",
    "    color=nba2023.index,\n",
    "    size=nba2023[\"AverageHomePoints\"] \n",
    ")\n",
    "\n",
    "fig.show()"
   ]
  },
  {
   "cell_type": "markdown",
   "metadata": {},
   "source": [
    "## These next chunks were aimed at cleaning datsets for different teams in order to prep it to make comparison graphs. "
   ]
  },
  {
   "cell_type": "code",
   "execution_count": 141,
   "metadata": {},
   "outputs": [],
   "source": [
    "## Your code here ##\n",
    "\n",
    "denver_data = pd.read_csv(\"data/Nugget.csv\",index_col=\"Player\")"
   ]
  },
  {
   "cell_type": "code",
   "execution_count": 142,
   "metadata": {},
   "outputs": [
    {
     "data": {
      "text/plain": [
       "<bound method NDFrame.head of                           Rk  Age   G  GS    MP   FG   FGA    FG%   3P  3PA  \\\n",
       "Player                                                                        \n",
       "Nikola Jokić               1   27  69  69  33.7  9.4  14.8  0.632  0.8  2.2   \n",
       "Jamal Murray               2   25  65  65  32.8  7.3  16.0  0.454  2.6  6.6   \n",
       "Kentavious Caldwell-Pope   3   29  76  76  31.3  3.8   8.3  0.462  1.8  4.2   \n",
       "Aaron Gordon               4   27  68  68  30.2  6.3  11.2  0.564  0.9  2.5   \n",
       "Michael Porter Jr.         5   24  62  62  29.0  6.4  13.2  0.487  3.0  7.3   \n",
       "Bruce Brown                6   26  80  31  28.5  4.5   9.3  0.483  1.1  3.2   \n",
       "Reggie Jackson             7   32  16   2  19.9  3.1   8.0  0.383  1.2  4.3   \n",
       "Jeff Green                 8   36  56   4  19.5  2.9   5.9  0.488  0.5  1.9   \n",
       "Bones Hyland               9   22  42   1  19.5  4.1  10.3  0.399  2.2  5.7   \n",
       "Christian Braun           10   21  76   6  15.5  1.9   3.8  0.495  0.4  1.3   \n",
       "DeAndre Jordan            11   34  39   8  15.0  2.3   2.9  0.765  0.0  0.0   \n",
       "Vlatko Čančar             12   25  60   9  14.8  1.8   3.8  0.476  0.7  1.9   \n",
       "Zeke Nnaji                13   22  53   5  13.7  2.1   3.7  0.561  0.3  1.2   \n",
       "Thomas Bryant             14   25  18   1  11.4  1.8   3.8  0.485  0.2  0.5   \n",
       "Ish Smith                 15   34  43   0   9.3  1.2   3.0  0.397  0.0  0.3   \n",
       "Davon Reed                16   27  35   1   9.0  0.7   2.3  0.313  0.5  1.3   \n",
       "Peyton Watson             17   20  23   2   8.1  1.3   2.6  0.492  0.3  0.6   \n",
       "Jack White                18   25  17   0   3.9  0.5   1.1  0.421  0.2  0.5   \n",
       "\n",
       "                          ...    FT%  ORB  DRB   TRB  AST  STL  BLK  TOV   PF  \\\n",
       "Player                    ...                                                   \n",
       "Nikola Jokić              ...  0.822  2.4  9.4  11.8  9.8  1.3  0.7  3.6  2.5   \n",
       "Jamal Murray              ...  0.833  0.7  3.2   4.0  6.2  1.0  0.2  2.2  1.6   \n",
       "Kentavious Caldwell-Pope  ...  0.824  0.5  2.3   2.7  2.4  1.5  0.5  1.1  1.9   \n",
       "Aaron Gordon              ...  0.608  2.4  4.1   6.6  3.0  0.8  0.8  1.4  1.9   \n",
       "Michael Porter Jr.        ...  0.800  1.0  4.5   5.5  1.0  0.6  0.5  1.1  1.9   \n",
       "Bruce Brown               ...  0.758  0.8  3.3   4.1  3.4  1.1  0.6  1.5  2.4   \n",
       "Reggie Jackson            ...  0.833  0.2  1.6   1.8  3.1  0.6  0.1  1.2  1.4   \n",
       "Jeff Green                ...  0.744  0.7  1.9   2.6  1.2  0.3  0.3  0.8  1.8   \n",
       "Bones Hyland              ...  0.866  0.2  1.8   2.0  3.0  0.7  0.3  1.6  1.6   \n",
       "Christian Braun           ...  0.625  0.6  1.8   2.4  0.8  0.5  0.2  0.5  1.3   \n",
       "DeAndre Jordan            ...  0.458  1.3  3.8   5.2  0.9  0.3  0.6  1.2  1.8   \n",
       "Vlatko Čančar             ...  0.927  0.4  1.7   2.1  1.3  0.4  0.2  0.6  1.4   \n",
       "Zeke Nnaji                ...  0.645  1.2  1.4   2.6  0.3  0.3  0.4  0.6  2.0   \n",
       "Thomas Bryant             ...  0.722  1.1  2.3   3.3  0.1  0.1  0.4  0.6  1.4   \n",
       "Ish Smith                 ...  0.500  0.1  1.1   1.3  2.3  0.2  0.2  1.0  0.8   \n",
       "Davon Reed                ...  0.750  0.3  1.3   1.6  0.5  0.4  0.1  0.6  1.0   \n",
       "Peyton Watson             ...  0.550  0.3  1.3   1.6  0.5  0.1  0.5  0.3  0.6   \n",
       "Jack White                ...  0.667  0.4  0.6   1.0  0.2  0.2  0.1  0.1  0.5   \n",
       "\n",
       "                           PTS  \n",
       "Player                          \n",
       "Nikola Jokić              24.5  \n",
       "Jamal Murray              20.0  \n",
       "Kentavious Caldwell-Pope  10.8  \n",
       "Aaron Gordon              16.3  \n",
       "Michael Porter Jr.        17.4  \n",
       "Bruce Brown               11.5  \n",
       "Reggie Jackson             7.9  \n",
       "Jeff Green                 7.8  \n",
       "Bones Hyland              12.1  \n",
       "Christian Braun            4.7  \n",
       "DeAndre Jordan             5.1  \n",
       "Vlatko Čančar              5.0  \n",
       "Zeke Nnaji                 5.2  \n",
       "Thomas Bryant              4.6  \n",
       "Ish Smith                  2.5  \n",
       "Davon Reed                 2.3  \n",
       "Peyton Watson              3.3  \n",
       "Jack White                 1.2  \n",
       "\n",
       "[18 rows x 27 columns]>"
      ]
     },
     "execution_count": 142,
     "metadata": {},
     "output_type": "execute_result"
    }
   ],
   "source": [
    "denver_data.head"
   ]
  },
  {
   "cell_type": "code",
   "execution_count": 143,
   "metadata": {},
   "outputs": [
    {
     "data": {
      "text/plain": [
       "Index(['Rk', 'Age', 'G', 'GS', 'MP', 'FG', 'FGA', 'FG%', '3P', '3PA', '3P%',\n",
       "       '2P', '2PA', '2P%', 'eFG%', 'FT', 'FTA', 'FT%', 'ORB', 'DRB', 'TRB',\n",
       "       'AST', 'STL', 'BLK', 'TOV', 'PF', 'PTS'],\n",
       "      dtype='object')"
      ]
     },
     "execution_count": 143,
     "metadata": {},
     "output_type": "execute_result"
    }
   ],
   "source": [
    "denver_data.columns"
   ]
  },
  {
   "cell_type": "code",
   "execution_count": 144,
   "metadata": {},
   "outputs": [],
   "source": [
    "numeric_columns = ['Age', 'G', 'GS', 'MP', 'FG', 'FGA', 'FG%', '3P', '3PA', '3P%',\n",
    "       '2P', '2PA', '2P%', 'eFG%', 'FT', 'FTA', 'FT%', 'ORB', 'DRB', 'TRB',\n",
    "       'AST', 'STL', 'BLK', 'TOV', 'PF', 'PTS']"
   ]
  },
  {
   "cell_type": "code",
   "execution_count": 145,
   "metadata": {},
   "outputs": [
    {
     "data": {
      "text/html": [
       "<div>\n",
       "<style scoped>\n",
       "    .dataframe tbody tr th:only-of-type {\n",
       "        vertical-align: middle;\n",
       "    }\n",
       "\n",
       "    .dataframe tbody tr th {\n",
       "        vertical-align: top;\n",
       "    }\n",
       "\n",
       "    .dataframe thead th {\n",
       "        text-align: right;\n",
       "    }\n",
       "</style>\n",
       "<table border=\"1\" class=\"dataframe\">\n",
       "  <thead>\n",
       "    <tr style=\"text-align: right;\">\n",
       "      <th></th>\n",
       "      <th>Age</th>\n",
       "      <th>G</th>\n",
       "      <th>GS</th>\n",
       "      <th>MP</th>\n",
       "      <th>FG</th>\n",
       "      <th>FGA</th>\n",
       "      <th>FG%</th>\n",
       "      <th>3P</th>\n",
       "      <th>3PA</th>\n",
       "      <th>3P%</th>\n",
       "      <th>...</th>\n",
       "      <th>FT%</th>\n",
       "      <th>ORB</th>\n",
       "      <th>DRB</th>\n",
       "      <th>TRB</th>\n",
       "      <th>AST</th>\n",
       "      <th>STL</th>\n",
       "      <th>BLK</th>\n",
       "      <th>TOV</th>\n",
       "      <th>PF</th>\n",
       "      <th>PTS</th>\n",
       "    </tr>\n",
       "    <tr>\n",
       "      <th>Player</th>\n",
       "      <th></th>\n",
       "      <th></th>\n",
       "      <th></th>\n",
       "      <th></th>\n",
       "      <th></th>\n",
       "      <th></th>\n",
       "      <th></th>\n",
       "      <th></th>\n",
       "      <th></th>\n",
       "      <th></th>\n",
       "      <th></th>\n",
       "      <th></th>\n",
       "      <th></th>\n",
       "      <th></th>\n",
       "      <th></th>\n",
       "      <th></th>\n",
       "      <th></th>\n",
       "      <th></th>\n",
       "      <th></th>\n",
       "      <th></th>\n",
       "      <th></th>\n",
       "    </tr>\n",
       "  </thead>\n",
       "  <tbody>\n",
       "    <tr>\n",
       "      <th>Nikola Jokić</th>\n",
       "      <td>27</td>\n",
       "      <td>69</td>\n",
       "      <td>69</td>\n",
       "      <td>33.7</td>\n",
       "      <td>9.4</td>\n",
       "      <td>14.8</td>\n",
       "      <td>0.632</td>\n",
       "      <td>0.8</td>\n",
       "      <td>2.2</td>\n",
       "      <td>0.383</td>\n",
       "      <td>...</td>\n",
       "      <td>0.822</td>\n",
       "      <td>2.4</td>\n",
       "      <td>9.4</td>\n",
       "      <td>11.8</td>\n",
       "      <td>9.8</td>\n",
       "      <td>1.3</td>\n",
       "      <td>0.7</td>\n",
       "      <td>3.6</td>\n",
       "      <td>2.5</td>\n",
       "      <td>24.5</td>\n",
       "    </tr>\n",
       "    <tr>\n",
       "      <th>Jamal Murray</th>\n",
       "      <td>25</td>\n",
       "      <td>65</td>\n",
       "      <td>65</td>\n",
       "      <td>32.8</td>\n",
       "      <td>7.3</td>\n",
       "      <td>16.0</td>\n",
       "      <td>0.454</td>\n",
       "      <td>2.6</td>\n",
       "      <td>6.6</td>\n",
       "      <td>0.398</td>\n",
       "      <td>...</td>\n",
       "      <td>0.833</td>\n",
       "      <td>0.7</td>\n",
       "      <td>3.2</td>\n",
       "      <td>4.0</td>\n",
       "      <td>6.2</td>\n",
       "      <td>1.0</td>\n",
       "      <td>0.2</td>\n",
       "      <td>2.2</td>\n",
       "      <td>1.6</td>\n",
       "      <td>20.0</td>\n",
       "    </tr>\n",
       "    <tr>\n",
       "      <th>Kentavious Caldwell-Pope</th>\n",
       "      <td>29</td>\n",
       "      <td>76</td>\n",
       "      <td>76</td>\n",
       "      <td>31.3</td>\n",
       "      <td>3.8</td>\n",
       "      <td>8.3</td>\n",
       "      <td>0.462</td>\n",
       "      <td>1.8</td>\n",
       "      <td>4.2</td>\n",
       "      <td>0.423</td>\n",
       "      <td>...</td>\n",
       "      <td>0.824</td>\n",
       "      <td>0.5</td>\n",
       "      <td>2.3</td>\n",
       "      <td>2.7</td>\n",
       "      <td>2.4</td>\n",
       "      <td>1.5</td>\n",
       "      <td>0.5</td>\n",
       "      <td>1.1</td>\n",
       "      <td>1.9</td>\n",
       "      <td>10.8</td>\n",
       "    </tr>\n",
       "    <tr>\n",
       "      <th>Aaron Gordon</th>\n",
       "      <td>27</td>\n",
       "      <td>68</td>\n",
       "      <td>68</td>\n",
       "      <td>30.2</td>\n",
       "      <td>6.3</td>\n",
       "      <td>11.2</td>\n",
       "      <td>0.564</td>\n",
       "      <td>0.9</td>\n",
       "      <td>2.5</td>\n",
       "      <td>0.347</td>\n",
       "      <td>...</td>\n",
       "      <td>0.608</td>\n",
       "      <td>2.4</td>\n",
       "      <td>4.1</td>\n",
       "      <td>6.6</td>\n",
       "      <td>3.0</td>\n",
       "      <td>0.8</td>\n",
       "      <td>0.8</td>\n",
       "      <td>1.4</td>\n",
       "      <td>1.9</td>\n",
       "      <td>16.3</td>\n",
       "    </tr>\n",
       "    <tr>\n",
       "      <th>Michael Porter Jr.</th>\n",
       "      <td>24</td>\n",
       "      <td>62</td>\n",
       "      <td>62</td>\n",
       "      <td>29.0</td>\n",
       "      <td>6.4</td>\n",
       "      <td>13.2</td>\n",
       "      <td>0.487</td>\n",
       "      <td>3.0</td>\n",
       "      <td>7.3</td>\n",
       "      <td>0.414</td>\n",
       "      <td>...</td>\n",
       "      <td>0.800</td>\n",
       "      <td>1.0</td>\n",
       "      <td>4.5</td>\n",
       "      <td>5.5</td>\n",
       "      <td>1.0</td>\n",
       "      <td>0.6</td>\n",
       "      <td>0.5</td>\n",
       "      <td>1.1</td>\n",
       "      <td>1.9</td>\n",
       "      <td>17.4</td>\n",
       "    </tr>\n",
       "    <tr>\n",
       "      <th>Bruce Brown</th>\n",
       "      <td>26</td>\n",
       "      <td>80</td>\n",
       "      <td>31</td>\n",
       "      <td>28.5</td>\n",
       "      <td>4.5</td>\n",
       "      <td>9.3</td>\n",
       "      <td>0.483</td>\n",
       "      <td>1.1</td>\n",
       "      <td>3.2</td>\n",
       "      <td>0.358</td>\n",
       "      <td>...</td>\n",
       "      <td>0.758</td>\n",
       "      <td>0.8</td>\n",
       "      <td>3.3</td>\n",
       "      <td>4.1</td>\n",
       "      <td>3.4</td>\n",
       "      <td>1.1</td>\n",
       "      <td>0.6</td>\n",
       "      <td>1.5</td>\n",
       "      <td>2.4</td>\n",
       "      <td>11.5</td>\n",
       "    </tr>\n",
       "    <tr>\n",
       "      <th>Reggie Jackson</th>\n",
       "      <td>32</td>\n",
       "      <td>16</td>\n",
       "      <td>2</td>\n",
       "      <td>19.9</td>\n",
       "      <td>3.1</td>\n",
       "      <td>8.0</td>\n",
       "      <td>0.383</td>\n",
       "      <td>1.2</td>\n",
       "      <td>4.3</td>\n",
       "      <td>0.279</td>\n",
       "      <td>...</td>\n",
       "      <td>0.833</td>\n",
       "      <td>0.2</td>\n",
       "      <td>1.6</td>\n",
       "      <td>1.8</td>\n",
       "      <td>3.1</td>\n",
       "      <td>0.6</td>\n",
       "      <td>0.1</td>\n",
       "      <td>1.2</td>\n",
       "      <td>1.4</td>\n",
       "      <td>7.9</td>\n",
       "    </tr>\n",
       "    <tr>\n",
       "      <th>Jeff Green</th>\n",
       "      <td>36</td>\n",
       "      <td>56</td>\n",
       "      <td>4</td>\n",
       "      <td>19.5</td>\n",
       "      <td>2.9</td>\n",
       "      <td>5.9</td>\n",
       "      <td>0.488</td>\n",
       "      <td>0.5</td>\n",
       "      <td>1.9</td>\n",
       "      <td>0.288</td>\n",
       "      <td>...</td>\n",
       "      <td>0.744</td>\n",
       "      <td>0.7</td>\n",
       "      <td>1.9</td>\n",
       "      <td>2.6</td>\n",
       "      <td>1.2</td>\n",
       "      <td>0.3</td>\n",
       "      <td>0.3</td>\n",
       "      <td>0.8</td>\n",
       "      <td>1.8</td>\n",
       "      <td>7.8</td>\n",
       "    </tr>\n",
       "    <tr>\n",
       "      <th>Bones Hyland</th>\n",
       "      <td>22</td>\n",
       "      <td>42</td>\n",
       "      <td>1</td>\n",
       "      <td>19.5</td>\n",
       "      <td>4.1</td>\n",
       "      <td>10.3</td>\n",
       "      <td>0.399</td>\n",
       "      <td>2.2</td>\n",
       "      <td>5.7</td>\n",
       "      <td>0.378</td>\n",
       "      <td>...</td>\n",
       "      <td>0.866</td>\n",
       "      <td>0.2</td>\n",
       "      <td>1.8</td>\n",
       "      <td>2.0</td>\n",
       "      <td>3.0</td>\n",
       "      <td>0.7</td>\n",
       "      <td>0.3</td>\n",
       "      <td>1.6</td>\n",
       "      <td>1.6</td>\n",
       "      <td>12.1</td>\n",
       "    </tr>\n",
       "    <tr>\n",
       "      <th>Christian Braun</th>\n",
       "      <td>21</td>\n",
       "      <td>76</td>\n",
       "      <td>6</td>\n",
       "      <td>15.5</td>\n",
       "      <td>1.9</td>\n",
       "      <td>3.8</td>\n",
       "      <td>0.495</td>\n",
       "      <td>0.4</td>\n",
       "      <td>1.3</td>\n",
       "      <td>0.354</td>\n",
       "      <td>...</td>\n",
       "      <td>0.625</td>\n",
       "      <td>0.6</td>\n",
       "      <td>1.8</td>\n",
       "      <td>2.4</td>\n",
       "      <td>0.8</td>\n",
       "      <td>0.5</td>\n",
       "      <td>0.2</td>\n",
       "      <td>0.5</td>\n",
       "      <td>1.3</td>\n",
       "      <td>4.7</td>\n",
       "    </tr>\n",
       "    <tr>\n",
       "      <th>DeAndre Jordan</th>\n",
       "      <td>34</td>\n",
       "      <td>39</td>\n",
       "      <td>8</td>\n",
       "      <td>15.0</td>\n",
       "      <td>2.3</td>\n",
       "      <td>2.9</td>\n",
       "      <td>0.765</td>\n",
       "      <td>0.0</td>\n",
       "      <td>0.0</td>\n",
       "      <td>1.000</td>\n",
       "      <td>...</td>\n",
       "      <td>0.458</td>\n",
       "      <td>1.3</td>\n",
       "      <td>3.8</td>\n",
       "      <td>5.2</td>\n",
       "      <td>0.9</td>\n",
       "      <td>0.3</td>\n",
       "      <td>0.6</td>\n",
       "      <td>1.2</td>\n",
       "      <td>1.8</td>\n",
       "      <td>5.1</td>\n",
       "    </tr>\n",
       "    <tr>\n",
       "      <th>Vlatko Čančar</th>\n",
       "      <td>25</td>\n",
       "      <td>60</td>\n",
       "      <td>9</td>\n",
       "      <td>14.8</td>\n",
       "      <td>1.8</td>\n",
       "      <td>3.8</td>\n",
       "      <td>0.476</td>\n",
       "      <td>0.7</td>\n",
       "      <td>1.9</td>\n",
       "      <td>0.374</td>\n",
       "      <td>...</td>\n",
       "      <td>0.927</td>\n",
       "      <td>0.4</td>\n",
       "      <td>1.7</td>\n",
       "      <td>2.1</td>\n",
       "      <td>1.3</td>\n",
       "      <td>0.4</td>\n",
       "      <td>0.2</td>\n",
       "      <td>0.6</td>\n",
       "      <td>1.4</td>\n",
       "      <td>5.0</td>\n",
       "    </tr>\n",
       "    <tr>\n",
       "      <th>Zeke Nnaji</th>\n",
       "      <td>22</td>\n",
       "      <td>53</td>\n",
       "      <td>5</td>\n",
       "      <td>13.7</td>\n",
       "      <td>2.1</td>\n",
       "      <td>3.7</td>\n",
       "      <td>0.561</td>\n",
       "      <td>0.3</td>\n",
       "      <td>1.2</td>\n",
       "      <td>0.262</td>\n",
       "      <td>...</td>\n",
       "      <td>0.645</td>\n",
       "      <td>1.2</td>\n",
       "      <td>1.4</td>\n",
       "      <td>2.6</td>\n",
       "      <td>0.3</td>\n",
       "      <td>0.3</td>\n",
       "      <td>0.4</td>\n",
       "      <td>0.6</td>\n",
       "      <td>2.0</td>\n",
       "      <td>5.2</td>\n",
       "    </tr>\n",
       "    <tr>\n",
       "      <th>Thomas Bryant</th>\n",
       "      <td>25</td>\n",
       "      <td>18</td>\n",
       "      <td>1</td>\n",
       "      <td>11.4</td>\n",
       "      <td>1.8</td>\n",
       "      <td>3.8</td>\n",
       "      <td>0.485</td>\n",
       "      <td>0.2</td>\n",
       "      <td>0.5</td>\n",
       "      <td>0.444</td>\n",
       "      <td>...</td>\n",
       "      <td>0.722</td>\n",
       "      <td>1.1</td>\n",
       "      <td>2.3</td>\n",
       "      <td>3.3</td>\n",
       "      <td>0.1</td>\n",
       "      <td>0.1</td>\n",
       "      <td>0.4</td>\n",
       "      <td>0.6</td>\n",
       "      <td>1.4</td>\n",
       "      <td>4.6</td>\n",
       "    </tr>\n",
       "    <tr>\n",
       "      <th>Ish Smith</th>\n",
       "      <td>34</td>\n",
       "      <td>43</td>\n",
       "      <td>0</td>\n",
       "      <td>9.3</td>\n",
       "      <td>1.2</td>\n",
       "      <td>3.0</td>\n",
       "      <td>0.397</td>\n",
       "      <td>0.0</td>\n",
       "      <td>0.3</td>\n",
       "      <td>0.167</td>\n",
       "      <td>...</td>\n",
       "      <td>0.500</td>\n",
       "      <td>0.1</td>\n",
       "      <td>1.1</td>\n",
       "      <td>1.3</td>\n",
       "      <td>2.3</td>\n",
       "      <td>0.2</td>\n",
       "      <td>0.2</td>\n",
       "      <td>1.0</td>\n",
       "      <td>0.8</td>\n",
       "      <td>2.5</td>\n",
       "    </tr>\n",
       "    <tr>\n",
       "      <th>Davon Reed</th>\n",
       "      <td>27</td>\n",
       "      <td>35</td>\n",
       "      <td>1</td>\n",
       "      <td>9.0</td>\n",
       "      <td>0.7</td>\n",
       "      <td>2.3</td>\n",
       "      <td>0.313</td>\n",
       "      <td>0.5</td>\n",
       "      <td>1.3</td>\n",
       "      <td>0.364</td>\n",
       "      <td>...</td>\n",
       "      <td>0.750</td>\n",
       "      <td>0.3</td>\n",
       "      <td>1.3</td>\n",
       "      <td>1.6</td>\n",
       "      <td>0.5</td>\n",
       "      <td>0.4</td>\n",
       "      <td>0.1</td>\n",
       "      <td>0.6</td>\n",
       "      <td>1.0</td>\n",
       "      <td>2.3</td>\n",
       "    </tr>\n",
       "    <tr>\n",
       "      <th>Peyton Watson</th>\n",
       "      <td>20</td>\n",
       "      <td>23</td>\n",
       "      <td>2</td>\n",
       "      <td>8.1</td>\n",
       "      <td>1.3</td>\n",
       "      <td>2.6</td>\n",
       "      <td>0.492</td>\n",
       "      <td>0.3</td>\n",
       "      <td>0.6</td>\n",
       "      <td>0.429</td>\n",
       "      <td>...</td>\n",
       "      <td>0.550</td>\n",
       "      <td>0.3</td>\n",
       "      <td>1.3</td>\n",
       "      <td>1.6</td>\n",
       "      <td>0.5</td>\n",
       "      <td>0.1</td>\n",
       "      <td>0.5</td>\n",
       "      <td>0.3</td>\n",
       "      <td>0.6</td>\n",
       "      <td>3.3</td>\n",
       "    </tr>\n",
       "    <tr>\n",
       "      <th>Jack White</th>\n",
       "      <td>25</td>\n",
       "      <td>17</td>\n",
       "      <td>0</td>\n",
       "      <td>3.9</td>\n",
       "      <td>0.5</td>\n",
       "      <td>1.1</td>\n",
       "      <td>0.421</td>\n",
       "      <td>0.2</td>\n",
       "      <td>0.5</td>\n",
       "      <td>0.333</td>\n",
       "      <td>...</td>\n",
       "      <td>0.667</td>\n",
       "      <td>0.4</td>\n",
       "      <td>0.6</td>\n",
       "      <td>1.0</td>\n",
       "      <td>0.2</td>\n",
       "      <td>0.2</td>\n",
       "      <td>0.1</td>\n",
       "      <td>0.1</td>\n",
       "      <td>0.5</td>\n",
       "      <td>1.2</td>\n",
       "    </tr>\n",
       "  </tbody>\n",
       "</table>\n",
       "<p>18 rows × 26 columns</p>\n",
       "</div>"
      ],
      "text/plain": [
       "                          Age   G  GS    MP   FG   FGA    FG%   3P  3PA  \\\n",
       "Player                                                                    \n",
       "Nikola Jokić               27  69  69  33.7  9.4  14.8  0.632  0.8  2.2   \n",
       "Jamal Murray               25  65  65  32.8  7.3  16.0  0.454  2.6  6.6   \n",
       "Kentavious Caldwell-Pope   29  76  76  31.3  3.8   8.3  0.462  1.8  4.2   \n",
       "Aaron Gordon               27  68  68  30.2  6.3  11.2  0.564  0.9  2.5   \n",
       "Michael Porter Jr.         24  62  62  29.0  6.4  13.2  0.487  3.0  7.3   \n",
       "Bruce Brown                26  80  31  28.5  4.5   9.3  0.483  1.1  3.2   \n",
       "Reggie Jackson             32  16   2  19.9  3.1   8.0  0.383  1.2  4.3   \n",
       "Jeff Green                 36  56   4  19.5  2.9   5.9  0.488  0.5  1.9   \n",
       "Bones Hyland               22  42   1  19.5  4.1  10.3  0.399  2.2  5.7   \n",
       "Christian Braun            21  76   6  15.5  1.9   3.8  0.495  0.4  1.3   \n",
       "DeAndre Jordan             34  39   8  15.0  2.3   2.9  0.765  0.0  0.0   \n",
       "Vlatko Čančar              25  60   9  14.8  1.8   3.8  0.476  0.7  1.9   \n",
       "Zeke Nnaji                 22  53   5  13.7  2.1   3.7  0.561  0.3  1.2   \n",
       "Thomas Bryant              25  18   1  11.4  1.8   3.8  0.485  0.2  0.5   \n",
       "Ish Smith                  34  43   0   9.3  1.2   3.0  0.397  0.0  0.3   \n",
       "Davon Reed                 27  35   1   9.0  0.7   2.3  0.313  0.5  1.3   \n",
       "Peyton Watson              20  23   2   8.1  1.3   2.6  0.492  0.3  0.6   \n",
       "Jack White                 25  17   0   3.9  0.5   1.1  0.421  0.2  0.5   \n",
       "\n",
       "                            3P%  ...    FT%  ORB  DRB   TRB  AST  STL  BLK  \\\n",
       "Player                           ...                                         \n",
       "Nikola Jokić              0.383  ...  0.822  2.4  9.4  11.8  9.8  1.3  0.7   \n",
       "Jamal Murray              0.398  ...  0.833  0.7  3.2   4.0  6.2  1.0  0.2   \n",
       "Kentavious Caldwell-Pope  0.423  ...  0.824  0.5  2.3   2.7  2.4  1.5  0.5   \n",
       "Aaron Gordon              0.347  ...  0.608  2.4  4.1   6.6  3.0  0.8  0.8   \n",
       "Michael Porter Jr.        0.414  ...  0.800  1.0  4.5   5.5  1.0  0.6  0.5   \n",
       "Bruce Brown               0.358  ...  0.758  0.8  3.3   4.1  3.4  1.1  0.6   \n",
       "Reggie Jackson            0.279  ...  0.833  0.2  1.6   1.8  3.1  0.6  0.1   \n",
       "Jeff Green                0.288  ...  0.744  0.7  1.9   2.6  1.2  0.3  0.3   \n",
       "Bones Hyland              0.378  ...  0.866  0.2  1.8   2.0  3.0  0.7  0.3   \n",
       "Christian Braun           0.354  ...  0.625  0.6  1.8   2.4  0.8  0.5  0.2   \n",
       "DeAndre Jordan            1.000  ...  0.458  1.3  3.8   5.2  0.9  0.3  0.6   \n",
       "Vlatko Čančar             0.374  ...  0.927  0.4  1.7   2.1  1.3  0.4  0.2   \n",
       "Zeke Nnaji                0.262  ...  0.645  1.2  1.4   2.6  0.3  0.3  0.4   \n",
       "Thomas Bryant             0.444  ...  0.722  1.1  2.3   3.3  0.1  0.1  0.4   \n",
       "Ish Smith                 0.167  ...  0.500  0.1  1.1   1.3  2.3  0.2  0.2   \n",
       "Davon Reed                0.364  ...  0.750  0.3  1.3   1.6  0.5  0.4  0.1   \n",
       "Peyton Watson             0.429  ...  0.550  0.3  1.3   1.6  0.5  0.1  0.5   \n",
       "Jack White                0.333  ...  0.667  0.4  0.6   1.0  0.2  0.2  0.1   \n",
       "\n",
       "                          TOV   PF   PTS  \n",
       "Player                                    \n",
       "Nikola Jokić              3.6  2.5  24.5  \n",
       "Jamal Murray              2.2  1.6  20.0  \n",
       "Kentavious Caldwell-Pope  1.1  1.9  10.8  \n",
       "Aaron Gordon              1.4  1.9  16.3  \n",
       "Michael Porter Jr.        1.1  1.9  17.4  \n",
       "Bruce Brown               1.5  2.4  11.5  \n",
       "Reggie Jackson            1.2  1.4   7.9  \n",
       "Jeff Green                0.8  1.8   7.8  \n",
       "Bones Hyland              1.6  1.6  12.1  \n",
       "Christian Braun           0.5  1.3   4.7  \n",
       "DeAndre Jordan            1.2  1.8   5.1  \n",
       "Vlatko Čančar             0.6  1.4   5.0  \n",
       "Zeke Nnaji                0.6  2.0   5.2  \n",
       "Thomas Bryant             0.6  1.4   4.6  \n",
       "Ish Smith                 1.0  0.8   2.5  \n",
       "Davon Reed                0.6  1.0   2.3  \n",
       "Peyton Watson             0.3  0.6   3.3  \n",
       "Jack White                0.1  0.5   1.2  \n",
       "\n",
       "[18 rows x 26 columns]"
      ]
     },
     "execution_count": 145,
     "metadata": {},
     "output_type": "execute_result"
    }
   ],
   "source": [
    "denver_data[numeric_columns]"
   ]
  },
  {
   "cell_type": "code",
   "execution_count": 146,
   "metadata": {},
   "outputs": [],
   "source": [
    "clean_data = denver_data[numeric_columns].dropna()"
   ]
  },
  {
   "cell_type": "code",
   "execution_count": 147,
   "metadata": {},
   "outputs": [
    {
     "data": {
      "text/html": [
       "<div>\n",
       "<style scoped>\n",
       "    .dataframe tbody tr th:only-of-type {\n",
       "        vertical-align: middle;\n",
       "    }\n",
       "\n",
       "    .dataframe tbody tr th {\n",
       "        vertical-align: top;\n",
       "    }\n",
       "\n",
       "    .dataframe thead th {\n",
       "        text-align: right;\n",
       "    }\n",
       "</style>\n",
       "<table border=\"1\" class=\"dataframe\">\n",
       "  <thead>\n",
       "    <tr style=\"text-align: right;\">\n",
       "      <th></th>\n",
       "      <th>Age</th>\n",
       "      <th>G</th>\n",
       "      <th>GS</th>\n",
       "      <th>MP</th>\n",
       "      <th>FG</th>\n",
       "      <th>FGA</th>\n",
       "      <th>FG%</th>\n",
       "      <th>3P</th>\n",
       "      <th>3PA</th>\n",
       "      <th>3P%</th>\n",
       "      <th>...</th>\n",
       "      <th>FT%</th>\n",
       "      <th>ORB</th>\n",
       "      <th>DRB</th>\n",
       "      <th>TRB</th>\n",
       "      <th>AST</th>\n",
       "      <th>STL</th>\n",
       "      <th>BLK</th>\n",
       "      <th>TOV</th>\n",
       "      <th>PF</th>\n",
       "      <th>PTS</th>\n",
       "    </tr>\n",
       "    <tr>\n",
       "      <th>Player</th>\n",
       "      <th></th>\n",
       "      <th></th>\n",
       "      <th></th>\n",
       "      <th></th>\n",
       "      <th></th>\n",
       "      <th></th>\n",
       "      <th></th>\n",
       "      <th></th>\n",
       "      <th></th>\n",
       "      <th></th>\n",
       "      <th></th>\n",
       "      <th></th>\n",
       "      <th></th>\n",
       "      <th></th>\n",
       "      <th></th>\n",
       "      <th></th>\n",
       "      <th></th>\n",
       "      <th></th>\n",
       "      <th></th>\n",
       "      <th></th>\n",
       "      <th></th>\n",
       "    </tr>\n",
       "  </thead>\n",
       "  <tbody>\n",
       "    <tr>\n",
       "      <th>Nikola Jokić</th>\n",
       "      <td>27</td>\n",
       "      <td>69</td>\n",
       "      <td>69</td>\n",
       "      <td>33.7</td>\n",
       "      <td>9.4</td>\n",
       "      <td>14.8</td>\n",
       "      <td>0.632</td>\n",
       "      <td>0.8</td>\n",
       "      <td>2.2</td>\n",
       "      <td>0.383</td>\n",
       "      <td>...</td>\n",
       "      <td>0.822</td>\n",
       "      <td>2.4</td>\n",
       "      <td>9.4</td>\n",
       "      <td>11.8</td>\n",
       "      <td>9.8</td>\n",
       "      <td>1.3</td>\n",
       "      <td>0.7</td>\n",
       "      <td>3.6</td>\n",
       "      <td>2.5</td>\n",
       "      <td>24.5</td>\n",
       "    </tr>\n",
       "    <tr>\n",
       "      <th>Jamal Murray</th>\n",
       "      <td>25</td>\n",
       "      <td>65</td>\n",
       "      <td>65</td>\n",
       "      <td>32.8</td>\n",
       "      <td>7.3</td>\n",
       "      <td>16.0</td>\n",
       "      <td>0.454</td>\n",
       "      <td>2.6</td>\n",
       "      <td>6.6</td>\n",
       "      <td>0.398</td>\n",
       "      <td>...</td>\n",
       "      <td>0.833</td>\n",
       "      <td>0.7</td>\n",
       "      <td>3.2</td>\n",
       "      <td>4.0</td>\n",
       "      <td>6.2</td>\n",
       "      <td>1.0</td>\n",
       "      <td>0.2</td>\n",
       "      <td>2.2</td>\n",
       "      <td>1.6</td>\n",
       "      <td>20.0</td>\n",
       "    </tr>\n",
       "    <tr>\n",
       "      <th>Kentavious Caldwell-Pope</th>\n",
       "      <td>29</td>\n",
       "      <td>76</td>\n",
       "      <td>76</td>\n",
       "      <td>31.3</td>\n",
       "      <td>3.8</td>\n",
       "      <td>8.3</td>\n",
       "      <td>0.462</td>\n",
       "      <td>1.8</td>\n",
       "      <td>4.2</td>\n",
       "      <td>0.423</td>\n",
       "      <td>...</td>\n",
       "      <td>0.824</td>\n",
       "      <td>0.5</td>\n",
       "      <td>2.3</td>\n",
       "      <td>2.7</td>\n",
       "      <td>2.4</td>\n",
       "      <td>1.5</td>\n",
       "      <td>0.5</td>\n",
       "      <td>1.1</td>\n",
       "      <td>1.9</td>\n",
       "      <td>10.8</td>\n",
       "    </tr>\n",
       "    <tr>\n",
       "      <th>Aaron Gordon</th>\n",
       "      <td>27</td>\n",
       "      <td>68</td>\n",
       "      <td>68</td>\n",
       "      <td>30.2</td>\n",
       "      <td>6.3</td>\n",
       "      <td>11.2</td>\n",
       "      <td>0.564</td>\n",
       "      <td>0.9</td>\n",
       "      <td>2.5</td>\n",
       "      <td>0.347</td>\n",
       "      <td>...</td>\n",
       "      <td>0.608</td>\n",
       "      <td>2.4</td>\n",
       "      <td>4.1</td>\n",
       "      <td>6.6</td>\n",
       "      <td>3.0</td>\n",
       "      <td>0.8</td>\n",
       "      <td>0.8</td>\n",
       "      <td>1.4</td>\n",
       "      <td>1.9</td>\n",
       "      <td>16.3</td>\n",
       "    </tr>\n",
       "    <tr>\n",
       "      <th>Michael Porter Jr.</th>\n",
       "      <td>24</td>\n",
       "      <td>62</td>\n",
       "      <td>62</td>\n",
       "      <td>29.0</td>\n",
       "      <td>6.4</td>\n",
       "      <td>13.2</td>\n",
       "      <td>0.487</td>\n",
       "      <td>3.0</td>\n",
       "      <td>7.3</td>\n",
       "      <td>0.414</td>\n",
       "      <td>...</td>\n",
       "      <td>0.800</td>\n",
       "      <td>1.0</td>\n",
       "      <td>4.5</td>\n",
       "      <td>5.5</td>\n",
       "      <td>1.0</td>\n",
       "      <td>0.6</td>\n",
       "      <td>0.5</td>\n",
       "      <td>1.1</td>\n",
       "      <td>1.9</td>\n",
       "      <td>17.4</td>\n",
       "    </tr>\n",
       "    <tr>\n",
       "      <th>Bruce Brown</th>\n",
       "      <td>26</td>\n",
       "      <td>80</td>\n",
       "      <td>31</td>\n",
       "      <td>28.5</td>\n",
       "      <td>4.5</td>\n",
       "      <td>9.3</td>\n",
       "      <td>0.483</td>\n",
       "      <td>1.1</td>\n",
       "      <td>3.2</td>\n",
       "      <td>0.358</td>\n",
       "      <td>...</td>\n",
       "      <td>0.758</td>\n",
       "      <td>0.8</td>\n",
       "      <td>3.3</td>\n",
       "      <td>4.1</td>\n",
       "      <td>3.4</td>\n",
       "      <td>1.1</td>\n",
       "      <td>0.6</td>\n",
       "      <td>1.5</td>\n",
       "      <td>2.4</td>\n",
       "      <td>11.5</td>\n",
       "    </tr>\n",
       "    <tr>\n",
       "      <th>Reggie Jackson</th>\n",
       "      <td>32</td>\n",
       "      <td>16</td>\n",
       "      <td>2</td>\n",
       "      <td>19.9</td>\n",
       "      <td>3.1</td>\n",
       "      <td>8.0</td>\n",
       "      <td>0.383</td>\n",
       "      <td>1.2</td>\n",
       "      <td>4.3</td>\n",
       "      <td>0.279</td>\n",
       "      <td>...</td>\n",
       "      <td>0.833</td>\n",
       "      <td>0.2</td>\n",
       "      <td>1.6</td>\n",
       "      <td>1.8</td>\n",
       "      <td>3.1</td>\n",
       "      <td>0.6</td>\n",
       "      <td>0.1</td>\n",
       "      <td>1.2</td>\n",
       "      <td>1.4</td>\n",
       "      <td>7.9</td>\n",
       "    </tr>\n",
       "    <tr>\n",
       "      <th>Jeff Green</th>\n",
       "      <td>36</td>\n",
       "      <td>56</td>\n",
       "      <td>4</td>\n",
       "      <td>19.5</td>\n",
       "      <td>2.9</td>\n",
       "      <td>5.9</td>\n",
       "      <td>0.488</td>\n",
       "      <td>0.5</td>\n",
       "      <td>1.9</td>\n",
       "      <td>0.288</td>\n",
       "      <td>...</td>\n",
       "      <td>0.744</td>\n",
       "      <td>0.7</td>\n",
       "      <td>1.9</td>\n",
       "      <td>2.6</td>\n",
       "      <td>1.2</td>\n",
       "      <td>0.3</td>\n",
       "      <td>0.3</td>\n",
       "      <td>0.8</td>\n",
       "      <td>1.8</td>\n",
       "      <td>7.8</td>\n",
       "    </tr>\n",
       "  </tbody>\n",
       "</table>\n",
       "<p>8 rows × 26 columns</p>\n",
       "</div>"
      ],
      "text/plain": [
       "                          Age   G  GS    MP   FG   FGA    FG%   3P  3PA  \\\n",
       "Player                                                                    \n",
       "Nikola Jokić               27  69  69  33.7  9.4  14.8  0.632  0.8  2.2   \n",
       "Jamal Murray               25  65  65  32.8  7.3  16.0  0.454  2.6  6.6   \n",
       "Kentavious Caldwell-Pope   29  76  76  31.3  3.8   8.3  0.462  1.8  4.2   \n",
       "Aaron Gordon               27  68  68  30.2  6.3  11.2  0.564  0.9  2.5   \n",
       "Michael Porter Jr.         24  62  62  29.0  6.4  13.2  0.487  3.0  7.3   \n",
       "Bruce Brown                26  80  31  28.5  4.5   9.3  0.483  1.1  3.2   \n",
       "Reggie Jackson             32  16   2  19.9  3.1   8.0  0.383  1.2  4.3   \n",
       "Jeff Green                 36  56   4  19.5  2.9   5.9  0.488  0.5  1.9   \n",
       "\n",
       "                            3P%  ...    FT%  ORB  DRB   TRB  AST  STL  BLK  \\\n",
       "Player                           ...                                         \n",
       "Nikola Jokić              0.383  ...  0.822  2.4  9.4  11.8  9.8  1.3  0.7   \n",
       "Jamal Murray              0.398  ...  0.833  0.7  3.2   4.0  6.2  1.0  0.2   \n",
       "Kentavious Caldwell-Pope  0.423  ...  0.824  0.5  2.3   2.7  2.4  1.5  0.5   \n",
       "Aaron Gordon              0.347  ...  0.608  2.4  4.1   6.6  3.0  0.8  0.8   \n",
       "Michael Porter Jr.        0.414  ...  0.800  1.0  4.5   5.5  1.0  0.6  0.5   \n",
       "Bruce Brown               0.358  ...  0.758  0.8  3.3   4.1  3.4  1.1  0.6   \n",
       "Reggie Jackson            0.279  ...  0.833  0.2  1.6   1.8  3.1  0.6  0.1   \n",
       "Jeff Green                0.288  ...  0.744  0.7  1.9   2.6  1.2  0.3  0.3   \n",
       "\n",
       "                          TOV   PF   PTS  \n",
       "Player                                    \n",
       "Nikola Jokić              3.6  2.5  24.5  \n",
       "Jamal Murray              2.2  1.6  20.0  \n",
       "Kentavious Caldwell-Pope  1.1  1.9  10.8  \n",
       "Aaron Gordon              1.4  1.9  16.3  \n",
       "Michael Porter Jr.        1.1  1.9  17.4  \n",
       "Bruce Brown               1.5  2.4  11.5  \n",
       "Reggie Jackson            1.2  1.4   7.9  \n",
       "Jeff Green                0.8  1.8   7.8  \n",
       "\n",
       "[8 rows x 26 columns]"
      ]
     },
     "execution_count": 147,
     "metadata": {},
     "output_type": "execute_result"
    }
   ],
   "source": [
    "denver_rotation= clean_data[0:8]\n",
    "\n",
    "denver_rotation"
   ]
  },
  {
   "cell_type": "code",
   "execution_count": 148,
   "metadata": {},
   "outputs": [
    {
     "data": {
      "text/plain": [
       "Age     28.250000\n",
       "G       61.500000\n",
       "GS      47.125000\n",
       "MP      28.112500\n",
       "FG       5.462500\n",
       "FGA     10.837500\n",
       "FG%      0.494125\n",
       "3P       1.487500\n",
       "3PA      4.025000\n",
       "3P%      0.361250\n",
       "2P       3.937500\n",
       "2PA      6.825000\n",
       "2P%      0.563250\n",
       "eFG%     0.563375\n",
       "FT       2.137500\n",
       "FTA      2.775000\n",
       "FT%      0.777750\n",
       "ORB      1.087500\n",
       "DRB      3.787500\n",
       "TRB      4.887500\n",
       "AST      3.762500\n",
       "STL      0.900000\n",
       "BLK      0.462500\n",
       "TOV      1.612500\n",
       "PF       1.925000\n",
       "PTS     14.525000\n",
       "dtype: float64"
      ]
     },
     "execution_count": 148,
     "metadata": {},
     "output_type": "execute_result"
    }
   ],
   "source": [
    "denver_rotation.mean()"
   ]
  },
  {
   "cell_type": "code",
   "execution_count": 149,
   "metadata": {},
   "outputs": [],
   "source": [
    "miami_data = pd.read_csv(\"data/Heat.csv\",index_col=\"Player\")"
   ]
  },
  {
   "cell_type": "code",
   "execution_count": 150,
   "metadata": {},
   "outputs": [],
   "source": [
    "clean_miami = miami_data[numeric_columns].dropna()"
   ]
  },
  {
   "cell_type": "code",
   "execution_count": 151,
   "metadata": {},
   "outputs": [
    {
     "data": {
      "text/html": [
       "<div>\n",
       "<style scoped>\n",
       "    .dataframe tbody tr th:only-of-type {\n",
       "        vertical-align: middle;\n",
       "    }\n",
       "\n",
       "    .dataframe tbody tr th {\n",
       "        vertical-align: top;\n",
       "    }\n",
       "\n",
       "    .dataframe thead th {\n",
       "        text-align: right;\n",
       "    }\n",
       "</style>\n",
       "<table border=\"1\" class=\"dataframe\">\n",
       "  <thead>\n",
       "    <tr style=\"text-align: right;\">\n",
       "      <th></th>\n",
       "      <th>Age</th>\n",
       "      <th>G</th>\n",
       "      <th>GS</th>\n",
       "      <th>MP</th>\n",
       "      <th>FG</th>\n",
       "      <th>FGA</th>\n",
       "      <th>FG%</th>\n",
       "      <th>3P</th>\n",
       "      <th>3PA</th>\n",
       "      <th>3P%</th>\n",
       "      <th>...</th>\n",
       "      <th>FT%</th>\n",
       "      <th>ORB</th>\n",
       "      <th>DRB</th>\n",
       "      <th>TRB</th>\n",
       "      <th>AST</th>\n",
       "      <th>STL</th>\n",
       "      <th>BLK</th>\n",
       "      <th>TOV</th>\n",
       "      <th>PF</th>\n",
       "      <th>PTS</th>\n",
       "    </tr>\n",
       "    <tr>\n",
       "      <th>Player</th>\n",
       "      <th></th>\n",
       "      <th></th>\n",
       "      <th></th>\n",
       "      <th></th>\n",
       "      <th></th>\n",
       "      <th></th>\n",
       "      <th></th>\n",
       "      <th></th>\n",
       "      <th></th>\n",
       "      <th></th>\n",
       "      <th></th>\n",
       "      <th></th>\n",
       "      <th></th>\n",
       "      <th></th>\n",
       "      <th></th>\n",
       "      <th></th>\n",
       "      <th></th>\n",
       "      <th></th>\n",
       "      <th></th>\n",
       "      <th></th>\n",
       "      <th></th>\n",
       "    </tr>\n",
       "  </thead>\n",
       "  <tbody>\n",
       "    <tr>\n",
       "      <th>Tyler Herro</th>\n",
       "      <td>23</td>\n",
       "      <td>67</td>\n",
       "      <td>67</td>\n",
       "      <td>34.9</td>\n",
       "      <td>7.3</td>\n",
       "      <td>16.6</td>\n",
       "      <td>0.439</td>\n",
       "      <td>3.0</td>\n",
       "      <td>8.0</td>\n",
       "      <td>0.378</td>\n",
       "      <td>...</td>\n",
       "      <td>0.934</td>\n",
       "      <td>0.4</td>\n",
       "      <td>5.0</td>\n",
       "      <td>5.4</td>\n",
       "      <td>4.2</td>\n",
       "      <td>0.8</td>\n",
       "      <td>0.2</td>\n",
       "      <td>2.4</td>\n",
       "      <td>1.5</td>\n",
       "      <td>20.1</td>\n",
       "    </tr>\n",
       "    <tr>\n",
       "      <th>Bam Adebayo</th>\n",
       "      <td>25</td>\n",
       "      <td>75</td>\n",
       "      <td>75</td>\n",
       "      <td>34.6</td>\n",
       "      <td>8.0</td>\n",
       "      <td>14.9</td>\n",
       "      <td>0.540</td>\n",
       "      <td>0.0</td>\n",
       "      <td>0.2</td>\n",
       "      <td>0.083</td>\n",
       "      <td>...</td>\n",
       "      <td>0.806</td>\n",
       "      <td>2.5</td>\n",
       "      <td>6.7</td>\n",
       "      <td>9.2</td>\n",
       "      <td>3.2</td>\n",
       "      <td>1.2</td>\n",
       "      <td>0.8</td>\n",
       "      <td>2.5</td>\n",
       "      <td>2.8</td>\n",
       "      <td>20.4</td>\n",
       "    </tr>\n",
       "    <tr>\n",
       "      <th>Jimmy Butler</th>\n",
       "      <td>33</td>\n",
       "      <td>64</td>\n",
       "      <td>64</td>\n",
       "      <td>33.4</td>\n",
       "      <td>7.5</td>\n",
       "      <td>13.9</td>\n",
       "      <td>0.539</td>\n",
       "      <td>0.6</td>\n",
       "      <td>1.6</td>\n",
       "      <td>0.350</td>\n",
       "      <td>...</td>\n",
       "      <td>0.850</td>\n",
       "      <td>2.2</td>\n",
       "      <td>3.7</td>\n",
       "      <td>5.9</td>\n",
       "      <td>5.3</td>\n",
       "      <td>1.8</td>\n",
       "      <td>0.3</td>\n",
       "      <td>1.6</td>\n",
       "      <td>1.3</td>\n",
       "      <td>22.9</td>\n",
       "    </tr>\n",
       "    <tr>\n",
       "      <th>Kyle Lowry</th>\n",
       "      <td>36</td>\n",
       "      <td>55</td>\n",
       "      <td>44</td>\n",
       "      <td>31.2</td>\n",
       "      <td>3.6</td>\n",
       "      <td>8.8</td>\n",
       "      <td>0.404</td>\n",
       "      <td>1.9</td>\n",
       "      <td>5.6</td>\n",
       "      <td>0.345</td>\n",
       "      <td>...</td>\n",
       "      <td>0.859</td>\n",
       "      <td>0.8</td>\n",
       "      <td>3.3</td>\n",
       "      <td>4.1</td>\n",
       "      <td>5.1</td>\n",
       "      <td>1.0</td>\n",
       "      <td>0.4</td>\n",
       "      <td>1.9</td>\n",
       "      <td>2.6</td>\n",
       "      <td>11.2</td>\n",
       "    </tr>\n",
       "    <tr>\n",
       "      <th>Caleb Martin</th>\n",
       "      <td>27</td>\n",
       "      <td>71</td>\n",
       "      <td>49</td>\n",
       "      <td>29.3</td>\n",
       "      <td>3.6</td>\n",
       "      <td>7.7</td>\n",
       "      <td>0.464</td>\n",
       "      <td>1.2</td>\n",
       "      <td>3.3</td>\n",
       "      <td>0.356</td>\n",
       "      <td>...</td>\n",
       "      <td>0.805</td>\n",
       "      <td>1.2</td>\n",
       "      <td>3.6</td>\n",
       "      <td>4.8</td>\n",
       "      <td>1.6</td>\n",
       "      <td>1.0</td>\n",
       "      <td>0.4</td>\n",
       "      <td>1.1</td>\n",
       "      <td>2.0</td>\n",
       "      <td>9.6</td>\n",
       "    </tr>\n",
       "    <tr>\n",
       "      <th>Max Strus</th>\n",
       "      <td>26</td>\n",
       "      <td>80</td>\n",
       "      <td>33</td>\n",
       "      <td>28.4</td>\n",
       "      <td>4.1</td>\n",
       "      <td>9.9</td>\n",
       "      <td>0.410</td>\n",
       "      <td>2.5</td>\n",
       "      <td>7.0</td>\n",
       "      <td>0.350</td>\n",
       "      <td>...</td>\n",
       "      <td>0.876</td>\n",
       "      <td>0.6</td>\n",
       "      <td>2.6</td>\n",
       "      <td>3.2</td>\n",
       "      <td>2.1</td>\n",
       "      <td>0.5</td>\n",
       "      <td>0.2</td>\n",
       "      <td>0.9</td>\n",
       "      <td>2.1</td>\n",
       "      <td>11.5</td>\n",
       "    </tr>\n",
       "    <tr>\n",
       "      <th>Victor Oladipo</th>\n",
       "      <td>30</td>\n",
       "      <td>42</td>\n",
       "      <td>2</td>\n",
       "      <td>26.3</td>\n",
       "      <td>3.8</td>\n",
       "      <td>9.6</td>\n",
       "      <td>0.397</td>\n",
       "      <td>1.7</td>\n",
       "      <td>5.0</td>\n",
       "      <td>0.330</td>\n",
       "      <td>...</td>\n",
       "      <td>0.747</td>\n",
       "      <td>0.4</td>\n",
       "      <td>2.7</td>\n",
       "      <td>3.0</td>\n",
       "      <td>3.5</td>\n",
       "      <td>1.4</td>\n",
       "      <td>0.3</td>\n",
       "      <td>2.1</td>\n",
       "      <td>2.4</td>\n",
       "      <td>10.7</td>\n",
       "    </tr>\n",
       "    <tr>\n",
       "      <th>Gabe Vincent</th>\n",
       "      <td>26</td>\n",
       "      <td>68</td>\n",
       "      <td>34</td>\n",
       "      <td>25.9</td>\n",
       "      <td>3.4</td>\n",
       "      <td>8.3</td>\n",
       "      <td>0.402</td>\n",
       "      <td>1.7</td>\n",
       "      <td>5.1</td>\n",
       "      <td>0.334</td>\n",
       "      <td>...</td>\n",
       "      <td>0.872</td>\n",
       "      <td>0.4</td>\n",
       "      <td>1.7</td>\n",
       "      <td>2.1</td>\n",
       "      <td>2.5</td>\n",
       "      <td>0.9</td>\n",
       "      <td>0.1</td>\n",
       "      <td>1.4</td>\n",
       "      <td>2.3</td>\n",
       "      <td>9.4</td>\n",
       "    </tr>\n",
       "  </tbody>\n",
       "</table>\n",
       "<p>8 rows × 26 columns</p>\n",
       "</div>"
      ],
      "text/plain": [
       "                Age   G  GS    MP   FG   FGA    FG%   3P  3PA    3P%  ...  \\\n",
       "Player                                                                ...   \n",
       "Tyler Herro      23  67  67  34.9  7.3  16.6  0.439  3.0  8.0  0.378  ...   \n",
       "Bam Adebayo      25  75  75  34.6  8.0  14.9  0.540  0.0  0.2  0.083  ...   \n",
       "Jimmy Butler     33  64  64  33.4  7.5  13.9  0.539  0.6  1.6  0.350  ...   \n",
       "Kyle Lowry       36  55  44  31.2  3.6   8.8  0.404  1.9  5.6  0.345  ...   \n",
       "Caleb Martin     27  71  49  29.3  3.6   7.7  0.464  1.2  3.3  0.356  ...   \n",
       "Max Strus        26  80  33  28.4  4.1   9.9  0.410  2.5  7.0  0.350  ...   \n",
       "Victor Oladipo   30  42   2  26.3  3.8   9.6  0.397  1.7  5.0  0.330  ...   \n",
       "Gabe Vincent     26  68  34  25.9  3.4   8.3  0.402  1.7  5.1  0.334  ...   \n",
       "\n",
       "                  FT%  ORB  DRB  TRB  AST  STL  BLK  TOV   PF   PTS  \n",
       "Player                                                               \n",
       "Tyler Herro     0.934  0.4  5.0  5.4  4.2  0.8  0.2  2.4  1.5  20.1  \n",
       "Bam Adebayo     0.806  2.5  6.7  9.2  3.2  1.2  0.8  2.5  2.8  20.4  \n",
       "Jimmy Butler    0.850  2.2  3.7  5.9  5.3  1.8  0.3  1.6  1.3  22.9  \n",
       "Kyle Lowry      0.859  0.8  3.3  4.1  5.1  1.0  0.4  1.9  2.6  11.2  \n",
       "Caleb Martin    0.805  1.2  3.6  4.8  1.6  1.0  0.4  1.1  2.0   9.6  \n",
       "Max Strus       0.876  0.6  2.6  3.2  2.1  0.5  0.2  0.9  2.1  11.5  \n",
       "Victor Oladipo  0.747  0.4  2.7  3.0  3.5  1.4  0.3  2.1  2.4  10.7  \n",
       "Gabe Vincent    0.872  0.4  1.7  2.1  2.5  0.9  0.1  1.4  2.3   9.4  \n",
       "\n",
       "[8 rows x 26 columns]"
      ]
     },
     "execution_count": 151,
     "metadata": {},
     "output_type": "execute_result"
    }
   ],
   "source": [
    "miami_rotation = clean_miami[0:8]\n",
    "\n",
    "miami_rotation"
   ]
  },
  {
   "cell_type": "code",
   "execution_count": 152,
   "metadata": {},
   "outputs": [
    {
     "data": {
      "text/plain": [
       "Age     28.250000\n",
       "G       65.250000\n",
       "GS      46.000000\n",
       "MP      30.500000\n",
       "FG       5.162500\n",
       "FGA     11.212500\n",
       "FG%      0.449375\n",
       "3P       1.575000\n",
       "3PA      4.475000\n",
       "3P%      0.315750\n",
       "2P       3.550000\n",
       "2PA      6.700000\n",
       "2P%      0.525250\n",
       "eFG%     0.526250\n",
       "FT       2.625000\n",
       "FTA      3.125000\n",
       "FT%      0.843625\n",
       "ORB      1.062500\n",
       "DRB      3.662500\n",
       "TRB      4.712500\n",
       "AST      3.437500\n",
       "STL      1.075000\n",
       "BLK      0.337500\n",
       "TOV      1.737500\n",
       "PF       2.125000\n",
       "PTS     14.475000\n",
       "dtype: float64"
      ]
     },
     "execution_count": 152,
     "metadata": {},
     "output_type": "execute_result"
    }
   ],
   "source": [
    "miami_rotation.mean()"
   ]
  },
  {
   "cell_type": "code",
   "execution_count": 153,
   "metadata": {},
   "outputs": [],
   "source": [
    "lakers_data = pd.read_csv(\"data/Lakers.csv\",index_col=\"Player\")"
   ]
  },
  {
   "cell_type": "code",
   "execution_count": 154,
   "metadata": {},
   "outputs": [],
   "source": [
    "clean_lakers = lakers_data[numeric_columns].dropna()\n",
    "\n",
    "lakers_rotation = clean_lakers[0:8]"
   ]
  },
  {
   "cell_type": "code",
   "execution_count": 155,
   "metadata": {},
   "outputs": [
    {
     "data": {
      "text/plain": [
       "0.36125"
      ]
     },
     "execution_count": 155,
     "metadata": {},
     "output_type": "execute_result"
    }
   ],
   "source": [
    "nuggets_3P = denver_rotation['3P%'].mean()\n",
    "\n",
    "nuggets_3P"
   ]
  },
  {
   "cell_type": "code",
   "execution_count": 156,
   "metadata": {},
   "outputs": [
    {
     "data": {
      "text/plain": [
       "0.343"
      ]
     },
     "execution_count": 156,
     "metadata": {},
     "output_type": "execute_result"
    }
   ],
   "source": [
    "lakers_3P = lakers_rotation['3P%'].mean()\n",
    "\n",
    "lakers_3P"
   ]
  },
  {
   "cell_type": "code",
   "execution_count": 157,
   "metadata": {},
   "outputs": [
    {
     "data": {
      "text/plain": [
       "0.31575"
      ]
     },
     "execution_count": 157,
     "metadata": {},
     "output_type": "execute_result"
    }
   ],
   "source": [
    "heat_3P = miami_rotation['3P%'].mean()\n",
    "\n",
    "heat_3P"
   ]
  },
  {
   "cell_type": "code",
   "execution_count": 94,
   "metadata": {},
   "outputs": [],
   "source": [
    "suns_data = pd.read_csv(\"data/Suns.csv\",index_col=\"Player\")"
   ]
  },
  {
   "cell_type": "code",
   "execution_count": 96,
   "metadata": {},
   "outputs": [],
   "source": [
    "clean_suns = suns_data[numeric_columns].dropna()\n",
    "\n",
    "suns_rotation = clean_suns[0:8]"
   ]
  },
  {
   "cell_type": "code",
   "execution_count": 97,
   "metadata": {},
   "outputs": [
    {
     "data": {
      "text/plain": [
       "0.404625"
      ]
     },
     "execution_count": 97,
     "metadata": {},
     "output_type": "execute_result"
    }
   ],
   "source": [
    "suns_3P = suns_rotation['3P%'].mean()\n",
    "\n",
    "suns_3P"
   ]
  },
  {
   "cell_type": "code",
   "execution_count": 98,
   "metadata": {},
   "outputs": [],
   "source": [
    "wolves_data = pd.read_csv(\"data/Wolves.csv\",index_col=\"Player\")"
   ]
  },
  {
   "cell_type": "code",
   "execution_count": 99,
   "metadata": {},
   "outputs": [],
   "source": [
    "clean_wolves = wolves_data[numeric_columns].dropna()\n",
    "\n",
    "wolves_rotation = clean_wolves[0:8]"
   ]
  },
  {
   "cell_type": "code",
   "execution_count": 101,
   "metadata": {},
   "outputs": [
    {
     "data": {
      "text/plain": [
       "0.341875"
      ]
     },
     "execution_count": 101,
     "metadata": {},
     "output_type": "execute_result"
    }
   ],
   "source": [
    "wolves_3P = wolves_rotation['3P%'].mean()\n",
    "\n",
    "wolves_3P"
   ]
  },
  {
   "cell_type": "markdown",
   "metadata": {},
   "source": [
    "## The next few graphs will look at various variables between the Nuggets and the 4 teams they played in the playoffs last year. "
   ]
  },
  {
   "cell_type": "code",
   "execution_count": 66,
   "metadata": {},
   "outputs": [],
   "source": [
    "import matplotlib.pyplot as plt"
   ]
  },
  {
   "cell_type": "code",
   "execution_count": 103,
   "metadata": {},
   "outputs": [
    {
     "data": {
      "image/png": "[encoded data removed]",
      "text/plain": [
       "<Figure size 640x480 with 1 Axes>"
      ]
     },
     "metadata": {},
     "output_type": "display_data"
    }
   ],
   "source": [
    "Teams = ['Nuggets', 'Heat', 'Lakers',  'Suns', 'Wolves']\n",
    "three_percentages = [0.36125, 0.31575, 0.343, 0.404625, 0.341875]\n",
    "\n",
    "plt.bar(Teams, three_percentages, color= ['blue','red','purple','orange', 'green'])\n",
    "\n",
    "plt.xlabel('Teams')\n",
    "plt.ylabel('3 Point %')\n",
    "plt.title('3 Point Percentage of Nuggets and teams on their path to the title')\n",
    "\n",
    "plt.show()"
   ]
  },
  {
   "cell_type": "code",
   "execution_count": 104,
   "metadata": {},
   "outputs": [
    {
     "data": {
      "text/plain": [
       "1.6125"
      ]
     },
     "execution_count": 104,
     "metadata": {},
     "output_type": "execute_result"
    }
   ],
   "source": [
    "nuggets_TOV = denver_rotation['TOV'].mean()\n",
    "\n",
    "nuggets_TOV"
   ]
  },
  {
   "cell_type": "code",
   "execution_count": 105,
   "metadata": {},
   "outputs": [
    {
     "data": {
      "text/plain": [
       "1.7375"
      ]
     },
     "execution_count": 105,
     "metadata": {},
     "output_type": "execute_result"
    }
   ],
   "source": [
    "heat_TOV = miami_rotation['TOV'].mean()\n",
    "\n",
    "heat_TOV"
   ]
  },
  {
   "cell_type": "code",
   "execution_count": 106,
   "metadata": {},
   "outputs": [
    {
     "data": {
      "text/plain": [
       "1.9875"
      ]
     },
     "execution_count": 106,
     "metadata": {},
     "output_type": "execute_result"
    }
   ],
   "source": [
    "lakers_TOV = lakers_rotation['TOV'].mean()\n",
    "\n",
    "lakers_TOV"
   ]
  },
  {
   "cell_type": "code",
   "execution_count": 108,
   "metadata": {},
   "outputs": [
    {
     "data": {
      "text/plain": [
       "1.6125"
      ]
     },
     "execution_count": 108,
     "metadata": {},
     "output_type": "execute_result"
    }
   ],
   "source": [
    "suns_TOV = suns_rotation['TOV'].mean()\n",
    "\n",
    "suns_TOV"
   ]
  },
  {
   "cell_type": "code",
   "execution_count": 109,
   "metadata": {},
   "outputs": [
    {
     "data": {
      "text/plain": [
       "2.0124999999999997"
      ]
     },
     "execution_count": 109,
     "metadata": {},
     "output_type": "execute_result"
    }
   ],
   "source": [
    "wolves_TOV = wolves_rotation['TOV'].mean()\n",
    "\n",
    "wolves_TOV"
   ]
  },
  {
   "cell_type": "code",
   "execution_count": 110,
   "metadata": {},
   "outputs": [
    {
     "data": {
      "image/png": "[encoded data removed]",
      "text/plain": [
       "<Figure size 640x480 with 1 Axes>"
      ]
     },
     "metadata": {},
     "output_type": "display_data"
    }
   ],
   "source": [
    "Teams = ['Nuggets', 'Heat', 'Lakers',  'Suns', 'Wolves']\n",
    "Turnovers = [1.6125, 1.7375, 1.9875, 1.6125, 2.0124999999999997]\n",
    "\n",
    "plt.bar(Teams, Turnovers, color= ['blue','red','purple','orange', 'green'])\n",
    "\n",
    "plt.xlabel('Teams')\n",
    "plt.ylabel('Turnovers')\n",
    "plt.title('Turnovers of Nuggets and teams on their path to the title')\n",
    "\n",
    "plt.show()"
   ]
  },
  {
   "cell_type": "code",
   "execution_count": 114,
   "metadata": {},
   "outputs": [
    {
     "data": {
      "text/plain": [
       "3.7875"
      ]
     },
     "execution_count": 114,
     "metadata": {},
     "output_type": "execute_result"
    }
   ],
   "source": [
    "nuggets_drb = denver_rotation['DRB'].mean()\n",
    "\n",
    "nuggets_drb"
   ]
  },
  {
   "cell_type": "code",
   "execution_count": 115,
   "metadata": {},
   "outputs": [
    {
     "data": {
      "text/plain": [
       "3.6625"
      ]
     },
     "execution_count": 115,
     "metadata": {},
     "output_type": "execute_result"
    }
   ],
   "source": [
    "heat_drb = miami_rotation['DRB'].mean()\n",
    "\n",
    "heat_drb"
   ]
  },
  {
   "cell_type": "code",
   "execution_count": 116,
   "metadata": {},
   "outputs": [
    {
     "data": {
      "text/plain": [
       "4.275"
      ]
     },
     "execution_count": 116,
     "metadata": {},
     "output_type": "execute_result"
    }
   ],
   "source": [
    "lakers_drb = lakers_rotation['DRB'].mean()\n",
    "\n",
    "lakers_drb"
   ]
  },
  {
   "cell_type": "code",
   "execution_count": 117,
   "metadata": {},
   "outputs": [
    {
     "data": {
      "text/plain": [
       "4.1625"
      ]
     },
     "execution_count": 117,
     "metadata": {},
     "output_type": "execute_result"
    }
   ],
   "source": [
    "suns_drb = suns_rotation['DRB'].mean()\n",
    "\n",
    "suns_drb"
   ]
  },
  {
   "cell_type": "code",
   "execution_count": 118,
   "metadata": {},
   "outputs": [
    {
     "data": {
      "text/plain": [
       "4.2875"
      ]
     },
     "execution_count": 118,
     "metadata": {},
     "output_type": "execute_result"
    }
   ],
   "source": [
    "wolves_drb = wolves_rotation['DRB'].mean()\n",
    "\n",
    "wolves_drb"
   ]
  },
  {
   "cell_type": "code",
   "execution_count": 119,
   "metadata": {},
   "outputs": [
    {
     "data": {
      "image/png": "[encoded data removed]",
      "text/plain": [
       "<Figure size 640x480 with 1 Axes>"
      ]
     },
     "metadata": {},
     "output_type": "display_data"
    }
   ],
   "source": [
    "Teams = ['Nuggets', 'Heat', 'Lakers',  'Suns', 'Wolves']\n",
    "defensive_rebounds = [3.7875, 3.6625, 4.275, 4.1625, 4.2875]\n",
    "\n",
    "plt.bar(Teams, defensive_rebounds, color= ['blue','red','purple','orange', 'green'])\n",
    "\n",
    "plt.xlabel('Teams')\n",
    "plt.ylabel('Defensive Rebounds')\n",
    "plt.title('Defensive Rebounds of Nuggets and teams on their path to the title')\n",
    "\n",
    "plt.show()"
   ]
  },
  {
   "cell_type": "code",
   "execution_count": 125,
   "metadata": {},
   "outputs": [
    {
     "data": {
      "text/plain": [
       "3.7624999999999997"
      ]
     },
     "execution_count": 125,
     "metadata": {},
     "output_type": "execute_result"
    }
   ],
   "source": [
    "nuggets_assists = denver_rotation['AST'].mean()\n",
    "\n",
    "nuggets_assists"
   ]
  },
  {
   "cell_type": "code",
   "execution_count": 124,
   "metadata": {},
   "outputs": [
    {
     "data": {
      "text/plain": [
       "3.4374999999999996"
      ]
     },
     "execution_count": 124,
     "metadata": {},
     "output_type": "execute_result"
    }
   ],
   "source": [
    "heat_assists = miami_rotation['AST'].mean()\n",
    "\n",
    "heat_assists"
   ]
  },
  {
   "cell_type": "code",
   "execution_count": 122,
   "metadata": {},
   "outputs": [
    {
     "data": {
      "text/plain": [
       "4.35"
      ]
     },
     "execution_count": 122,
     "metadata": {},
     "output_type": "execute_result"
    }
   ],
   "source": [
    "lakers_assists = lakers_rotation['AST'].mean()\n",
    "\n",
    "lakers_assists"
   ]
  },
  {
   "cell_type": "code",
   "execution_count": 121,
   "metadata": {},
   "outputs": [
    {
     "data": {
      "text/plain": [
       "3.4375"
      ]
     },
     "execution_count": 121,
     "metadata": {},
     "output_type": "execute_result"
    }
   ],
   "source": [
    "suns_assists = suns_rotation['AST'].mean()\n",
    "\n",
    "suns_assists"
   ]
  },
  {
   "cell_type": "code",
   "execution_count": 120,
   "metadata": {},
   "outputs": [
    {
     "data": {
      "text/plain": [
       "3.75"
      ]
     },
     "execution_count": 120,
     "metadata": {},
     "output_type": "execute_result"
    }
   ],
   "source": [
    "wolves_assists = wolves_rotation['AST'].mean()\n",
    "\n",
    "wolves_assists"
   ]
  },
  {
   "cell_type": "code",
   "execution_count": 126,
   "metadata": {},
   "outputs": [
    {
     "data": {
      "image/png": "[encoded data removed]",
      "text/plain": [
       "<Figure size 640x480 with 1 Axes>"
      ]
     },
     "metadata": {},
     "output_type": "display_data"
    }
   ],
   "source": [
    "Teams = ['Nuggets', 'Heat', 'Lakers',  'Suns', 'Wolves']\n",
    "assists = [3.7624999999999997, 3.4374999999999996, 4.35, 3.4375, 3.75]\n",
    "\n",
    "plt.bar(Teams, assists, color= ['blue','red','purple','orange', 'green'])\n",
    "\n",
    "plt.xlabel('Teams')\n",
    "plt.ylabel('Assists')\n",
    "plt.title('Assists of Nuggets and teams on their path to the title')\n",
    "\n",
    "plt.show()"
   ]
  },
  {
   "cell_type": "markdown",
   "metadata": {},
   "source": [
    "Below, we compared different players on the Nuggets' data and took a closer look at Kentavious Caldwell-Pope (KCP)."
   ]
  },
  {
   "cell_type": "code",
   "execution_count": 25,
   "metadata": {},
   "outputs": [
    {
     "data": {
      "application/vnd.plotly.v1+json": {
       "config": {
        "plotlyServerURL": "https://plot.ly"
       },
       "data": [
        {
         "hovertemplate": "Player=Nikola Jokić<br>FG%=%{x}<br>PTS=%{y}<br>G=%{marker.size}<extra></extra>",
         "legendgroup": "Nikola Jokić",
         "marker": {
          "color": "#636efa",
          "size": [
           69
          ],
          "sizemode": "area",
          "sizeref": 0.2,
          "symbol": "circle"
         },
         "mode": "markers",
         "name": "Nikola Jokić",
         "orientation": "v",
         "showlegend": true,
         "type": "scatter",
         "x": [
          0.632
         ],
         "xaxis": "x",
         "y": [
          24.5
         ],
         "yaxis": "y"
        },
        {
         "hovertemplate": "Player=Jamal Murray<br>FG%=%{x}<br>PTS=%{y}<br>G=%{marker.size}<extra></extra>",
         "legendgroup": "Jamal Murray",
         "marker": {
          "color": "#EF553B",
          "size": [
           65
          ],
          "sizemode": "area",
          "sizeref": 0.2,
          "symbol": "circle"
         },
         "mode": "markers",
         "name": "Jamal Murray",
         "orientation": "v",
         "showlegend": true,
         "type": "scatter",
         "x": [
          0.454
         ],
         "xaxis": "x",
         "y": [
          20
         ],
         "yaxis": "y"
        },
        {
         "hovertemplate": "Player=Kentavious Caldwell-Pope<br>FG%=%{x}<br>PTS=%{y}<br>G=%{marker.size}<extra></extra>",
         "legendgroup": "Kentavious Caldwell-Pope",
         "marker": {
          "color": "#00cc96",
          "size": [
           76
          ],
          "sizemode": "area",
          "sizeref": 0.2,
          "symbol": "circle"
         },
         "mode": "markers",
         "name": "Kentavious Caldwell-Pope",
         "orientation": "v",
         "showlegend": true,
         "type": "scatter",
         "x": [
          0.462
         ],
         "xaxis": "x",
         "y": [
          10.8
         ],
         "yaxis": "y"
        },
        {
         "hovertemplate": "Player=Aaron Gordon<br>FG%=%{x}<br>PTS=%{y}<br>G=%{marker.size}<extra></extra>",
         "legendgroup": "Aaron Gordon",
         "marker": {
          "color": "#ab63fa",
          "size": [
           68
          ],
          "sizemode": "area",
          "sizeref": 0.2,
          "symbol": "circle"
         },
         "mode": "markers",
         "name": "Aaron Gordon",
         "orientation": "v",
         "showlegend": true,
         "type": "scatter",
         "x": [
          0.564
         ],
         "xaxis": "x",
         "y": [
          16.3
         ],
         "yaxis": "y"
        },
        {
         "hovertemplate": "Player=Michael Porter Jr.<br>FG%=%{x}<br>PTS=%{y}<br>G=%{marker.size}<extra></extra>",
         "legendgroup": "Michael Porter Jr.",
         "marker": {
          "color": "#FFA15A",
          "size": [
           62
          ],
          "sizemode": "area",
          "sizeref": 0.2,
          "symbol": "circle"
         },
         "mode": "markers",
         "name": "Michael Porter Jr.",
         "orientation": "v",
         "showlegend": true,
         "type": "scatter",
         "x": [
          0.487
         ],
         "xaxis": "x",
         "y": [
          17.4
         ],
         "yaxis": "y"
        },
        {
         "hovertemplate": "Player=Bruce Brown<br>FG%=%{x}<br>PTS=%{y}<br>G=%{marker.size}<extra></extra>",
         "legendgroup": "Bruce Brown",
         "marker": {
          "color": "#19d3f3",
          "size": [
           80
          ],
          "sizemode": "area",
          "sizeref": 0.2,
          "symbol": "circle"
         },
         "mode": "markers",
         "name": "Bruce Brown",
         "orientation": "v",
         "showlegend": true,
         "type": "scatter",
         "x": [
          0.483
         ],
         "xaxis": "x",
         "y": [
          11.5
         ],
         "yaxis": "y"
        },
        {
         "hovertemplate": "Player=Reggie Jackson<br>FG%=%{x}<br>PTS=%{y}<br>G=%{marker.size}<extra></extra>",
         "legendgroup": "Reggie Jackson",
         "marker": {
          "color": "#FF6692",
          "size": [
           16
          ],
          "sizemode": "area",
          "sizeref": 0.2,
          "symbol": "circle"
         },
         "mode": "markers",
         "name": "Reggie Jackson",
         "orientation": "v",
         "showlegend": true,
         "type": "scatter",
         "x": [
          0.383
         ],
         "xaxis": "x",
         "y": [
          7.9
         ],
         "yaxis": "y"
        },
        {
         "hovertemplate": "Player=Jeff Green<br>FG%=%{x}<br>PTS=%{y}<br>G=%{marker.size}<extra></extra>",
         "legendgroup": "Jeff Green",
         "marker": {
          "color": "#B6E880",
          "size": [
           56
          ],
          "sizemode": "area",
          "sizeref": 0.2,
          "symbol": "circle"
         },
         "mode": "markers",
         "name": "Jeff Green",
         "orientation": "v",
         "showlegend": true,
         "type": "scatter",
         "x": [
          0.488
         ],
         "xaxis": "x",
         "y": [
          7.8
         ],
         "yaxis": "y"
        },
        {
         "hovertemplate": "Player=Bones Hyland<br>FG%=%{x}<br>PTS=%{y}<br>G=%{marker.size}<extra></extra>",
         "legendgroup": "Bones Hyland",
         "marker": {
          "color": "#FF97FF",
          "size": [
           42
          ],
          "sizemode": "area",
          "sizeref": 0.2,
          "symbol": "circle"
         },
         "mode": "markers",
         "name": "Bones Hyland",
         "orientation": "v",
         "showlegend": true,
         "type": "scatter",
         "x": [
          0.399
         ],
         "xaxis": "x",
         "y": [
          12.1
         ],
         "yaxis": "y"
        },
        {
         "hovertemplate": "Player=Christian Braun<br>FG%=%{x}<br>PTS=%{y}<br>G=%{marker.size}<extra></extra>",
         "legendgroup": "Christian Braun",
         "marker": {
          "color": "#FECB52",
          "size": [
           76
          ],
          "sizemode": "area",
          "sizeref": 0.2,
          "symbol": "circle"
         },
         "mode": "markers",
         "name": "Christian Braun",
         "orientation": "v",
         "showlegend": true,
         "type": "scatter",
         "x": [
          0.495
         ],
         "xaxis": "x",
         "y": [
          4.7
         ],
         "yaxis": "y"
        },
        {
         "hovertemplate": "Player=DeAndre Jordan<br>FG%=%{x}<br>PTS=%{y}<br>G=%{marker.size}<extra></extra>",
         "legendgroup": "DeAndre Jordan",
         "marker": {
          "color": "#636efa",
          "size": [
           39
          ],
          "sizemode": "area",
          "sizeref": 0.2,
          "symbol": "circle"
         },
         "mode": "markers",
         "name": "DeAndre Jordan",
         "orientation": "v",
         "showlegend": true,
         "type": "scatter",
         "x": [
          0.765
         ],
         "xaxis": "x",
         "y": [
          5.1
         ],
         "yaxis": "y"
        },
        {
         "hovertemplate": "Player=Vlatko Čančar<br>FG%=%{x}<br>PTS=%{y}<br>G=%{marker.size}<extra></extra>",
         "legendgroup": "Vlatko Čančar",
         "marker": {
          "color": "#EF553B",
          "size": [
           60
          ],
          "sizemode": "area",
          "sizeref": 0.2,
          "symbol": "circle"
         },
         "mode": "markers",
         "name": "Vlatko Čančar",
         "orientation": "v",
         "showlegend": true,
         "type": "scatter",
         "x": [
          0.476
         ],
         "xaxis": "x",
         "y": [
          5
         ],
         "yaxis": "y"
        },
        {
         "hovertemplate": "Player=Zeke Nnaji<br>FG%=%{x}<br>PTS=%{y}<br>G=%{marker.size}<extra></extra>",
         "legendgroup": "Zeke Nnaji",
         "marker": {
          "color": "#00cc96",
          "size": [
           53
          ],
          "sizemode": "area",
          "sizeref": 0.2,
          "symbol": "circle"
         },
         "mode": "markers",
         "name": "Zeke Nnaji",
         "orientation": "v",
         "showlegend": true,
         "type": "scatter",
         "x": [
          0.561
         ],
         "xaxis": "x",
         "y": [
          5.2
         ],
         "yaxis": "y"
        },
        {
         "hovertemplate": "Player=Thomas Bryant<br>FG%=%{x}<br>PTS=%{y}<br>G=%{marker.size}<extra></extra>",
         "legendgroup": "Thomas Bryant",
         "marker": {
          "color": "#ab63fa",
          "size": [
           18
          ],
          "sizemode": "area",
          "sizeref": 0.2,
          "symbol": "circle"
         },
         "mode": "markers",
         "name": "Thomas Bryant",
         "orientation": "v",
         "showlegend": true,
         "type": "scatter",
         "x": [
          0.485
         ],
         "xaxis": "x",
         "y": [
          4.6
         ],
         "yaxis": "y"
        },
        {
         "hovertemplate": "Player=Ish Smith<br>FG%=%{x}<br>PTS=%{y}<br>G=%{marker.size}<extra></extra>",
         "legendgroup": "Ish Smith",
         "marker": {
          "color": "#FFA15A",
          "size": [
           43
          ],
          "sizemode": "area",
          "sizeref": 0.2,
          "symbol": "circle"
         },
         "mode": "markers",
         "name": "Ish Smith",
         "orientation": "v",
         "showlegend": true,
         "type": "scatter",
         "x": [
          0.397
         ],
         "xaxis": "x",
         "y": [
          2.5
         ],
         "yaxis": "y"
        },
        {
         "hovertemplate": "Player=Davon Reed<br>FG%=%{x}<br>PTS=%{y}<br>G=%{marker.size}<extra></extra>",
         "legendgroup": "Davon Reed",
         "marker": {
          "color": "#19d3f3",
          "size": [
           35
          ],
          "sizemode": "area",
          "sizeref": 0.2,
          "symbol": "circle"
         },
         "mode": "markers",
         "name": "Davon Reed",
         "orientation": "v",
         "showlegend": true,
         "type": "scatter",
         "x": [
          0.313
         ],
         "xaxis": "x",
         "y": [
          2.3
         ],
         "yaxis": "y"
        },
        {
         "hovertemplate": "Player=Peyton Watson<br>FG%=%{x}<br>PTS=%{y}<br>G=%{marker.size}<extra></extra>",
         "legendgroup": "Peyton Watson",
         "marker": {
          "color": "#FF6692",
          "size": [
           23
          ],
          "sizemode": "area",
          "sizeref": 0.2,
          "symbol": "circle"
         },
         "mode": "markers",
         "name": "Peyton Watson",
         "orientation": "v",
         "showlegend": true,
         "type": "scatter",
         "x": [
          0.492
         ],
         "xaxis": "x",
         "y": [
          3.3
         ],
         "yaxis": "y"
        },
        {
         "hovertemplate": "Player=Jack White<br>FG%=%{x}<br>PTS=%{y}<br>G=%{marker.size}<extra></extra>",
         "legendgroup": "Jack White",
         "marker": {
          "color": "#B6E880",
          "size": [
           17
          ],
          "sizemode": "area",
          "sizeref": 0.2,
          "symbol": "circle"
         },
         "mode": "markers",
         "name": "Jack White",
         "orientation": "v",
         "showlegend": true,
         "type": "scatter",
         "x": [
          0.421
         ],
         "xaxis": "x",
         "y": [
          1.2
         ],
         "yaxis": "y"
        }
       ],
       "layout": {
        "legend": {
         "itemsizing": "constant",
         "title": {
          "text": "Player"
         },
         "tracegroupgap": 0
        },
        "margin": {
         "t": 60
        },
        "template": {
         "data": {
          "bar": [
           {
            "error_x": {
             "color": "#2a3f5f"
            },
            "error_y": {
             "color": "#2a3f5f"
            },
            "marker": {
             "line": {
              "color": "#E5ECF6",
              "width": 0.5
             },
             "pattern": {
              "fillmode": "overlay",
              "size": 10,
              "solidity": 0.2
             }
            },
            "type": "bar"
           }
          ],
          "barpolar": [
           {
            "marker": {
             "line": {
              "color": "#E5ECF6",
              "width": 0.5
             },
             "pattern": {
              "fillmode": "overlay",
              "size": 10,
              "solidity": 0.2
             }
            },
            "type": "barpolar"
           }
          ],
          "carpet": [
           {
            "aaxis": {
             "endlinecolor": "#2a3f5f",
             "gridcolor": "white",
             "linecolor": "white",
             "minorgridcolor": "white",
             "startlinecolor": "#2a3f5f"
            },
            "baxis": {
             "endlinecolor": "#2a3f5f",
             "gridcolor": "white",
             "linecolor": "white",
             "minorgridcolor": "white",
             "startlinecolor": "#2a3f5f"
            },
            "type": "carpet"
           }
          ],
          "choropleth": [
           {
            "colorbar": {
             "outlinewidth": 0,
             "ticks": ""
            },
            "type": "choropleth"
           }
          ],
          "contour": [
           {
            "colorbar": {
             "outlinewidth": 0,
             "ticks": ""
            },
            "colorscale": [
             [
              0,
              "#0d0887"
             ],
             [
              0.1111111111111111,
              "#46039f"
             ],
             [
              0.2222222222222222,
              "#7201a8"
             ],
             [
              0.3333333333333333,
              "#9c179e"
             ],
             [
              0.4444444444444444,
              "#bd3786"
             ],
             [
              0.5555555555555556,
              "#d8576b"
             ],
             [
              0.6666666666666666,
              "#ed7953"
             ],
             [
              0.7777777777777778,
              "#fb9f3a"
             ],
             [
              0.8888888888888888,
              "#fdca26"
             ],
             [
              1,
              "#f0f921"
             ]
            ],
            "type": "contour"
           }
          ],
          "contourcarpet": [
           {
            "colorbar": {
             "outlinewidth": 0,
             "ticks": ""
            },
            "type": "contourcarpet"
           }
          ],
          "heatmap": [
           {
            "colorbar": {
             "outlinewidth": 0,
             "ticks": ""
            },
            "colorscale": [
             [
              0,
              "#0d0887"
             ],
             [
              0.1111111111111111,
              "#46039f"
             ],
             [
              0.2222222222222222,
              "#7201a8"
             ],
             [
              0.3333333333333333,
              "#9c179e"
             ],
             [
              0.4444444444444444,
              "#bd3786"
             ],
             [
              0.5555555555555556,
              "#d8576b"
             ],
             [
              0.6666666666666666,
              "#ed7953"
             ],
             [
              0.7777777777777778,
              "#fb9f3a"
             ],
             [
              0.8888888888888888,
              "#fdca26"
             ],
             [
              1,
              "#f0f921"
             ]
            ],
            "type": "heatmap"
           }
          ],
          "heatmapgl": [
           {
            "colorbar": {
             "outlinewidth": 0,
             "ticks": ""
            },
            "colorscale": [
             [
              0,
              "#0d0887"
             ],
             [
              0.1111111111111111,
              "#46039f"
             ],
             [
              0.2222222222222222,
              "#7201a8"
             ],
             [
              0.3333333333333333,
              "#9c179e"
             ],
             [
              0.4444444444444444,
              "#bd3786"
             ],
             [
              0.5555555555555556,
              "#d8576b"
             ],
             [
              0.6666666666666666,
              "#ed7953"
             ],
             [
              0.7777777777777778,
              "#fb9f3a"
             ],
             [
              0.8888888888888888,
              "#fdca26"
             ],
             [
              1,
              "#f0f921"
             ]
            ],
            "type": "heatmapgl"
           }
          ],
          "histogram": [
           {
            "marker": {
             "pattern": {
              "fillmode": "overlay",
              "size": 10,
              "solidity": 0.2
             }
            },
            "type": "histogram"
           }
          ],
          "histogram2d": [
           {
            "colorbar": {
             "outlinewidth": 0,
             "ticks": ""
            },
            "colorscale": [
             [
              0,
              "#0d0887"
             ],
             [
              0.1111111111111111,
              "#46039f"
             ],
             [
              0.2222222222222222,
              "#7201a8"
             ],
             [
              0.3333333333333333,
              "#9c179e"
             ],
             [
              0.4444444444444444,
              "#bd3786"
             ],
             [
              0.5555555555555556,
              "#d8576b"
             ],
             [
              0.6666666666666666,
              "#ed7953"
             ],
             [
              0.7777777777777778,
              "#fb9f3a"
             ],
             [
              0.8888888888888888,
              "#fdca26"
             ],
             [
              1,
              "#f0f921"
             ]
            ],
            "type": "histogram2d"
           }
          ],
          "histogram2dcontour": [
           {
            "colorbar": {
             "outlinewidth": 0,
             "ticks": ""
            },
            "colorscale": [
             [
              0,
              "#0d0887"
             ],
             [
              0.1111111111111111,
              "#46039f"
             ],
             [
              0.2222222222222222,
              "#7201a8"
             ],
             [
              0.3333333333333333,
              "#9c179e"
             ],
             [
              0.4444444444444444,
              "#bd3786"
             ],
             [
              0.5555555555555556,
              "#d8576b"
             ],
             [
              0.6666666666666666,
              "#ed7953"
             ],
             [
              0.7777777777777778,
              "#fb9f3a"
             ],
             [
              0.8888888888888888,
              "#fdca26"
             ],
             [
              1,
              "#f0f921"
             ]
            ],
            "type": "histogram2dcontour"
           }
          ],
          "mesh3d": [
           {
            "colorbar": {
             "outlinewidth": 0,
             "ticks": ""
            },
            "type": "mesh3d"
           }
          ],
          "parcoords": [
           {
            "line": {
             "colorbar": {
              "outlinewidth": 0,
              "ticks": ""
             }
            },
            "type": "parcoords"
           }
          ],
          "pie": [
           {
            "automargin": true,
            "type": "pie"
           }
          ],
          "scatter": [
           {
            "fillpattern": {
             "fillmode": "overlay",
             "size": 10,
             "solidity": 0.2
            },
            "type": "scatter"
           }
          ],
          "scatter3d": [
           {
            "line": {
             "colorbar": {
              "outlinewidth": 0,
              "ticks": ""
             }
            },
            "marker": {
             "colorbar": {
              "outlinewidth": 0,
              "ticks": ""
             }
            },
            "type": "scatter3d"
           }
          ],
          "scattercarpet": [
           {
            "marker": {
             "colorbar": {
              "outlinewidth": 0,
              "ticks": ""
             }
            },
            "type": "scattercarpet"
           }
          ],
          "scattergeo": [
           {
            "marker": {
             "colorbar": {
              "outlinewidth": 0,
              "ticks": ""
             }
            },
            "type": "scattergeo"
           }
          ],
          "scattergl": [
           {
            "marker": {
             "colorbar": {
              "outlinewidth": 0,
              "ticks": ""
             }
            },
            "type": "scattergl"
           }
          ],
          "scattermapbox": [
           {
            "marker": {
             "colorbar": {
              "outlinewidth": 0,
              "ticks": ""
             }
            },
            "type": "scattermapbox"
           }
          ],
          "scatterpolar": [
           {
            "marker": {
             "colorbar": {
              "outlinewidth": 0,
              "ticks": ""
             }
            },
            "type": "scatterpolar"
           }
          ],
          "scatterpolargl": [
           {
            "marker": {
             "colorbar": {
              "outlinewidth": 0,
              "ticks": ""
             }
            },
            "type": "scatterpolargl"
           }
          ],
          "scatterternary": [
           {
            "marker": {
             "colorbar": {
              "outlinewidth": 0,
              "ticks": ""
             }
            },
            "type": "scatterternary"
           }
          ],
          "surface": [
           {
            "colorbar": {
             "outlinewidth": 0,
             "ticks": ""
            },
            "colorscale": [
             [
              0,
              "#0d0887"
             ],
             [
              0.1111111111111111,
              "#46039f"
             ],
             [
              0.2222222222222222,
              "#7201a8"
             ],
             [
              0.3333333333333333,
              "#9c179e"
             ],
             [
              0.4444444444444444,
              "#bd3786"
             ],
             [
              0.5555555555555556,
              "#d8576b"
             ],
             [
              0.6666666666666666,
              "#ed7953"
             ],
             [
              0.7777777777777778,
              "#fb9f3a"
             ],
             [
              0.8888888888888888,
              "#fdca26"
             ],
             [
              1,
              "#f0f921"
             ]
            ],
            "type": "surface"
           }
          ],
          "table": [
           {
            "cells": {
             "fill": {
              "color": "#EBF0F8"
             },
             "line": {
              "color": "white"
             }
            },
            "header": {
             "fill": {
              "color": "#C8D4E3"
             },
             "line": {
              "color": "white"
             }
            },
            "type": "table"
           }
          ]
         },
         "layout": {
          "annotationdefaults": {
           "arrowcolor": "#2a3f5f",
           "arrowhead": 0,
           "arrowwidth": 1
          },
          "autotypenumbers": "strict",
          "coloraxis": {
           "colorbar": {
            "outlinewidth": 0,
            "ticks": ""
           }
          },
          "colorscale": {
           "diverging": [
            [
             0,
             "#8e0152"
            ],
            [
             0.1,
             "#c51b7d"
            ],
            [
             0.2,
             "#de77ae"
            ],
            [
             0.3,
             "#f1b6da"
            ],
            [
             0.4,
             "#fde0ef"
            ],
            [
             0.5,
             "#f7f7f7"
            ],
            [
             0.6,
             "#e6f5d0"
            ],
            [
             0.7,
             "#b8e186"
            ],
            [
             0.8,
             "#7fbc41"
            ],
            [
             0.9,
             "#4d9221"
            ],
            [
             1,
             "#276419"
            ]
           ],
           "sequential": [
            [
             0,
             "#0d0887"
            ],
            [
             0.1111111111111111,
             "#46039f"
            ],
            [
             0.2222222222222222,
             "#7201a8"
            ],
            [
             0.3333333333333333,
             "#9c179e"
            ],
            [
             0.4444444444444444,
             "#bd3786"
            ],
            [
             0.5555555555555556,
             "#d8576b"
            ],
            [
             0.6666666666666666,
             "#ed7953"
            ],
            [
             0.7777777777777778,
             "#fb9f3a"
            ],
            [
             0.8888888888888888,
             "#fdca26"
            ],
            [
             1,
             "#f0f921"
            ]
           ],
           "sequentialminus": [
            [
             0,
             "#0d0887"
            ],
            [
             0.1111111111111111,
             "#46039f"
            ],
            [
             0.2222222222222222,
             "#7201a8"
            ],
            [
             0.3333333333333333,
             "#9c179e"
            ],
            [
             0.4444444444444444,
             "#bd3786"
            ],
            [
             0.5555555555555556,
             "#d8576b"
            ],
            [
             0.6666666666666666,
             "#ed7953"
            ],
            [
             0.7777777777777778,
             "#fb9f3a"
            ],
            [
             0.8888888888888888,
             "#fdca26"
            ],
            [
             1,
             "#f0f921"
            ]
           ]
          },
          "colorway": [
           "#636efa",
           "#EF553B",
           "#00cc96",
           "#ab63fa",
           "#FFA15A",
           "#19d3f3",
           "#FF6692",
           "#B6E880",
           "#FF97FF",
           "#FECB52"
          ],
          "font": {
           "color": "#2a3f5f"
          },
          "geo": {
           "bgcolor": "white",
           "lakecolor": "white",
           "landcolor": "#E5ECF6",
           "showlakes": true,
           "showland": true,
           "subunitcolor": "white"
          },
          "hoverlabel": {
           "align": "left"
          },
          "hovermode": "closest",
          "mapbox": {
           "style": "light"
          },
          "paper_bgcolor": "white",
          "plot_bgcolor": "#E5ECF6",
          "polar": {
           "angularaxis": {
            "gridcolor": "white",
            "linecolor": "white",
            "ticks": ""
           },
           "bgcolor": "#E5ECF6",
           "radialaxis": {
            "gridcolor": "white",
            "linecolor": "white",
            "ticks": ""
           }
          },
          "scene": {
           "xaxis": {
            "backgroundcolor": "#E5ECF6",
            "gridcolor": "white",
            "gridwidth": 2,
            "linecolor": "white",
            "showbackground": true,
            "ticks": "",
            "zerolinecolor": "white"
           },
           "yaxis": {
            "backgroundcolor": "#E5ECF6",
            "gridcolor": "white",
            "gridwidth": 2,
            "linecolor": "white",
            "showbackground": true,
            "ticks": "",
            "zerolinecolor": "white"
           },
           "zaxis": {
            "backgroundcolor": "#E5ECF6",
            "gridcolor": "white",
            "gridwidth": 2,
            "linecolor": "white",
            "showbackground": true,
            "ticks": "",
            "zerolinecolor": "white"
           }
          },
          "shapedefaults": {
           "line": {
            "color": "#2a3f5f"
           }
          },
          "ternary": {
           "aaxis": {
            "gridcolor": "white",
            "linecolor": "white",
            "ticks": ""
           },
           "baxis": {
            "gridcolor": "white",
            "linecolor": "white",
            "ticks": ""
           },
           "bgcolor": "#E5ECF6",
           "caxis": {
            "gridcolor": "white",
            "linecolor": "white",
            "ticks": ""
           }
          },
          "title": {
           "x": 0.05
          },
          "xaxis": {
           "automargin": true,
           "gridcolor": "white",
           "linecolor": "white",
           "ticks": "",
           "title": {
            "standoff": 15
           },
           "zerolinecolor": "white",
           "zerolinewidth": 2
          },
          "yaxis": {
           "automargin": true,
           "gridcolor": "white",
           "linecolor": "white",
           "ticks": "",
           "title": {
            "standoff": 15
           },
           "zerolinecolor": "white",
           "zerolinewidth": 2
          }
         }
        },
        "xaxis": {
         "anchor": "y",
         "domain": [
          0,
          1
         ],
         "title": {
          "text": "FG%"
         }
        },
        "yaxis": {
         "anchor": "x",
         "domain": [
          0,
          1
         ],
         "title": {
          "text": "PTS"
         }
        }
       }
      }
     },
     "metadata": {},
     "output_type": "display_data"
    }
   ],
   "source": [
    "fig = px.scatter(\n",
    "    clean_data,\n",
    "    x=\"FG%\",\n",
    "    y=\"PTS\",\n",
    "    color=clean_data.index,\n",
    "    size=clean_data[\"G\"] \n",
    ")\n",
    "\n",
    "fig.show()"
   ]
  },
  {
   "cell_type": "code",
   "execution_count": 26,
   "metadata": {},
   "outputs": [],
   "source": [
    "\n",
    "KCP_data = pd.read_csv(\"data/KCP.csv\",index_col=\"Season\")"
   ]
  },
  {
   "cell_type": "code",
   "execution_count": 27,
   "metadata": {},
   "outputs": [
    {
     "data": {
      "text/plain": [
       "<bound method NDFrame.tail of          Age   Tm   Lg Pos   G  GS    MP   FG   FGA    FG%  ...    FT%  ORB  \\\n",
       "Season                                                      ...               \n",
       "2013-14   20  DET  NBA  SG  80  41  19.8  2.3   5.8  0.396  ...  0.770  0.5   \n",
       "2014-15   21  DET  NBA  SG  82  82  31.5  4.8  11.9  0.401  ...  0.696  0.6   \n",
       "2015-16   22  DET  NBA  SG  76  76  36.7  5.3  12.6  0.420  ...  0.811  0.9   \n",
       "2016-17   23  DET  NBA  SG  76  75  33.3  4.9  12.2  0.399  ...  0.832  0.7   \n",
       "2017-18   24  LAL  NBA  SG  74  74  33.2  4.6  10.8  0.426  ...  0.789  0.8   \n",
       "2018-19   25  LAL  NBA  SG  82  23  24.8  4.0   9.2  0.430  ...  0.867  0.6   \n",
       "2019-20   26  LAL  NBA  SG  69  26  25.5  3.4   7.3  0.467  ...  0.775  0.6   \n",
       "2020-21   27  LAL  NBA  SG  67  67  28.4  3.3   7.6  0.431  ...  0.866  0.4   \n",
       "2021-22   28  WAS  NBA  SG  77  77  30.2  4.7  10.8  0.435  ...  0.890  0.5   \n",
       "2022-23   29  DEN  NBA  SG  76  76  31.3  3.8   8.3  0.462  ...  0.824  0.5   \n",
       "2023-24   30  DEN  NBA  SG  18  18  34.2  3.8   8.6  0.442  ...  0.949  0.6   \n",
       "\n",
       "         DRB  TRB  AST  STL  BLK  TOV   PF   PTS  \n",
       "Season                                            \n",
       "2013-14  1.5  2.0  0.7  0.9  0.2  0.4  1.8   5.9  \n",
       "2014-15  2.5  3.1  1.3  1.1  0.2  1.1  2.0  12.7  \n",
       "2015-16  2.8  3.7  1.8  1.4  0.2  1.4  2.2  14.5  \n",
       "2016-17  2.5  3.3  2.5  1.2  0.2  1.1  1.6  13.8  \n",
       "2017-18  4.4  5.2  2.2  1.4  0.2  1.3  2.0  13.4  \n",
       "2018-19  2.3  2.9  1.3  0.9  0.2  0.8  1.7  11.4  \n",
       "2019-20  1.5  2.1  1.6  0.8  0.2  0.9  1.9   9.3  \n",
       "2020-21  2.3  2.7  1.9  0.9  0.4  1.0  1.7   9.7  \n",
       "2021-22  2.9  3.4  1.9  1.1  0.3  1.3  1.8  13.2  \n",
       "2022-23  2.3  2.7  2.4  1.5  0.5  1.1  1.9  10.8  \n",
       "2023-24  1.4  2.0  2.6  1.6  0.5  1.3  2.3  11.2  \n",
       "\n",
       "[11 rows x 29 columns]>"
      ]
     },
     "execution_count": 27,
     "metadata": {},
     "output_type": "execute_result"
    }
   ],
   "source": [
    "KCP_data.tail"
   ]
  },
  {
   "cell_type": "code",
   "execution_count": 34,
   "metadata": {},
   "outputs": [
    {
     "data": {
      "text/plain": [
       "Index(['Age', 'Tm', 'Lg', 'Pos', 'G', 'GS', 'MP', 'FG', 'FGA', 'FG%', '3P',\n",
       "       '3PA', '3P%', '2P', '2PA', '2P%', 'eFG%', 'FT', 'FTA', 'FT%', 'ORB',\n",
       "       'DRB', 'TRB', 'AST', 'STL', 'BLK', 'TOV', 'PF', 'PTS'],\n",
       "      dtype='object')"
      ]
     },
     "execution_count": 34,
     "metadata": {},
     "output_type": "execute_result"
    }
   ],
   "source": [
    "KCP_data.columns"
   ]
  },
  {
   "cell_type": "code",
   "execution_count": 37,
   "metadata": {},
   "outputs": [],
   "source": [
    "Col= ['Age', 'Tm', 'Lg', 'Pos', 'G', 'GS', 'MP', 'FG', 'FGA', 'FG%', '3P',\n",
    "       '3PA', '3P%', '2P', '2PA', '2P%', 'eFG%', 'FT', 'FTA', 'FT%', 'ORB',\n",
    "       'DRB', 'TRB', 'AST', 'STL', 'BLK', 'TOV', 'PF', 'PTS']"
   ]
  },
  {
   "cell_type": "code",
   "execution_count": 38,
   "metadata": {},
   "outputs": [
    {
     "data": {
      "text/html": [
       "<div>\n",
       "<style scoped>\n",
       "    .dataframe tbody tr th:only-of-type {\n",
       "        vertical-align: middle;\n",
       "    }\n",
       "\n",
       "    .dataframe tbody tr th {\n",
       "        vertical-align: top;\n",
       "    }\n",
       "\n",
       "    .dataframe thead th {\n",
       "        text-align: right;\n",
       "    }\n",
       "</style>\n",
       "<table border=\"1\" class=\"dataframe\">\n",
       "  <thead>\n",
       "    <tr style=\"text-align: right;\">\n",
       "      <th></th>\n",
       "      <th>Age</th>\n",
       "      <th>Tm</th>\n",
       "      <th>Lg</th>\n",
       "      <th>Pos</th>\n",
       "      <th>G</th>\n",
       "      <th>GS</th>\n",
       "      <th>MP</th>\n",
       "      <th>FG</th>\n",
       "      <th>FGA</th>\n",
       "      <th>FG%</th>\n",
       "      <th>...</th>\n",
       "      <th>FT%</th>\n",
       "      <th>ORB</th>\n",
       "      <th>DRB</th>\n",
       "      <th>TRB</th>\n",
       "      <th>AST</th>\n",
       "      <th>STL</th>\n",
       "      <th>BLK</th>\n",
       "      <th>TOV</th>\n",
       "      <th>PF</th>\n",
       "      <th>PTS</th>\n",
       "    </tr>\n",
       "    <tr>\n",
       "      <th>Season</th>\n",
       "      <th></th>\n",
       "      <th></th>\n",
       "      <th></th>\n",
       "      <th></th>\n",
       "      <th></th>\n",
       "      <th></th>\n",
       "      <th></th>\n",
       "      <th></th>\n",
       "      <th></th>\n",
       "      <th></th>\n",
       "      <th></th>\n",
       "      <th></th>\n",
       "      <th></th>\n",
       "      <th></th>\n",
       "      <th></th>\n",
       "      <th></th>\n",
       "      <th></th>\n",
       "      <th></th>\n",
       "      <th></th>\n",
       "      <th></th>\n",
       "      <th></th>\n",
       "    </tr>\n",
       "  </thead>\n",
       "  <tbody>\n",
       "    <tr>\n",
       "      <th>2013-14</th>\n",
       "      <td>20</td>\n",
       "      <td>DET</td>\n",
       "      <td>NBA</td>\n",
       "      <td>SG</td>\n",
       "      <td>80</td>\n",
       "      <td>41</td>\n",
       "      <td>19.8</td>\n",
       "      <td>2.3</td>\n",
       "      <td>5.8</td>\n",
       "      <td>0.396</td>\n",
       "      <td>...</td>\n",
       "      <td>0.770</td>\n",
       "      <td>0.5</td>\n",
       "      <td>1.5</td>\n",
       "      <td>2.0</td>\n",
       "      <td>0.7</td>\n",
       "      <td>0.9</td>\n",
       "      <td>0.2</td>\n",
       "      <td>0.4</td>\n",
       "      <td>1.8</td>\n",
       "      <td>5.9</td>\n",
       "    </tr>\n",
       "    <tr>\n",
       "      <th>2014-15</th>\n",
       "      <td>21</td>\n",
       "      <td>DET</td>\n",
       "      <td>NBA</td>\n",
       "      <td>SG</td>\n",
       "      <td>82</td>\n",
       "      <td>82</td>\n",
       "      <td>31.5</td>\n",
       "      <td>4.8</td>\n",
       "      <td>11.9</td>\n",
       "      <td>0.401</td>\n",
       "      <td>...</td>\n",
       "      <td>0.696</td>\n",
       "      <td>0.6</td>\n",
       "      <td>2.5</td>\n",
       "      <td>3.1</td>\n",
       "      <td>1.3</td>\n",
       "      <td>1.1</td>\n",
       "      <td>0.2</td>\n",
       "      <td>1.1</td>\n",
       "      <td>2.0</td>\n",
       "      <td>12.7</td>\n",
       "    </tr>\n",
       "    <tr>\n",
       "      <th>2015-16</th>\n",
       "      <td>22</td>\n",
       "      <td>DET</td>\n",
       "      <td>NBA</td>\n",
       "      <td>SG</td>\n",
       "      <td>76</td>\n",
       "      <td>76</td>\n",
       "      <td>36.7</td>\n",
       "      <td>5.3</td>\n",
       "      <td>12.6</td>\n",
       "      <td>0.420</td>\n",
       "      <td>...</td>\n",
       "      <td>0.811</td>\n",
       "      <td>0.9</td>\n",
       "      <td>2.8</td>\n",
       "      <td>3.7</td>\n",
       "      <td>1.8</td>\n",
       "      <td>1.4</td>\n",
       "      <td>0.2</td>\n",
       "      <td>1.4</td>\n",
       "      <td>2.2</td>\n",
       "      <td>14.5</td>\n",
       "    </tr>\n",
       "    <tr>\n",
       "      <th>2016-17</th>\n",
       "      <td>23</td>\n",
       "      <td>DET</td>\n",
       "      <td>NBA</td>\n",
       "      <td>SG</td>\n",
       "      <td>76</td>\n",
       "      <td>75</td>\n",
       "      <td>33.3</td>\n",
       "      <td>4.9</td>\n",
       "      <td>12.2</td>\n",
       "      <td>0.399</td>\n",
       "      <td>...</td>\n",
       "      <td>0.832</td>\n",
       "      <td>0.7</td>\n",
       "      <td>2.5</td>\n",
       "      <td>3.3</td>\n",
       "      <td>2.5</td>\n",
       "      <td>1.2</td>\n",
       "      <td>0.2</td>\n",
       "      <td>1.1</td>\n",
       "      <td>1.6</td>\n",
       "      <td>13.8</td>\n",
       "    </tr>\n",
       "    <tr>\n",
       "      <th>2017-18</th>\n",
       "      <td>24</td>\n",
       "      <td>LAL</td>\n",
       "      <td>NBA</td>\n",
       "      <td>SG</td>\n",
       "      <td>74</td>\n",
       "      <td>74</td>\n",
       "      <td>33.2</td>\n",
       "      <td>4.6</td>\n",
       "      <td>10.8</td>\n",
       "      <td>0.426</td>\n",
       "      <td>...</td>\n",
       "      <td>0.789</td>\n",
       "      <td>0.8</td>\n",
       "      <td>4.4</td>\n",
       "      <td>5.2</td>\n",
       "      <td>2.2</td>\n",
       "      <td>1.4</td>\n",
       "      <td>0.2</td>\n",
       "      <td>1.3</td>\n",
       "      <td>2.0</td>\n",
       "      <td>13.4</td>\n",
       "    </tr>\n",
       "    <tr>\n",
       "      <th>2018-19</th>\n",
       "      <td>25</td>\n",
       "      <td>LAL</td>\n",
       "      <td>NBA</td>\n",
       "      <td>SG</td>\n",
       "      <td>82</td>\n",
       "      <td>23</td>\n",
       "      <td>24.8</td>\n",
       "      <td>4.0</td>\n",
       "      <td>9.2</td>\n",
       "      <td>0.430</td>\n",
       "      <td>...</td>\n",
       "      <td>0.867</td>\n",
       "      <td>0.6</td>\n",
       "      <td>2.3</td>\n",
       "      <td>2.9</td>\n",
       "      <td>1.3</td>\n",
       "      <td>0.9</td>\n",
       "      <td>0.2</td>\n",
       "      <td>0.8</td>\n",
       "      <td>1.7</td>\n",
       "      <td>11.4</td>\n",
       "    </tr>\n",
       "    <tr>\n",
       "      <th>2019-20</th>\n",
       "      <td>26</td>\n",
       "      <td>LAL</td>\n",
       "      <td>NBA</td>\n",
       "      <td>SG</td>\n",
       "      <td>69</td>\n",
       "      <td>26</td>\n",
       "      <td>25.5</td>\n",
       "      <td>3.4</td>\n",
       "      <td>7.3</td>\n",
       "      <td>0.467</td>\n",
       "      <td>...</td>\n",
       "      <td>0.775</td>\n",
       "      <td>0.6</td>\n",
       "      <td>1.5</td>\n",
       "      <td>2.1</td>\n",
       "      <td>1.6</td>\n",
       "      <td>0.8</td>\n",
       "      <td>0.2</td>\n",
       "      <td>0.9</td>\n",
       "      <td>1.9</td>\n",
       "      <td>9.3</td>\n",
       "    </tr>\n",
       "    <tr>\n",
       "      <th>2020-21</th>\n",
       "      <td>27</td>\n",
       "      <td>LAL</td>\n",
       "      <td>NBA</td>\n",
       "      <td>SG</td>\n",
       "      <td>67</td>\n",
       "      <td>67</td>\n",
       "      <td>28.4</td>\n",
       "      <td>3.3</td>\n",
       "      <td>7.6</td>\n",
       "      <td>0.431</td>\n",
       "      <td>...</td>\n",
       "      <td>0.866</td>\n",
       "      <td>0.4</td>\n",
       "      <td>2.3</td>\n",
       "      <td>2.7</td>\n",
       "      <td>1.9</td>\n",
       "      <td>0.9</td>\n",
       "      <td>0.4</td>\n",
       "      <td>1.0</td>\n",
       "      <td>1.7</td>\n",
       "      <td>9.7</td>\n",
       "    </tr>\n",
       "    <tr>\n",
       "      <th>2021-22</th>\n",
       "      <td>28</td>\n",
       "      <td>WAS</td>\n",
       "      <td>NBA</td>\n",
       "      <td>SG</td>\n",
       "      <td>77</td>\n",
       "      <td>77</td>\n",
       "      <td>30.2</td>\n",
       "      <td>4.7</td>\n",
       "      <td>10.8</td>\n",
       "      <td>0.435</td>\n",
       "      <td>...</td>\n",
       "      <td>0.890</td>\n",
       "      <td>0.5</td>\n",
       "      <td>2.9</td>\n",
       "      <td>3.4</td>\n",
       "      <td>1.9</td>\n",
       "      <td>1.1</td>\n",
       "      <td>0.3</td>\n",
       "      <td>1.3</td>\n",
       "      <td>1.8</td>\n",
       "      <td>13.2</td>\n",
       "    </tr>\n",
       "    <tr>\n",
       "      <th>2022-23</th>\n",
       "      <td>29</td>\n",
       "      <td>DEN</td>\n",
       "      <td>NBA</td>\n",
       "      <td>SG</td>\n",
       "      <td>76</td>\n",
       "      <td>76</td>\n",
       "      <td>31.3</td>\n",
       "      <td>3.8</td>\n",
       "      <td>8.3</td>\n",
       "      <td>0.462</td>\n",
       "      <td>...</td>\n",
       "      <td>0.824</td>\n",
       "      <td>0.5</td>\n",
       "      <td>2.3</td>\n",
       "      <td>2.7</td>\n",
       "      <td>2.4</td>\n",
       "      <td>1.5</td>\n",
       "      <td>0.5</td>\n",
       "      <td>1.1</td>\n",
       "      <td>1.9</td>\n",
       "      <td>10.8</td>\n",
       "    </tr>\n",
       "    <tr>\n",
       "      <th>2023-24</th>\n",
       "      <td>30</td>\n",
       "      <td>DEN</td>\n",
       "      <td>NBA</td>\n",
       "      <td>SG</td>\n",
       "      <td>18</td>\n",
       "      <td>18</td>\n",
       "      <td>34.2</td>\n",
       "      <td>3.8</td>\n",
       "      <td>8.6</td>\n",
       "      <td>0.442</td>\n",
       "      <td>...</td>\n",
       "      <td>0.949</td>\n",
       "      <td>0.6</td>\n",
       "      <td>1.4</td>\n",
       "      <td>2.0</td>\n",
       "      <td>2.6</td>\n",
       "      <td>1.6</td>\n",
       "      <td>0.5</td>\n",
       "      <td>1.3</td>\n",
       "      <td>2.3</td>\n",
       "      <td>11.2</td>\n",
       "    </tr>\n",
       "  </tbody>\n",
       "</table>\n",
       "<p>11 rows × 29 columns</p>\n",
       "</div>"
      ],
      "text/plain": [
       "         Age   Tm   Lg Pos   G  GS    MP   FG   FGA    FG%  ...    FT%  ORB  \\\n",
       "Season                                                      ...               \n",
       "2013-14   20  DET  NBA  SG  80  41  19.8  2.3   5.8  0.396  ...  0.770  0.5   \n",
       "2014-15   21  DET  NBA  SG  82  82  31.5  4.8  11.9  0.401  ...  0.696  0.6   \n",
       "2015-16   22  DET  NBA  SG  76  76  36.7  5.3  12.6  0.420  ...  0.811  0.9   \n",
       "2016-17   23  DET  NBA  SG  76  75  33.3  4.9  12.2  0.399  ...  0.832  0.7   \n",
       "2017-18   24  LAL  NBA  SG  74  74  33.2  4.6  10.8  0.426  ...  0.789  0.8   \n",
       "2018-19   25  LAL  NBA  SG  82  23  24.8  4.0   9.2  0.430  ...  0.867  0.6   \n",
       "2019-20   26  LAL  NBA  SG  69  26  25.5  3.4   7.3  0.467  ...  0.775  0.6   \n",
       "2020-21   27  LAL  NBA  SG  67  67  28.4  3.3   7.6  0.431  ...  0.866  0.4   \n",
       "2021-22   28  WAS  NBA  SG  77  77  30.2  4.7  10.8  0.435  ...  0.890  0.5   \n",
       "2022-23   29  DEN  NBA  SG  76  76  31.3  3.8   8.3  0.462  ...  0.824  0.5   \n",
       "2023-24   30  DEN  NBA  SG  18  18  34.2  3.8   8.6  0.442  ...  0.949  0.6   \n",
       "\n",
       "         DRB  TRB  AST  STL  BLK  TOV   PF   PTS  \n",
       "Season                                            \n",
       "2013-14  1.5  2.0  0.7  0.9  0.2  0.4  1.8   5.9  \n",
       "2014-15  2.5  3.1  1.3  1.1  0.2  1.1  2.0  12.7  \n",
       "2015-16  2.8  3.7  1.8  1.4  0.2  1.4  2.2  14.5  \n",
       "2016-17  2.5  3.3  2.5  1.2  0.2  1.1  1.6  13.8  \n",
       "2017-18  4.4  5.2  2.2  1.4  0.2  1.3  2.0  13.4  \n",
       "2018-19  2.3  2.9  1.3  0.9  0.2  0.8  1.7  11.4  \n",
       "2019-20  1.5  2.1  1.6  0.8  0.2  0.9  1.9   9.3  \n",
       "2020-21  2.3  2.7  1.9  0.9  0.4  1.0  1.7   9.7  \n",
       "2021-22  2.9  3.4  1.9  1.1  0.3  1.3  1.8  13.2  \n",
       "2022-23  2.3  2.7  2.4  1.5  0.5  1.1  1.9  10.8  \n",
       "2023-24  1.4  2.0  2.6  1.6  0.5  1.3  2.3  11.2  \n",
       "\n",
       "[11 rows x 29 columns]"
      ]
     },
     "execution_count": 38,
     "metadata": {},
     "output_type": "execute_result"
    }
   ],
   "source": [
    "KCP_data[Col]"
   ]
  },
  {
   "cell_type": "code",
   "execution_count": 39,
   "metadata": {},
   "outputs": [],
   "source": [
    "clean_data = KCP_data[Col].dropna()"
   ]
  },
  {
   "cell_type": "code",
   "execution_count": 41,
   "metadata": {},
   "outputs": [
    {
     "data": {
      "application/vnd.plotly.v1+json": {
       "config": {
        "plotlyServerURL": "https://plot.ly"
       },
       "data": [
        {
         "hovertemplate": "Season=2013-14<br>Age=%{x}<br>FT%=%{y}<br>GS=%{marker.size}<extra></extra>",
         "legendgroup": "2013-14",
         "marker": {
          "color": "#636efa",
          "size": [
           41
          ],
          "sizemode": "area",
          "sizeref": 0.205,
          "symbol": "circle"
         },
         "mode": "markers",
         "name": "2013-14",
         "orientation": "v",
         "showlegend": true,
         "type": "scatter",
         "x": [
          20
         ],
         "xaxis": "x",
         "y": [
          0.77
         ],
         "yaxis": "y"
        },
        {
         "hovertemplate": "Season=2014-15<br>Age=%{x}<br>FT%=%{y}<br>GS=%{marker.size}<extra></extra>",
         "legendgroup": "2014-15",
         "marker": {
          "color": "#EF553B",
          "size": [
           82
          ],
          "sizemode": "area",
          "sizeref": 0.205,
          "symbol": "circle"
         },
         "mode": "markers",
         "name": "2014-15",
         "orientation": "v",
         "showlegend": true,
         "type": "scatter",
         "x": [
          21
         ],
         "xaxis": "x",
         "y": [
          0.696
         ],
         "yaxis": "y"
        },
        {
         "hovertemplate": "Season=2015-16<br>Age=%{x}<br>FT%=%{y}<br>GS=%{marker.size}<extra></extra>",
         "legendgroup": "2015-16",
         "marker": {
          "color": "#00cc96",
          "size": [
           76
          ],
          "sizemode": "area",
          "sizeref": 0.205,
          "symbol": "circle"
         },
         "mode": "markers",
         "name": "2015-16",
         "orientation": "v",
         "showlegend": true,
         "type": "scatter",
         "x": [
          22
         ],
         "xaxis": "x",
         "y": [
          0.811
         ],
         "yaxis": "y"
        },
        {
         "hovertemplate": "Season=2016-17<br>Age=%{x}<br>FT%=%{y}<br>GS=%{marker.size}<extra></extra>",
         "legendgroup": "2016-17",
         "marker": {
          "color": "#ab63fa",
          "size": [
           75
          ],
          "sizemode": "area",
          "sizeref": 0.205,
          "symbol": "circle"
         },
         "mode": "markers",
         "name": "2016-17",
         "orientation": "v",
         "showlegend": true,
         "type": "scatter",
         "x": [
          23
         ],
         "xaxis": "x",
         "y": [
          0.832
         ],
         "yaxis": "y"
        },
        {
         "hovertemplate": "Season=2017-18<br>Age=%{x}<br>FT%=%{y}<br>GS=%{marker.size}<extra></extra>",
         "legendgroup": "2017-18",
         "marker": {
          "color": "#FFA15A",
          "size": [
           74
          ],
          "sizemode": "area",
          "sizeref": 0.205,
          "symbol": "circle"
         },
         "mode": "markers",
         "name": "2017-18",
         "orientation": "v",
         "showlegend": true,
         "type": "scatter",
         "x": [
          24
         ],
         "xaxis": "x",
         "y": [
          0.789
         ],
         "yaxis": "y"
        },
        {
         "hovertemplate": "Season=2018-19<br>Age=%{x}<br>FT%=%{y}<br>GS=%{marker.size}<extra></extra>",
         "legendgroup": "2018-19",
         "marker": {
          "color": "#19d3f3",
          "size": [
           23
          ],
          "sizemode": "area",
          "sizeref": 0.205,
          "symbol": "circle"
         },
         "mode": "markers",
         "name": "2018-19",
         "orientation": "v",
         "showlegend": true,
         "type": "scatter",
         "x": [
          25
         ],
         "xaxis": "x",
         "y": [
          0.867
         ],
         "yaxis": "y"
        },
        {
         "hovertemplate": "Season=2019-20<br>Age=%{x}<br>FT%=%{y}<br>GS=%{marker.size}<extra></extra>",
         "legendgroup": "2019-20",
         "marker": {
          "color": "#FF6692",
          "size": [
           26
          ],
          "sizemode": "area",
          "sizeref": 0.205,
          "symbol": "circle"
         },
         "mode": "markers",
         "name": "2019-20",
         "orientation": "v",
         "showlegend": true,
         "type": "scatter",
         "x": [
          26
         ],
         "xaxis": "x",
         "y": [
          0.775
         ],
         "yaxis": "y"
        },
        {
         "hovertemplate": "Season=2020-21<br>Age=%{x}<br>FT%=%{y}<br>GS=%{marker.size}<extra></extra>",
         "legendgroup": "2020-21",
         "marker": {
          "color": "#B6E880",
          "size": [
           67
          ],
          "sizemode": "area",
          "sizeref": 0.205,
          "symbol": "circle"
         },
         "mode": "markers",
         "name": "2020-21",
         "orientation": "v",
         "showlegend": true,
         "type": "scatter",
         "x": [
          27
         ],
         "xaxis": "x",
         "y": [
          0.866
         ],
         "yaxis": "y"
        },
        {
         "hovertemplate": "Season=2021-22<br>Age=%{x}<br>FT%=%{y}<br>GS=%{marker.size}<extra></extra>",
         "legendgroup": "2021-22",
         "marker": {
          "color": "#FF97FF",
          "size": [
           77
          ],
          "sizemode": "area",
          "sizeref": 0.205,
          "symbol": "circle"
         },
         "mode": "markers",
         "name": "2021-22",
         "orientation": "v",
         "showlegend": true,
         "type": "scatter",
         "x": [
          28
         ],
         "xaxis": "x",
         "y": [
          0.89
         ],
         "yaxis": "y"
        },
        {
         "hovertemplate": "Season=2022-23<br>Age=%{x}<br>FT%=%{y}<br>GS=%{marker.size}<extra></extra>",
         "legendgroup": "2022-23",
         "marker": {
          "color": "#FECB52",
          "size": [
           76
          ],
          "sizemode": "area",
          "sizeref": 0.205,
          "symbol": "circle"
         },
         "mode": "markers",
         "name": "2022-23",
         "orientation": "v",
         "showlegend": true,
         "type": "scatter",
         "x": [
          29
         ],
         "xaxis": "x",
         "y": [
          0.824
         ],
         "yaxis": "y"
        },
        {
         "hovertemplate": "Season=2023-24<br>Age=%{x}<br>FT%=%{y}<br>GS=%{marker.size}<extra></extra>",
         "legendgroup": "2023-24",
         "marker": {
          "color": "#636efa",
          "size": [
           18
          ],
          "sizemode": "area",
          "sizeref": 0.205,
          "symbol": "circle"
         },
         "mode": "markers",
         "name": "2023-24",
         "orientation": "v",
         "showlegend": true,
         "type": "scatter",
         "x": [
          30
         ],
         "xaxis": "x",
         "y": [
          0.949
         ],
         "yaxis": "y"
        }
       ],
       "layout": {
        "legend": {
         "itemsizing": "constant",
         "title": {
          "text": "Season"
         },
         "tracegroupgap": 0
        },
        "margin": {
         "t": 60
        },
        "template": {
         "data": {
          "bar": [
           {
            "error_x": {
             "color": "#2a3f5f"
            },
            "error_y": {
             "color": "#2a3f5f"
            },
            "marker": {
             "line": {
              "color": "#E5ECF6",
              "width": 0.5
             },
             "pattern": {
              "fillmode": "overlay",
              "size": 10,
              "solidity": 0.2
             }
            },
            "type": "bar"
           }
          ],
          "barpolar": [
           {
            "marker": {
             "line": {
              "color": "#E5ECF6",
              "width": 0.5
             },
             "pattern": {
              "fillmode": "overlay",
              "size": 10,
              "solidity": 0.2
             }
            },
            "type": "barpolar"
           }
          ],
          "carpet": [
           {
            "aaxis": {
             "endlinecolor": "#2a3f5f",
             "gridcolor": "white",
             "linecolor": "white",
             "minorgridcolor": "white",
             "startlinecolor": "#2a3f5f"
            },
            "baxis": {
             "endlinecolor": "#2a3f5f",
             "gridcolor": "white",
             "linecolor": "white",
             "minorgridcolor": "white",
             "startlinecolor": "#2a3f5f"
            },
            "type": "carpet"
           }
          ],
          "choropleth": [
           {
            "colorbar": {
             "outlinewidth": 0,
             "ticks": ""
            },
            "type": "choropleth"
           }
          ],
          "contour": [
           {
            "colorbar": {
             "outlinewidth": 0,
             "ticks": ""
            },
            "colorscale": [
             [
              0,
              "#0d0887"
             ],
             [
              0.1111111111111111,
              "#46039f"
             ],
             [
              0.2222222222222222,
              "#7201a8"
             ],
             [
              0.3333333333333333,
              "#9c179e"
             ],
             [
              0.4444444444444444,
              "#bd3786"
             ],
             [
              0.5555555555555556,
              "#d8576b"
             ],
             [
              0.6666666666666666,
              "#ed7953"
             ],
             [
              0.7777777777777778,
              "#fb9f3a"
             ],
             [
              0.8888888888888888,
              "#fdca26"
             ],
             [
              1,
              "#f0f921"
             ]
            ],
            "type": "contour"
           }
          ],
          "contourcarpet": [
           {
            "colorbar": {
             "outlinewidth": 0,
             "ticks": ""
            },
            "type": "contourcarpet"
           }
          ],
          "heatmap": [
           {
            "colorbar": {
             "outlinewidth": 0,
             "ticks": ""
            },
            "colorscale": [
             [
              0,
              "#0d0887"
             ],
             [
              0.1111111111111111,
              "#46039f"
             ],
             [
              0.2222222222222222,
              "#7201a8"
             ],
             [
              0.3333333333333333,
              "#9c179e"
             ],
             [
              0.4444444444444444,
              "#bd3786"
             ],
             [
              0.5555555555555556,
              "#d8576b"
             ],
             [
              0.6666666666666666,
              "#ed7953"
             ],
             [
              0.7777777777777778,
              "#fb9f3a"
             ],
             [
              0.8888888888888888,
              "#fdca26"
             ],
             [
              1,
              "#f0f921"
             ]
            ],
            "type": "heatmap"
           }
          ],
          "heatmapgl": [
           {
            "colorbar": {
             "outlinewidth": 0,
             "ticks": ""
            },
            "colorscale": [
             [
              0,
              "#0d0887"
             ],
             [
              0.1111111111111111,
              "#46039f"
             ],
             [
              0.2222222222222222,
              "#7201a8"
             ],
             [
              0.3333333333333333,
              "#9c179e"
             ],
             [
              0.4444444444444444,
              "#bd3786"
             ],
             [
              0.5555555555555556,
              "#d8576b"
             ],
             [
              0.6666666666666666,
              "#ed7953"
             ],
             [
              0.7777777777777778,
              "#fb9f3a"
             ],
             [
              0.8888888888888888,
              "#fdca26"
             ],
             [
              1,
              "#f0f921"
             ]
            ],
            "type": "heatmapgl"
           }
          ],
          "histogram": [
           {
            "marker": {
             "pattern": {
              "fillmode": "overlay",
              "size": 10,
              "solidity": 0.2
             }
            },
            "type": "histogram"
           }
          ],
          "histogram2d": [
           {
            "colorbar": {
             "outlinewidth": 0,
             "ticks": ""
            },
            "colorscale": [
             [
              0,
              "#0d0887"
             ],
             [
              0.1111111111111111,
              "#46039f"
             ],
             [
              0.2222222222222222,
              "#7201a8"
             ],
             [
              0.3333333333333333,
              "#9c179e"
             ],
             [
              0.4444444444444444,
              "#bd3786"
             ],
             [
              0.5555555555555556,
              "#d8576b"
             ],
             [
              0.6666666666666666,
              "#ed7953"
             ],
             [
              0.7777777777777778,
              "#fb9f3a"
             ],
             [
              0.8888888888888888,
              "#fdca26"
             ],
             [
              1,
              "#f0f921"
             ]
            ],
            "type": "histogram2d"
           }
          ],
          "histogram2dcontour": [
           {
            "colorbar": {
             "outlinewidth": 0,
             "ticks": ""
            },
            "colorscale": [
             [
              0,
              "#0d0887"
             ],
             [
              0.1111111111111111,
              "#46039f"
             ],
             [
              0.2222222222222222,
              "#7201a8"
             ],
             [
              0.3333333333333333,
              "#9c179e"
             ],
             [
              0.4444444444444444,
              "#bd3786"
             ],
             [
              0.5555555555555556,
              "#d8576b"
             ],
             [
              0.6666666666666666,
              "#ed7953"
             ],
             [
              0.7777777777777778,
              "#fb9f3a"
             ],
             [
              0.8888888888888888,
              "#fdca26"
             ],
             [
              1,
              "#f0f921"
             ]
            ],
            "type": "histogram2dcontour"
           }
          ],
          "mesh3d": [
           {
            "colorbar": {
             "outlinewidth": 0,
             "ticks": ""
            },
            "type": "mesh3d"
           }
          ],
          "parcoords": [
           {
            "line": {
             "colorbar": {
              "outlinewidth": 0,
              "ticks": ""
             }
            },
            "type": "parcoords"
           }
          ],
          "pie": [
           {
            "automargin": true,
            "type": "pie"
           }
          ],
          "scatter": [
           {
            "fillpattern": {
             "fillmode": "overlay",
             "size": 10,
             "solidity": 0.2
            },
            "type": "scatter"
           }
          ],
          "scatter3d": [
           {
            "line": {
             "colorbar": {
              "outlinewidth": 0,
              "ticks": ""
             }
            },
            "marker": {
             "colorbar": {
              "outlinewidth": 0,
              "ticks": ""
             }
            },
            "type": "scatter3d"
           }
          ],
          "scattercarpet": [
           {
            "marker": {
             "colorbar": {
              "outlinewidth": 0,
              "ticks": ""
             }
            },
            "type": "scattercarpet"
           }
          ],
          "scattergeo": [
           {
            "marker": {
             "colorbar": {
              "outlinewidth": 0,
              "ticks": ""
             }
            },
            "type": "scattergeo"
           }
          ],
          "scattergl": [
           {
            "marker": {
             "colorbar": {
              "outlinewidth": 0,
              "ticks": ""
             }
            },
            "type": "scattergl"
           }
          ],
          "scattermapbox": [
           {
            "marker": {
             "colorbar": {
              "outlinewidth": 0,
              "ticks": ""
             }
            },
            "type": "scattermapbox"
           }
          ],
          "scatterpolar": [
           {
            "marker": {
             "colorbar": {
              "outlinewidth": 0,
              "ticks": ""
             }
            },
            "type": "scatterpolar"
           }
          ],
          "scatterpolargl": [
           {
            "marker": {
             "colorbar": {
              "outlinewidth": 0,
              "ticks": ""
             }
            },
            "type": "scatterpolargl"
           }
          ],
          "scatterternary": [
           {
            "marker": {
             "colorbar": {
              "outlinewidth": 0,
              "ticks": ""
             }
            },
            "type": "scatterternary"
           }
          ],
          "surface": [
           {
            "colorbar": {
             "outlinewidth": 0,
             "ticks": ""
            },
            "colorscale": [
             [
              0,
              "#0d0887"
             ],
             [
              0.1111111111111111,
              "#46039f"
             ],
             [
              0.2222222222222222,
              "#7201a8"
             ],
             [
              0.3333333333333333,
              "#9c179e"
             ],
             [
              0.4444444444444444,
              "#bd3786"
             ],
             [
              0.5555555555555556,
              "#d8576b"
             ],
             [
              0.6666666666666666,
              "#ed7953"
             ],
             [
              0.7777777777777778,
              "#fb9f3a"
             ],
             [
              0.8888888888888888,
              "#fdca26"
             ],
             [
              1,
              "#f0f921"
             ]
            ],
            "type": "surface"
           }
          ],
          "table": [
           {
            "cells": {
             "fill": {
              "color": "#EBF0F8"
             },
             "line": {
              "color": "white"
             }
            },
            "header": {
             "fill": {
              "color": "#C8D4E3"
             },
             "line": {
              "color": "white"
             }
            },
            "type": "table"
           }
          ]
         },
         "layout": {
          "annotationdefaults": {
           "arrowcolor": "#2a3f5f",
           "arrowhead": 0,
           "arrowwidth": 1
          },
          "autotypenumbers": "strict",
          "coloraxis": {
           "colorbar": {
            "outlinewidth": 0,
            "ticks": ""
           }
          },
          "colorscale": {
           "diverging": [
            [
             0,
             "#8e0152"
            ],
            [
             0.1,
             "#c51b7d"
            ],
            [
             0.2,
             "#de77ae"
            ],
            [
             0.3,
             "#f1b6da"
            ],
            [
             0.4,
             "#fde0ef"
            ],
            [
             0.5,
             "#f7f7f7"
            ],
            [
             0.6,
             "#e6f5d0"
            ],
            [
             0.7,
             "#b8e186"
            ],
            [
             0.8,
             "#7fbc41"
            ],
            [
             0.9,
             "#4d9221"
            ],
            [
             1,
             "#276419"
            ]
           ],
           "sequential": [
            [
             0,
             "#0d0887"
            ],
            [
             0.1111111111111111,
             "#46039f"
            ],
            [
             0.2222222222222222,
             "#7201a8"
            ],
            [
             0.3333333333333333,
             "#9c179e"
            ],
            [
             0.4444444444444444,
             "#bd3786"
            ],
            [
             0.5555555555555556,
             "#d8576b"
            ],
            [
             0.6666666666666666,
             "#ed7953"
            ],
            [
             0.7777777777777778,
             "#fb9f3a"
            ],
            [
             0.8888888888888888,
             "#fdca26"
            ],
            [
             1,
             "#f0f921"
            ]
           ],
           "sequentialminus": [
            [
             0,
             "#0d0887"
            ],
            [
             0.1111111111111111,
             "#46039f"
            ],
            [
             0.2222222222222222,
             "#7201a8"
            ],
            [
             0.3333333333333333,
             "#9c179e"
            ],
            [
             0.4444444444444444,
             "#bd3786"
            ],
            [
             0.5555555555555556,
             "#d8576b"
            ],
            [
             0.6666666666666666,
             "#ed7953"
            ],
            [
             0.7777777777777778,
             "#fb9f3a"
            ],
            [
             0.8888888888888888,
             "#fdca26"
            ],
            [
             1,
             "#f0f921"
            ]
           ]
          },
          "colorway": [
           "#636efa",
           "#EF553B",
           "#00cc96",
           "#ab63fa",
           "#FFA15A",
           "#19d3f3",
           "#FF6692",
           "#B6E880",
           "#FF97FF",
           "#FECB52"
          ],
          "font": {
           "color": "#2a3f5f"
          },
          "geo": {
           "bgcolor": "white",
           "lakecolor": "white",
           "landcolor": "#E5ECF6",
           "showlakes": true,
           "showland": true,
           "subunitcolor": "white"
          },
          "hoverlabel": {
           "align": "left"
          },
          "hovermode": "closest",
          "mapbox": {
           "style": "light"
          },
          "paper_bgcolor": "white",
          "plot_bgcolor": "#E5ECF6",
          "polar": {
           "angularaxis": {
            "gridcolor": "white",
            "linecolor": "white",
            "ticks": ""
           },
           "bgcolor": "#E5ECF6",
           "radialaxis": {
            "gridcolor": "white",
            "linecolor": "white",
            "ticks": ""
           }
          },
          "scene": {
           "xaxis": {
            "backgroundcolor": "#E5ECF6",
            "gridcolor": "white",
            "gridwidth": 2,
            "linecolor": "white",
            "showbackground": true,
            "ticks": "",
            "zerolinecolor": "white"
           },
           "yaxis": {
            "backgroundcolor": "#E5ECF6",
            "gridcolor": "white",
            "gridwidth": 2,
            "linecolor": "white",
            "showbackground": true,
            "ticks": "",
            "zerolinecolor": "white"
           },
           "zaxis": {
            "backgroundcolor": "#E5ECF6",
            "gridcolor": "white",
            "gridwidth": 2,
            "linecolor": "white",
            "showbackground": true,
            "ticks": "",
            "zerolinecolor": "white"
           }
          },
          "shapedefaults": {
           "line": {
            "color": "#2a3f5f"
           }
          },
          "ternary": {
           "aaxis": {
            "gridcolor": "white",
            "linecolor": "white",
            "ticks": ""
           },
           "baxis": {
            "gridcolor": "white",
            "linecolor": "white",
            "ticks": ""
           },
           "bgcolor": "#E5ECF6",
           "caxis": {
            "gridcolor": "white",
            "linecolor": "white",
            "ticks": ""
           }
          },
          "title": {
           "x": 0.05
          },
          "xaxis": {
           "automargin": true,
           "gridcolor": "white",
           "linecolor": "white",
           "ticks": "",
           "title": {
            "standoff": 15
           },
           "zerolinecolor": "white",
           "zerolinewidth": 2
          },
          "yaxis": {
           "automargin": true,
           "gridcolor": "white",
           "linecolor": "white",
           "ticks": "",
           "title": {
            "standoff": 15
           },
           "zerolinecolor": "white",
           "zerolinewidth": 2
          }
         }
        },
        "xaxis": {
         "anchor": "y",
         "domain": [
          0,
          1
         ],
         "title": {
          "text": "Age"
         }
        },
        "yaxis": {
         "anchor": "x",
         "domain": [
          0,
          1
         ],
         "title": {
          "text": "FT%"
         }
        }
       }
      }
     },
     "metadata": {},
     "output_type": "display_data"
    }
   ],
   "source": [
    "fig = px.scatter(\n",
    "    KCP_data,\n",
    "    x=\"Age\",\n",
    "    y=\"FT%\",\n",
    "    color=KCP_data.index,\n",
    "    size=KCP_data[\"GS\"] \n",
    ")\n",
    "\n",
    "fig.show()"
   ]
  },
  {
   "cell_type": "markdown",
   "metadata": {},
   "source": [
    "## Below, we tried to use linear regression in a way to make sense of the various variables in the day and how they contribute to Denver's overall team. The function ran, however, we were not really sure what to make of this return value, so we abandoned this process. "
   ]
  },
  {
   "cell_type": "code",
   "execution_count": null,
   "metadata": {},
   "outputs": [],
   "source": [
    "#lets look just at denver stats \n",
    "nba2023_denver = nba2023.reset_index(drop=True)\n",
    "denver_row = nba2023_denver.loc[7, :]\n",
    "\n",
    "print(denver_row)"
   ]
  },
  {
   "cell_type": "code",
   "execution_count": 158,
   "metadata": {},
   "outputs": [
    {
     "name": "stdout",
     "output_type": "stream",
     "text": [
      "0.9123057281115289\n",
      "0.8027314567655685\n"
     ]
    },
    {
     "name": "stderr",
     "output_type": "stream",
     "text": [
      "/Users/reubendayal/anaconda3/envs/mssa60230/lib/python3.10/site-packages/sklearn/utils/validation.py:767: FutureWarning:\n",
      "\n",
      "is_sparse is deprecated and will be removed in a future version. Check `isinstance(dtype, pd.SparseDtype)` instead.\n",
      "\n",
      "/Users/reubendayal/anaconda3/envs/mssa60230/lib/python3.10/site-packages/sklearn/utils/validation.py:605: FutureWarning:\n",
      "\n",
      "is_sparse is deprecated and will be removed in a future version. Check `isinstance(dtype, pd.SparseDtype)` instead.\n",
      "\n",
      "/Users/reubendayal/anaconda3/envs/mssa60230/lib/python3.10/site-packages/sklearn/utils/validation.py:614: FutureWarning:\n",
      "\n",
      "is_sparse is deprecated and will be removed in a future version. Check `isinstance(dtype, pd.SparseDtype)` instead.\n",
      "\n",
      "/Users/reubendayal/anaconda3/envs/mssa60230/lib/python3.10/site-packages/sklearn/utils/validation.py:605: FutureWarning:\n",
      "\n",
      "is_sparse is deprecated and will be removed in a future version. Check `isinstance(dtype, pd.SparseDtype)` instead.\n",
      "\n",
      "/Users/reubendayal/anaconda3/envs/mssa60230/lib/python3.10/site-packages/sklearn/utils/validation.py:614: FutureWarning:\n",
      "\n",
      "is_sparse is deprecated and will be removed in a future version. Check `isinstance(dtype, pd.SparseDtype)` instead.\n",
      "\n",
      "/Users/reubendayal/anaconda3/envs/mssa60230/lib/python3.10/site-packages/sklearn/utils/validation.py:767: FutureWarning:\n",
      "\n",
      "is_sparse is deprecated and will be removed in a future version. Check `isinstance(dtype, pd.SparseDtype)` instead.\n",
      "\n",
      "/Users/reubendayal/anaconda3/envs/mssa60230/lib/python3.10/site-packages/sklearn/utils/validation.py:605: FutureWarning:\n",
      "\n",
      "is_sparse is deprecated and will be removed in a future version. Check `isinstance(dtype, pd.SparseDtype)` instead.\n",
      "\n",
      "/Users/reubendayal/anaconda3/envs/mssa60230/lib/python3.10/site-packages/sklearn/utils/validation.py:614: FutureWarning:\n",
      "\n",
      "is_sparse is deprecated and will be removed in a future version. Check `isinstance(dtype, pd.SparseDtype)` instead.\n",
      "\n",
      "/Users/reubendayal/anaconda3/envs/mssa60230/lib/python3.10/site-packages/sklearn/utils/validation.py:605: FutureWarning:\n",
      "\n",
      "is_sparse is deprecated and will be removed in a future version. Check `isinstance(dtype, pd.SparseDtype)` instead.\n",
      "\n",
      "/Users/reubendayal/anaconda3/envs/mssa60230/lib/python3.10/site-packages/sklearn/utils/validation.py:614: FutureWarning:\n",
      "\n",
      "is_sparse is deprecated and will be removed in a future version. Check `isinstance(dtype, pd.SparseDtype)` instead.\n",
      "\n",
      "/Users/reubendayal/anaconda3/envs/mssa60230/lib/python3.10/site-packages/sklearn/utils/validation.py:767: FutureWarning:\n",
      "\n",
      "is_sparse is deprecated and will be removed in a future version. Check `isinstance(dtype, pd.SparseDtype)` instead.\n",
      "\n",
      "/Users/reubendayal/anaconda3/envs/mssa60230/lib/python3.10/site-packages/sklearn/utils/validation.py:605: FutureWarning:\n",
      "\n",
      "is_sparse is deprecated and will be removed in a future version. Check `isinstance(dtype, pd.SparseDtype)` instead.\n",
      "\n",
      "/Users/reubendayal/anaconda3/envs/mssa60230/lib/python3.10/site-packages/sklearn/utils/validation.py:614: FutureWarning:\n",
      "\n",
      "is_sparse is deprecated and will be removed in a future version. Check `isinstance(dtype, pd.SparseDtype)` instead.\n",
      "\n",
      "/Users/reubendayal/anaconda3/envs/mssa60230/lib/python3.10/site-packages/sklearn/utils/validation.py:605: FutureWarning:\n",
      "\n",
      "is_sparse is deprecated and will be removed in a future version. Check `isinstance(dtype, pd.SparseDtype)` instead.\n",
      "\n",
      "/Users/reubendayal/anaconda3/envs/mssa60230/lib/python3.10/site-packages/sklearn/utils/validation.py:614: FutureWarning:\n",
      "\n",
      "is_sparse is deprecated and will be removed in a future version. Check `isinstance(dtype, pd.SparseDtype)` instead.\n",
      "\n",
      "/Users/reubendayal/anaconda3/envs/mssa60230/lib/python3.10/site-packages/sklearn/utils/validation.py:767: FutureWarning:\n",
      "\n",
      "is_sparse is deprecated and will be removed in a future version. Check `isinstance(dtype, pd.SparseDtype)` instead.\n",
      "\n",
      "/Users/reubendayal/anaconda3/envs/mssa60230/lib/python3.10/site-packages/sklearn/utils/validation.py:605: FutureWarning:\n",
      "\n",
      "is_sparse is deprecated and will be removed in a future version. Check `isinstance(dtype, pd.SparseDtype)` instead.\n",
      "\n",
      "/Users/reubendayal/anaconda3/envs/mssa60230/lib/python3.10/site-packages/sklearn/utils/validation.py:614: FutureWarning:\n",
      "\n",
      "is_sparse is deprecated and will be removed in a future version. Check `isinstance(dtype, pd.SparseDtype)` instead.\n",
      "\n",
      "/Users/reubendayal/anaconda3/envs/mssa60230/lib/python3.10/site-packages/sklearn/utils/validation.py:605: FutureWarning:\n",
      "\n",
      "is_sparse is deprecated and will be removed in a future version. Check `isinstance(dtype, pd.SparseDtype)` instead.\n",
      "\n",
      "/Users/reubendayal/anaconda3/envs/mssa60230/lib/python3.10/site-packages/sklearn/utils/validation.py:614: FutureWarning:\n",
      "\n",
      "is_sparse is deprecated and will be removed in a future version. Check `isinstance(dtype, pd.SparseDtype)` instead.\n",
      "\n"
     ]
    }
   ],
   "source": [
    "from sklearn.linear_model import LinearRegression\n",
    "\n",
    "off_col= [\"FG\", \"FGA\", \"FG%\",'FGA', 'FG%', '3P', '3PA', '3P%', '2P', '2PA', '2P%', 'eFG%', 'FT', 'FTA', 'FT%', 'ORB','AST','PTS'] \n",
    "denver_data_off=denver_data[off_col]\n",
    "\n",
    "denver_data_off\n",
    "\n",
    "def_col=['DRB','TRB','STL','BLK','PF']\n",
    "denver_data_def=denver_data[def_col]\n",
    "\n",
    "denver_data_def\n",
    "\n",
    "gamestart=denver_data[\"GS\"]\n",
    "\n",
    "\n",
    "off_data=LinearRegression().fit(denver_data_off,gamestart)\n",
    "print(off_data.score(denver_data_off,gamestart))\n",
    "\n",
    "def_data=LinearRegression().fit(denver_data_def,gamestart)\n",
    "print(def_data.score(denver_data_def,gamestart))"
   ]
  }
 ],
 "metadata": {
  "kernelspec": {
   "display_name": "mssa60230-1",
   "language": "python",
   "name": "python3"
  },
  "language_info": {
   "codemirror_mode": {
    "name": "ipython",
    "version": 3
   },
   "file_extension": ".py",
   "mimetype": "text/x-python",
   "name": "python",
   "nbconvert_exporter": "python",
   "pygments_lexer": "ipython3",
   "version": "3.10.13"
  },
  "orig_nbformat": 4
 },
 "nbformat": 4,
 "nbformat_minor": 2
}
